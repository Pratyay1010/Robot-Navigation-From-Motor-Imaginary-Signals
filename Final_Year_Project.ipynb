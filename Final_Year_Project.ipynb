{
  "cells": [
    {
      "cell_type": "markdown",
      "metadata": {
        "id": "QWLUuyKH_Oj3"
      },
      "source": [
        "#Data Acquisition"
      ]
    },
    {
      "cell_type": "code",
      "source": [
        "from google.colab import drive\n",
        "drive.mount('/content/drive')"
      ],
      "metadata": {
        "id": "3upSbJQ4LGA-",
        "colab": {
          "base_uri": "https://localhost:8080/"
        },
        "outputId": "232daff1-cc26-456f-a687-ab38d7abbd88"
      },
      "execution_count": 1,
      "outputs": [
        {
          "output_type": "stream",
          "name": "stdout",
          "text": [
            "Mounted at /content/drive\n"
          ]
        }
      ]
    },
    {
      "cell_type": "code",
      "execution_count": 18,
      "metadata": {
        "id": "M4pwBQZkVlfB"
      },
      "outputs": [],
      "source": [
        "%%capture\n",
        "pip install mne"
      ]
    },
    {
      "cell_type": "code",
      "execution_count": 19,
      "metadata": {
        "id": "xUno-rPBWJ3I"
      },
      "outputs": [],
      "source": [
        "import mne\n",
        "import numpy as np\n",
        "import pandas as pd\n",
        "import matplotlib.pyplot as plt\n",
        "import seaborn as sns"
      ]
    },
    {
      "cell_type": "code",
      "source": [
        "cd '/content/drive/MyDrive/Final Year Project/Datasets/S01_ME/'"
      ],
      "metadata": {
        "colab": {
          "base_uri": "https://localhost:8080/"
        },
        "id": "yM23KiurPxfY",
        "outputId": "c1114fd4-7e0c-4452-afac-ff718a70184c"
      },
      "execution_count": 27,
      "outputs": [
        {
          "output_type": "stream",
          "name": "stdout",
          "text": [
            "/content/drive/MyDrive/Final Year Project/Datasets/S01_ME\n"
          ]
        }
      ]
    },
    {
      "cell_type": "code",
      "execution_count": 23,
      "metadata": {
        "id": "83bUBDGuVm4S",
        "colab": {
          "base_uri": "https://localhost:8080/",
          "height": 35
        },
        "outputId": "686cd609-3e77-4e6b-e554-da20e86f38fb"
      },
      "outputs": [
        {
          "output_type": "execute_result",
          "data": {
            "text/plain": [
              "'motorexecution_subject1_run1.gdf'"
            ],
            "application/vnd.google.colaboratory.intrinsic+json": {
              "type": "string"
            }
          },
          "metadata": {},
          "execution_count": 23
        }
      ],
      "source": [
        "import os\n",
        "files = os.listdir(\"/content/drive/MyDrive/Final Year Project/Datasets/S01_ME/\")\n",
        "files[0]"
      ]
    },
    {
      "cell_type": "code",
      "execution_count": 28,
      "metadata": {
        "id": "DiIAbY-YVrnJ"
      },
      "outputs": [],
      "source": [
        "%%capture\n",
        "from mne.io import concatenate_raws, read_raw_gdf\n",
        "\n",
        "raws = [read_raw_gdf(f, preload = True, exclude=['eog-r', 'eog-m','eog-l', 'thumb_near', 'thumb_far', 'thumb_index', 'index_near','index_far', 'index_middle', 'middle_near', 'middle_far', 'middle_ring','ring_near', 'ring_far', 'ring_little', 'litte_near', 'litte_far','thumb_palm', 'wrist_bend', 'roll', 'pitch', 'gesture', 'handPosX','handPosY', 'handPosZ', 'elbowPosX', 'elbowPosY', 'elbowPosZ','ShoulderAdductio', 'ShoulderFlexionE', 'ShoulderRotation', 'Elbow','ProSupination', 'Wrist', 'GripPressure']) for f in files]\n",
        "\n",
        "#Combine all loaded runs\n",
        "raw_data = concatenate_raws(raws)\n",
        "\n",
        "event_id = {'1536': 1, '1537': 2, '1538': 3, '1539': 4, '1540': 5, '1541': 6, '1542': 7}\n",
        "\n",
        "events = mne.events_from_annotations(raw_data, event_id=event_id)[0]\n",
        "epochs = mne.Epochs(raw_data, events, event_id=event_id)"
      ]
    },
    {
      "cell_type": "code",
      "execution_count": 21,
      "metadata": {
        "id": "G2QKxGONV3fo"
      },
      "outputs": [],
      "source": [
        "pd.set_option('display.max_columns', None)"
      ]
    },
    {
      "cell_type": "code",
      "execution_count": 29,
      "metadata": {
        "colab": {
          "base_uri": "https://localhost:8080/"
        },
        "id": "sPRy49WtWnn1",
        "outputId": "2d1cf1dd-7227-43b2-f51f-db37a187b9d2"
      },
      "outputs": [
        {
          "output_type": "stream",
          "name": "stdout",
          "text": [
            "Using data from preloaded Raw for 420 events and 359 original time points ...\n",
            "0 bad epochs dropped\n"
          ]
        }
      ],
      "source": [
        "df = epochs.to_data_frame()"
      ]
    },
    {
      "cell_type": "code",
      "execution_count": 30,
      "metadata": {
        "colab": {
          "base_uri": "https://localhost:8080/",
          "height": 270
        },
        "id": "KDljZzjbXWOU",
        "outputId": "4096a591-911e-4e9e-a61f-bec9e128e5ad"
      },
      "outputs": [
        {
          "output_type": "execute_result",
          "data": {
            "text/plain": [
              "            time condition  epoch         eeg-0         eeg-1         eeg-2  \\\n",
              "49973  -0.058594      1542    139  2.641696e+06  2.460098e+06 -1.379688e+06   \n",
              "37212   0.259766      1537    103  6.815235e+06  5.503227e+06  4.356951e+06   \n",
              "145689  0.375000      1537    405  1.927326e+07  2.080217e+07  1.632006e+07   \n",
              "141218  0.056641      1541    393 -1.691868e+07 -1.485202e+07 -1.280837e+07   \n",
              "118650  0.152344      1542    330 -6.123379e+05  1.253977e+06 -1.824811e+06   \n",
              "\n",
              "               eeg-3         eeg-4         eeg-5         eeg-6         eeg-7  \\\n",
              "49973  -3.837324e+06  1.020579e+06  6.744174e+06  1.176265e+06 -5.176113e+05   \n",
              "37212   9.391189e+06  7.063392e+06  7.574319e+06  5.527512e+06  5.544291e+06   \n",
              "145689  3.328831e+07  3.032416e+07  3.153557e+06  1.937447e+07  1.984942e+07   \n",
              "141218 -4.164138e+06 -2.756348e+06 -2.125920e+07 -1.343546e+07 -1.449896e+07   \n",
              "118650 -2.260756e+06  4.600211e+06  3.312263e+06  2.147494e+06  2.006836e+05   \n",
              "\n",
              "               eeg-8         eeg-9        eeg-10        eeg-11        eeg-12  \\\n",
              "49973  -4.130883e+06 -5.751280e+06  2.342925e+06  1.516636e+07  7.298686e+06   \n",
              "37212   5.737288e+06  6.853184e+06  6.405584e+06  1.175509e+07  2.808252e+06   \n",
              "145689  2.130519e+07  2.240827e+07  2.339728e+07  5.531923e+06  9.580557e+06   \n",
              "141218 -1.052157e+07 -6.819938e+06 -4.214396e+06 -2.212908e+07 -1.721273e+07   \n",
              "118650  3.418021e+06  3.836165e+06  9.948038e+06 -5.714090e+06 -2.221988e+05   \n",
              "\n",
              "              eeg-13        eeg-14        eeg-15        eeg-16        eeg-17  \\\n",
              "49973   1.016540e+06 -4.787839e+06 -4.659384e+06 -2.718944e+06  1.347410e+06   \n",
              "37212   6.775637e+06  2.454738e+06  3.083136e+06  9.034594e+06  6.291897e+06   \n",
              "145689  1.258115e+07  1.897294e+07  1.851605e+07  1.925608e+07  1.200030e+07   \n",
              "141218 -1.270949e+07 -1.058637e+07 -8.875175e+06 -8.091000e+06 -1.250210e+07   \n",
              "118650  2.700996e+06  1.437306e+06  5.720267e+06  4.803265e+05  2.040357e+06   \n",
              "\n",
              "              eeg-18        eeg-19        eeg-20        eeg-21        eeg-22  \\\n",
              "49973   2.099391e+06  4.823681e+06  5.923067e+06  2.578981e+06 -9.628494e+06   \n",
              "37212   9.563702e+06  4.063888e+06 -3.452812e+04 -2.240258e+06 -5.636201e+06   \n",
              "145689 -1.825328e+06  2.016175e+06  1.840247e+07  1.925643e+07  3.286386e+07   \n",
              "141218 -1.323184e+07 -9.456910e+06 -8.539465e+06 -3.233880e+06 -2.191318e+07   \n",
              "118650  2.945087e+06 -1.297780e+06  8.390047e+05  3.718387e+06 -7.362869e+06   \n",
              "\n",
              "              eeg-23        eeg-24        eeg-25        eeg-26        eeg-27  \\\n",
              "49973  -2.886942e+06 -1.299113e+06  3.311163e+06  5.463199e+06  7.462324e+06   \n",
              "37212   1.157506e+06  6.725530e+06  3.033886e+05  4.645343e+06  5.046602e+06   \n",
              "145689  1.523456e+07  5.598581e+06 -4.642554e+06  6.464939e+05  5.137006e+06   \n",
              "141218 -4.504366e+06 -3.169988e+05  1.339526e+05 -1.367680e+07 -6.195483e+06   \n",
              "118650  2.731547e+06  3.448522e+06  6.659244e+06  2.117280e+06  2.695860e+06   \n",
              "\n",
              "              eeg-28        eeg-29        eeg-30        eeg-31        eeg-32  \\\n",
              "49973  -1.162517e+06 -7.248014e+06 -5.474576e+06 -6.966157e+06 -1.834065e+06   \n",
              "37212  -1.647993e+06 -5.843393e+06 -2.105679e+06  4.760001e+06  2.691759e+06   \n",
              "145689  3.475581e+06  2.079687e+06  1.099221e+07  4.854047e+06  2.538906e+06   \n",
              "141218  4.898765e+05  5.197199e+06  7.852487e+06  5.925238e+06 -3.747409e+06   \n",
              "118650  1.960904e+06  3.437777e+06  7.766388e+06 -1.220817e+06  1.867581e+06   \n",
              "\n",
              "              eeg-33        eeg-34        eeg-35        eeg-36        eeg-37  \\\n",
              "49973   2.680529e+06  6.996544e+06  4.024741e+06  3.560838e+06 -5.360676e+06   \n",
              "37212   2.032505e+06  4.594602e+06 -1.808978e+06  5.141175e+04 -4.198662e+06   \n",
              "145689  2.504632e+06 -8.953585e+05  1.095907e+06 -2.585452e+06  2.874329e+06   \n",
              "141218 -1.938879e+07 -1.034535e+07 -5.128811e+06 -2.070490e+06  1.385230e+06   \n",
              "118650 -2.444409e+06 -4.652100e+06  2.743868e+06 -2.611262e+06 -3.422404e+06   \n",
              "\n",
              "              eeg-38        eeg-39        eeg-40        eeg-41        eeg-42  \\\n",
              "49973  -4.956320e+06 -5.120243e+06  1.238224e+06  8.028576e+06  6.620729e+06   \n",
              "37212  -4.664552e+06  3.782784e+06  1.017048e+07  9.974413e+05  3.016561e+06   \n",
              "145689 -2.802343e+06 -6.413366e+06 -1.805409e+07 -1.504721e+07 -2.203824e+06   \n",
              "141218  3.816655e+06  2.602613e+06 -6.963614e+06 -8.641616e+06 -8.399018e+06   \n",
              "118650 -1.397921e+06  4.648746e+05  1.847180e+06 -6.964275e+06 -1.760849e+06   \n",
              "\n",
              "              eeg-43        eeg-44        eeg-45        eeg-46        eeg-47  \\\n",
              "49973   4.637205e+06 -6.162647e+06 -5.769012e+06 -3.808260e+06 -2.807219e+06   \n",
              "37212  -1.157310e+06 -1.106068e+06 -7.774706e+05 -4.342692e+06  9.110813e+06   \n",
              "145689  2.573292e+06 -5.882730e+06 -1.220714e+07  3.522030e+06 -1.810390e+07   \n",
              "141218 -6.366740e+06  6.777012e+06  8.569464e+06  5.512627e+06  1.370209e+07   \n",
              "118650 -2.067715e+06 -1.745997e+06 -3.243586e+06  1.301473e+06 -1.750920e+06   \n",
              "\n",
              "              eeg-48        eeg-49        eeg-50        eeg-51        eeg-52  \\\n",
              "49973   8.893905e+06  2.530515e+06 -8.708818e+06 -8.587398e+06 -2.442151e+06   \n",
              "37212   3.291170e+06 -4.549114e+06 -1.606679e+06 -2.126282e+06 -3.524614e+06   \n",
              "145689 -1.583199e+07 -1.941738e+07 -9.428007e+06 -1.045962e+07 -1.094164e+07   \n",
              "141218 -3.595224e+06  1.762814e+05  1.070142e+07  1.028720e+07  1.065876e+07   \n",
              "118650 -5.370767e+06 -6.705832e+06 -3.625007e+06 -3.087767e+06 -2.181446e+06   \n",
              "\n",
              "              eeg-53        eeg-54        eeg-55        eeg-56        eeg-57  \\\n",
              "49973  -6.904961e+05  2.980898e+06 -5.356744e+06 -1.181238e+07 -6.365765e+06   \n",
              "37212   4.506592e+06 -2.220471e+05 -4.411796e+06 -3.073806e+06 -8.241877e+06   \n",
              "145689 -1.756316e+07 -1.666022e+07 -9.917888e+06 -1.387208e+07 -1.521709e+07   \n",
              "141218  1.061847e+07  6.423553e+05  2.643081e+06  7.114988e+06  1.016158e+07   \n",
              "118650 -2.116818e+05 -9.460333e+06 -3.952037e+06 -7.377913e+06 -8.431406e+06   \n",
              "\n",
              "              eeg-58        eeg-59        eeg-60  \n",
              "49973  -1.189230e+06 -1.076523e+07 -5.012994e+06  \n",
              "37212   3.427081e+06 -5.144009e+06 -1.628600e+06  \n",
              "145689 -1.294247e+07 -1.816298e+07 -2.128887e+07  \n",
              "141218  1.223012e+07  5.688311e+06  1.168270e+07  \n",
              "118650 -5.242109e+06 -1.523137e+07 -7.626723e+06  "
            ],
            "text/html": [
              "\n",
              "  <div id=\"df-70ef6533-09a5-4512-a293-af11e922414b\">\n",
              "    <div class=\"colab-df-container\">\n",
              "      <div>\n",
              "<style scoped>\n",
              "    .dataframe tbody tr th:only-of-type {\n",
              "        vertical-align: middle;\n",
              "    }\n",
              "\n",
              "    .dataframe tbody tr th {\n",
              "        vertical-align: top;\n",
              "    }\n",
              "\n",
              "    .dataframe thead th {\n",
              "        text-align: right;\n",
              "    }\n",
              "</style>\n",
              "<table border=\"1\" class=\"dataframe\">\n",
              "  <thead>\n",
              "    <tr style=\"text-align: right;\">\n",
              "      <th></th>\n",
              "      <th>time</th>\n",
              "      <th>condition</th>\n",
              "      <th>epoch</th>\n",
              "      <th>eeg-0</th>\n",
              "      <th>eeg-1</th>\n",
              "      <th>eeg-2</th>\n",
              "      <th>eeg-3</th>\n",
              "      <th>eeg-4</th>\n",
              "      <th>eeg-5</th>\n",
              "      <th>eeg-6</th>\n",
              "      <th>eeg-7</th>\n",
              "      <th>eeg-8</th>\n",
              "      <th>eeg-9</th>\n",
              "      <th>eeg-10</th>\n",
              "      <th>eeg-11</th>\n",
              "      <th>eeg-12</th>\n",
              "      <th>eeg-13</th>\n",
              "      <th>eeg-14</th>\n",
              "      <th>eeg-15</th>\n",
              "      <th>eeg-16</th>\n",
              "      <th>eeg-17</th>\n",
              "      <th>eeg-18</th>\n",
              "      <th>eeg-19</th>\n",
              "      <th>eeg-20</th>\n",
              "      <th>eeg-21</th>\n",
              "      <th>eeg-22</th>\n",
              "      <th>eeg-23</th>\n",
              "      <th>eeg-24</th>\n",
              "      <th>eeg-25</th>\n",
              "      <th>eeg-26</th>\n",
              "      <th>eeg-27</th>\n",
              "      <th>eeg-28</th>\n",
              "      <th>eeg-29</th>\n",
              "      <th>eeg-30</th>\n",
              "      <th>eeg-31</th>\n",
              "      <th>eeg-32</th>\n",
              "      <th>eeg-33</th>\n",
              "      <th>eeg-34</th>\n",
              "      <th>eeg-35</th>\n",
              "      <th>eeg-36</th>\n",
              "      <th>eeg-37</th>\n",
              "      <th>eeg-38</th>\n",
              "      <th>eeg-39</th>\n",
              "      <th>eeg-40</th>\n",
              "      <th>eeg-41</th>\n",
              "      <th>eeg-42</th>\n",
              "      <th>eeg-43</th>\n",
              "      <th>eeg-44</th>\n",
              "      <th>eeg-45</th>\n",
              "      <th>eeg-46</th>\n",
              "      <th>eeg-47</th>\n",
              "      <th>eeg-48</th>\n",
              "      <th>eeg-49</th>\n",
              "      <th>eeg-50</th>\n",
              "      <th>eeg-51</th>\n",
              "      <th>eeg-52</th>\n",
              "      <th>eeg-53</th>\n",
              "      <th>eeg-54</th>\n",
              "      <th>eeg-55</th>\n",
              "      <th>eeg-56</th>\n",
              "      <th>eeg-57</th>\n",
              "      <th>eeg-58</th>\n",
              "      <th>eeg-59</th>\n",
              "      <th>eeg-60</th>\n",
              "    </tr>\n",
              "  </thead>\n",
              "  <tbody>\n",
              "    <tr>\n",
              "      <th>49973</th>\n",
              "      <td>-0.058594</td>\n",
              "      <td>1542</td>\n",
              "      <td>139</td>\n",
              "      <td>2.641696e+06</td>\n",
              "      <td>2.460098e+06</td>\n",
              "      <td>-1.379688e+06</td>\n",
              "      <td>-3.837324e+06</td>\n",
              "      <td>1.020579e+06</td>\n",
              "      <td>6.744174e+06</td>\n",
              "      <td>1.176265e+06</td>\n",
              "      <td>-5.176113e+05</td>\n",
              "      <td>-4.130883e+06</td>\n",
              "      <td>-5.751280e+06</td>\n",
              "      <td>2.342925e+06</td>\n",
              "      <td>1.516636e+07</td>\n",
              "      <td>7.298686e+06</td>\n",
              "      <td>1.016540e+06</td>\n",
              "      <td>-4.787839e+06</td>\n",
              "      <td>-4.659384e+06</td>\n",
              "      <td>-2.718944e+06</td>\n",
              "      <td>1.347410e+06</td>\n",
              "      <td>2.099391e+06</td>\n",
              "      <td>4.823681e+06</td>\n",
              "      <td>5.923067e+06</td>\n",
              "      <td>2.578981e+06</td>\n",
              "      <td>-9.628494e+06</td>\n",
              "      <td>-2.886942e+06</td>\n",
              "      <td>-1.299113e+06</td>\n",
              "      <td>3.311163e+06</td>\n",
              "      <td>5.463199e+06</td>\n",
              "      <td>7.462324e+06</td>\n",
              "      <td>-1.162517e+06</td>\n",
              "      <td>-7.248014e+06</td>\n",
              "      <td>-5.474576e+06</td>\n",
              "      <td>-6.966157e+06</td>\n",
              "      <td>-1.834065e+06</td>\n",
              "      <td>2.680529e+06</td>\n",
              "      <td>6.996544e+06</td>\n",
              "      <td>4.024741e+06</td>\n",
              "      <td>3.560838e+06</td>\n",
              "      <td>-5.360676e+06</td>\n",
              "      <td>-4.956320e+06</td>\n",
              "      <td>-5.120243e+06</td>\n",
              "      <td>1.238224e+06</td>\n",
              "      <td>8.028576e+06</td>\n",
              "      <td>6.620729e+06</td>\n",
              "      <td>4.637205e+06</td>\n",
              "      <td>-6.162647e+06</td>\n",
              "      <td>-5.769012e+06</td>\n",
              "      <td>-3.808260e+06</td>\n",
              "      <td>-2.807219e+06</td>\n",
              "      <td>8.893905e+06</td>\n",
              "      <td>2.530515e+06</td>\n",
              "      <td>-8.708818e+06</td>\n",
              "      <td>-8.587398e+06</td>\n",
              "      <td>-2.442151e+06</td>\n",
              "      <td>-6.904961e+05</td>\n",
              "      <td>2.980898e+06</td>\n",
              "      <td>-5.356744e+06</td>\n",
              "      <td>-1.181238e+07</td>\n",
              "      <td>-6.365765e+06</td>\n",
              "      <td>-1.189230e+06</td>\n",
              "      <td>-1.076523e+07</td>\n",
              "      <td>-5.012994e+06</td>\n",
              "    </tr>\n",
              "    <tr>\n",
              "      <th>37212</th>\n",
              "      <td>0.259766</td>\n",
              "      <td>1537</td>\n",
              "      <td>103</td>\n",
              "      <td>6.815235e+06</td>\n",
              "      <td>5.503227e+06</td>\n",
              "      <td>4.356951e+06</td>\n",
              "      <td>9.391189e+06</td>\n",
              "      <td>7.063392e+06</td>\n",
              "      <td>7.574319e+06</td>\n",
              "      <td>5.527512e+06</td>\n",
              "      <td>5.544291e+06</td>\n",
              "      <td>5.737288e+06</td>\n",
              "      <td>6.853184e+06</td>\n",
              "      <td>6.405584e+06</td>\n",
              "      <td>1.175509e+07</td>\n",
              "      <td>2.808252e+06</td>\n",
              "      <td>6.775637e+06</td>\n",
              "      <td>2.454738e+06</td>\n",
              "      <td>3.083136e+06</td>\n",
              "      <td>9.034594e+06</td>\n",
              "      <td>6.291897e+06</td>\n",
              "      <td>9.563702e+06</td>\n",
              "      <td>4.063888e+06</td>\n",
              "      <td>-3.452812e+04</td>\n",
              "      <td>-2.240258e+06</td>\n",
              "      <td>-5.636201e+06</td>\n",
              "      <td>1.157506e+06</td>\n",
              "      <td>6.725530e+06</td>\n",
              "      <td>3.033886e+05</td>\n",
              "      <td>4.645343e+06</td>\n",
              "      <td>5.046602e+06</td>\n",
              "      <td>-1.647993e+06</td>\n",
              "      <td>-5.843393e+06</td>\n",
              "      <td>-2.105679e+06</td>\n",
              "      <td>4.760001e+06</td>\n",
              "      <td>2.691759e+06</td>\n",
              "      <td>2.032505e+06</td>\n",
              "      <td>4.594602e+06</td>\n",
              "      <td>-1.808978e+06</td>\n",
              "      <td>5.141175e+04</td>\n",
              "      <td>-4.198662e+06</td>\n",
              "      <td>-4.664552e+06</td>\n",
              "      <td>3.782784e+06</td>\n",
              "      <td>1.017048e+07</td>\n",
              "      <td>9.974413e+05</td>\n",
              "      <td>3.016561e+06</td>\n",
              "      <td>-1.157310e+06</td>\n",
              "      <td>-1.106068e+06</td>\n",
              "      <td>-7.774706e+05</td>\n",
              "      <td>-4.342692e+06</td>\n",
              "      <td>9.110813e+06</td>\n",
              "      <td>3.291170e+06</td>\n",
              "      <td>-4.549114e+06</td>\n",
              "      <td>-1.606679e+06</td>\n",
              "      <td>-2.126282e+06</td>\n",
              "      <td>-3.524614e+06</td>\n",
              "      <td>4.506592e+06</td>\n",
              "      <td>-2.220471e+05</td>\n",
              "      <td>-4.411796e+06</td>\n",
              "      <td>-3.073806e+06</td>\n",
              "      <td>-8.241877e+06</td>\n",
              "      <td>3.427081e+06</td>\n",
              "      <td>-5.144009e+06</td>\n",
              "      <td>-1.628600e+06</td>\n",
              "    </tr>\n",
              "    <tr>\n",
              "      <th>145689</th>\n",
              "      <td>0.375000</td>\n",
              "      <td>1537</td>\n",
              "      <td>405</td>\n",
              "      <td>1.927326e+07</td>\n",
              "      <td>2.080217e+07</td>\n",
              "      <td>1.632006e+07</td>\n",
              "      <td>3.328831e+07</td>\n",
              "      <td>3.032416e+07</td>\n",
              "      <td>3.153557e+06</td>\n",
              "      <td>1.937447e+07</td>\n",
              "      <td>1.984942e+07</td>\n",
              "      <td>2.130519e+07</td>\n",
              "      <td>2.240827e+07</td>\n",
              "      <td>2.339728e+07</td>\n",
              "      <td>5.531923e+06</td>\n",
              "      <td>9.580557e+06</td>\n",
              "      <td>1.258115e+07</td>\n",
              "      <td>1.897294e+07</td>\n",
              "      <td>1.851605e+07</td>\n",
              "      <td>1.925608e+07</td>\n",
              "      <td>1.200030e+07</td>\n",
              "      <td>-1.825328e+06</td>\n",
              "      <td>2.016175e+06</td>\n",
              "      <td>1.840247e+07</td>\n",
              "      <td>1.925643e+07</td>\n",
              "      <td>3.286386e+07</td>\n",
              "      <td>1.523456e+07</td>\n",
              "      <td>5.598581e+06</td>\n",
              "      <td>-4.642554e+06</td>\n",
              "      <td>6.464939e+05</td>\n",
              "      <td>5.137006e+06</td>\n",
              "      <td>3.475581e+06</td>\n",
              "      <td>2.079687e+06</td>\n",
              "      <td>1.099221e+07</td>\n",
              "      <td>4.854047e+06</td>\n",
              "      <td>2.538906e+06</td>\n",
              "      <td>2.504632e+06</td>\n",
              "      <td>-8.953585e+05</td>\n",
              "      <td>1.095907e+06</td>\n",
              "      <td>-2.585452e+06</td>\n",
              "      <td>2.874329e+06</td>\n",
              "      <td>-2.802343e+06</td>\n",
              "      <td>-6.413366e+06</td>\n",
              "      <td>-1.805409e+07</td>\n",
              "      <td>-1.504721e+07</td>\n",
              "      <td>-2.203824e+06</td>\n",
              "      <td>2.573292e+06</td>\n",
              "      <td>-5.882730e+06</td>\n",
              "      <td>-1.220714e+07</td>\n",
              "      <td>3.522030e+06</td>\n",
              "      <td>-1.810390e+07</td>\n",
              "      <td>-1.583199e+07</td>\n",
              "      <td>-1.941738e+07</td>\n",
              "      <td>-9.428007e+06</td>\n",
              "      <td>-1.045962e+07</td>\n",
              "      <td>-1.094164e+07</td>\n",
              "      <td>-1.756316e+07</td>\n",
              "      <td>-1.666022e+07</td>\n",
              "      <td>-9.917888e+06</td>\n",
              "      <td>-1.387208e+07</td>\n",
              "      <td>-1.521709e+07</td>\n",
              "      <td>-1.294247e+07</td>\n",
              "      <td>-1.816298e+07</td>\n",
              "      <td>-2.128887e+07</td>\n",
              "    </tr>\n",
              "    <tr>\n",
              "      <th>141218</th>\n",
              "      <td>0.056641</td>\n",
              "      <td>1541</td>\n",
              "      <td>393</td>\n",
              "      <td>-1.691868e+07</td>\n",
              "      <td>-1.485202e+07</td>\n",
              "      <td>-1.280837e+07</td>\n",
              "      <td>-4.164138e+06</td>\n",
              "      <td>-2.756348e+06</td>\n",
              "      <td>-2.125920e+07</td>\n",
              "      <td>-1.343546e+07</td>\n",
              "      <td>-1.449896e+07</td>\n",
              "      <td>-1.052157e+07</td>\n",
              "      <td>-6.819938e+06</td>\n",
              "      <td>-4.214396e+06</td>\n",
              "      <td>-2.212908e+07</td>\n",
              "      <td>-1.721273e+07</td>\n",
              "      <td>-1.270949e+07</td>\n",
              "      <td>-1.058637e+07</td>\n",
              "      <td>-8.875175e+06</td>\n",
              "      <td>-8.091000e+06</td>\n",
              "      <td>-1.250210e+07</td>\n",
              "      <td>-1.323184e+07</td>\n",
              "      <td>-9.456910e+06</td>\n",
              "      <td>-8.539465e+06</td>\n",
              "      <td>-3.233880e+06</td>\n",
              "      <td>-2.191318e+07</td>\n",
              "      <td>-4.504366e+06</td>\n",
              "      <td>-3.169988e+05</td>\n",
              "      <td>1.339526e+05</td>\n",
              "      <td>-1.367680e+07</td>\n",
              "      <td>-6.195483e+06</td>\n",
              "      <td>4.898765e+05</td>\n",
              "      <td>5.197199e+06</td>\n",
              "      <td>7.852487e+06</td>\n",
              "      <td>5.925238e+06</td>\n",
              "      <td>-3.747409e+06</td>\n",
              "      <td>-1.938879e+07</td>\n",
              "      <td>-1.034535e+07</td>\n",
              "      <td>-5.128811e+06</td>\n",
              "      <td>-2.070490e+06</td>\n",
              "      <td>1.385230e+06</td>\n",
              "      <td>3.816655e+06</td>\n",
              "      <td>2.602613e+06</td>\n",
              "      <td>-6.963614e+06</td>\n",
              "      <td>-8.641616e+06</td>\n",
              "      <td>-8.399018e+06</td>\n",
              "      <td>-6.366740e+06</td>\n",
              "      <td>6.777012e+06</td>\n",
              "      <td>8.569464e+06</td>\n",
              "      <td>5.512627e+06</td>\n",
              "      <td>1.370209e+07</td>\n",
              "      <td>-3.595224e+06</td>\n",
              "      <td>1.762814e+05</td>\n",
              "      <td>1.070142e+07</td>\n",
              "      <td>1.028720e+07</td>\n",
              "      <td>1.065876e+07</td>\n",
              "      <td>1.061847e+07</td>\n",
              "      <td>6.423553e+05</td>\n",
              "      <td>2.643081e+06</td>\n",
              "      <td>7.114988e+06</td>\n",
              "      <td>1.016158e+07</td>\n",
              "      <td>1.223012e+07</td>\n",
              "      <td>5.688311e+06</td>\n",
              "      <td>1.168270e+07</td>\n",
              "    </tr>\n",
              "    <tr>\n",
              "      <th>118650</th>\n",
              "      <td>0.152344</td>\n",
              "      <td>1542</td>\n",
              "      <td>330</td>\n",
              "      <td>-6.123379e+05</td>\n",
              "      <td>1.253977e+06</td>\n",
              "      <td>-1.824811e+06</td>\n",
              "      <td>-2.260756e+06</td>\n",
              "      <td>4.600211e+06</td>\n",
              "      <td>3.312263e+06</td>\n",
              "      <td>2.147494e+06</td>\n",
              "      <td>2.006836e+05</td>\n",
              "      <td>3.418021e+06</td>\n",
              "      <td>3.836165e+06</td>\n",
              "      <td>9.948038e+06</td>\n",
              "      <td>-5.714090e+06</td>\n",
              "      <td>-2.221988e+05</td>\n",
              "      <td>2.700996e+06</td>\n",
              "      <td>1.437306e+06</td>\n",
              "      <td>5.720267e+06</td>\n",
              "      <td>4.803265e+05</td>\n",
              "      <td>2.040357e+06</td>\n",
              "      <td>2.945087e+06</td>\n",
              "      <td>-1.297780e+06</td>\n",
              "      <td>8.390047e+05</td>\n",
              "      <td>3.718387e+06</td>\n",
              "      <td>-7.362869e+06</td>\n",
              "      <td>2.731547e+06</td>\n",
              "      <td>3.448522e+06</td>\n",
              "      <td>6.659244e+06</td>\n",
              "      <td>2.117280e+06</td>\n",
              "      <td>2.695860e+06</td>\n",
              "      <td>1.960904e+06</td>\n",
              "      <td>3.437777e+06</td>\n",
              "      <td>7.766388e+06</td>\n",
              "      <td>-1.220817e+06</td>\n",
              "      <td>1.867581e+06</td>\n",
              "      <td>-2.444409e+06</td>\n",
              "      <td>-4.652100e+06</td>\n",
              "      <td>2.743868e+06</td>\n",
              "      <td>-2.611262e+06</td>\n",
              "      <td>-3.422404e+06</td>\n",
              "      <td>-1.397921e+06</td>\n",
              "      <td>4.648746e+05</td>\n",
              "      <td>1.847180e+06</td>\n",
              "      <td>-6.964275e+06</td>\n",
              "      <td>-1.760849e+06</td>\n",
              "      <td>-2.067715e+06</td>\n",
              "      <td>-1.745997e+06</td>\n",
              "      <td>-3.243586e+06</td>\n",
              "      <td>1.301473e+06</td>\n",
              "      <td>-1.750920e+06</td>\n",
              "      <td>-5.370767e+06</td>\n",
              "      <td>-6.705832e+06</td>\n",
              "      <td>-3.625007e+06</td>\n",
              "      <td>-3.087767e+06</td>\n",
              "      <td>-2.181446e+06</td>\n",
              "      <td>-2.116818e+05</td>\n",
              "      <td>-9.460333e+06</td>\n",
              "      <td>-3.952037e+06</td>\n",
              "      <td>-7.377913e+06</td>\n",
              "      <td>-8.431406e+06</td>\n",
              "      <td>-5.242109e+06</td>\n",
              "      <td>-1.523137e+07</td>\n",
              "      <td>-7.626723e+06</td>\n",
              "    </tr>\n",
              "  </tbody>\n",
              "</table>\n",
              "</div>\n",
              "      <button class=\"colab-df-convert\" onclick=\"convertToInteractive('df-70ef6533-09a5-4512-a293-af11e922414b')\"\n",
              "              title=\"Convert this dataframe to an interactive table.\"\n",
              "              style=\"display:none;\">\n",
              "        \n",
              "  <svg xmlns=\"http://www.w3.org/2000/svg\" height=\"24px\"viewBox=\"0 0 24 24\"\n",
              "       width=\"24px\">\n",
              "    <path d=\"M0 0h24v24H0V0z\" fill=\"none\"/>\n",
              "    <path d=\"M18.56 5.44l.94 2.06.94-2.06 2.06-.94-2.06-.94-.94-2.06-.94 2.06-2.06.94zm-11 1L8.5 8.5l.94-2.06 2.06-.94-2.06-.94L8.5 2.5l-.94 2.06-2.06.94zm10 10l.94 2.06.94-2.06 2.06-.94-2.06-.94-.94-2.06-.94 2.06-2.06.94z\"/><path d=\"M17.41 7.96l-1.37-1.37c-.4-.4-.92-.59-1.43-.59-.52 0-1.04.2-1.43.59L10.3 9.45l-7.72 7.72c-.78.78-.78 2.05 0 2.83L4 21.41c.39.39.9.59 1.41.59.51 0 1.02-.2 1.41-.59l7.78-7.78 2.81-2.81c.8-.78.8-2.07 0-2.86zM5.41 20L4 18.59l7.72-7.72 1.47 1.35L5.41 20z\"/>\n",
              "  </svg>\n",
              "      </button>\n",
              "      \n",
              "  <style>\n",
              "    .colab-df-container {\n",
              "      display:flex;\n",
              "      flex-wrap:wrap;\n",
              "      gap: 12px;\n",
              "    }\n",
              "\n",
              "    .colab-df-convert {\n",
              "      background-color: #E8F0FE;\n",
              "      border: none;\n",
              "      border-radius: 50%;\n",
              "      cursor: pointer;\n",
              "      display: none;\n",
              "      fill: #1967D2;\n",
              "      height: 32px;\n",
              "      padding: 0 0 0 0;\n",
              "      width: 32px;\n",
              "    }\n",
              "\n",
              "    .colab-df-convert:hover {\n",
              "      background-color: #E2EBFA;\n",
              "      box-shadow: 0px 1px 2px rgba(60, 64, 67, 0.3), 0px 1px 3px 1px rgba(60, 64, 67, 0.15);\n",
              "      fill: #174EA6;\n",
              "    }\n",
              "\n",
              "    [theme=dark] .colab-df-convert {\n",
              "      background-color: #3B4455;\n",
              "      fill: #D2E3FC;\n",
              "    }\n",
              "\n",
              "    [theme=dark] .colab-df-convert:hover {\n",
              "      background-color: #434B5C;\n",
              "      box-shadow: 0px 1px 3px 1px rgba(0, 0, 0, 0.15);\n",
              "      filter: drop-shadow(0px 1px 2px rgba(0, 0, 0, 0.3));\n",
              "      fill: #FFFFFF;\n",
              "    }\n",
              "  </style>\n",
              "\n",
              "      <script>\n",
              "        const buttonEl =\n",
              "          document.querySelector('#df-70ef6533-09a5-4512-a293-af11e922414b button.colab-df-convert');\n",
              "        buttonEl.style.display =\n",
              "          google.colab.kernel.accessAllowed ? 'block' : 'none';\n",
              "\n",
              "        async function convertToInteractive(key) {\n",
              "          const element = document.querySelector('#df-70ef6533-09a5-4512-a293-af11e922414b');\n",
              "          const dataTable =\n",
              "            await google.colab.kernel.invokeFunction('convertToInteractive',\n",
              "                                                     [key], {});\n",
              "          if (!dataTable) return;\n",
              "\n",
              "          const docLinkHtml = 'Like what you see? Visit the ' +\n",
              "            '<a target=\"_blank\" href=https://colab.research.google.com/notebooks/data_table.ipynb>data table notebook</a>'\n",
              "            + ' to learn more about interactive tables.';\n",
              "          element.innerHTML = '';\n",
              "          dataTable['output_type'] = 'display_data';\n",
              "          await google.colab.output.renderOutput(dataTable, element);\n",
              "          const docLink = document.createElement('div');\n",
              "          docLink.innerHTML = docLinkHtml;\n",
              "          element.appendChild(docLink);\n",
              "        }\n",
              "      </script>\n",
              "    </div>\n",
              "  </div>\n",
              "  "
            ]
          },
          "metadata": {},
          "execution_count": 30
        }
      ],
      "source": [
        "df.sample(5)"
      ]
    },
    {
      "cell_type": "code",
      "execution_count": 31,
      "metadata": {
        "colab": {
          "base_uri": "https://localhost:8080/"
        },
        "id": "ugJrwnjiE-E7",
        "outputId": "2e5329c7-aa07-4360-d5ba-f0ad1c09fa0d"
      },
      "outputs": [
        {
          "output_type": "stream",
          "name": "stdout",
          "text": [
            "<class 'pandas.core.frame.DataFrame'>\n",
            "RangeIndex: 150780 entries, 0 to 150779\n",
            "Data columns (total 64 columns):\n",
            " #   Column     Non-Null Count   Dtype  \n",
            "---  ------     --------------   -----  \n",
            " 0   time       150780 non-null  float64\n",
            " 1   condition  150780 non-null  object \n",
            " 2   epoch      150780 non-null  int64  \n",
            " 3   eeg-0      150780 non-null  float64\n",
            " 4   eeg-1      150780 non-null  float64\n",
            " 5   eeg-2      150780 non-null  float64\n",
            " 6   eeg-3      150780 non-null  float64\n",
            " 7   eeg-4      150780 non-null  float64\n",
            " 8   eeg-5      150780 non-null  float64\n",
            " 9   eeg-6      150780 non-null  float64\n",
            " 10  eeg-7      150780 non-null  float64\n",
            " 11  eeg-8      150780 non-null  float64\n",
            " 12  eeg-9      150780 non-null  float64\n",
            " 13  eeg-10     150780 non-null  float64\n",
            " 14  eeg-11     150780 non-null  float64\n",
            " 15  eeg-12     150780 non-null  float64\n",
            " 16  eeg-13     150780 non-null  float64\n",
            " 17  eeg-14     150780 non-null  float64\n",
            " 18  eeg-15     150780 non-null  float64\n",
            " 19  eeg-16     150780 non-null  float64\n",
            " 20  eeg-17     150780 non-null  float64\n",
            " 21  eeg-18     150780 non-null  float64\n",
            " 22  eeg-19     150780 non-null  float64\n",
            " 23  eeg-20     150780 non-null  float64\n",
            " 24  eeg-21     150780 non-null  float64\n",
            " 25  eeg-22     150780 non-null  float64\n",
            " 26  eeg-23     150780 non-null  float64\n",
            " 27  eeg-24     150780 non-null  float64\n",
            " 28  eeg-25     150780 non-null  float64\n",
            " 29  eeg-26     150780 non-null  float64\n",
            " 30  eeg-27     150780 non-null  float64\n",
            " 31  eeg-28     150780 non-null  float64\n",
            " 32  eeg-29     150780 non-null  float64\n",
            " 33  eeg-30     150780 non-null  float64\n",
            " 34  eeg-31     150780 non-null  float64\n",
            " 35  eeg-32     150780 non-null  float64\n",
            " 36  eeg-33     150780 non-null  float64\n",
            " 37  eeg-34     150780 non-null  float64\n",
            " 38  eeg-35     150780 non-null  float64\n",
            " 39  eeg-36     150780 non-null  float64\n",
            " 40  eeg-37     150780 non-null  float64\n",
            " 41  eeg-38     150780 non-null  float64\n",
            " 42  eeg-39     150780 non-null  float64\n",
            " 43  eeg-40     150780 non-null  float64\n",
            " 44  eeg-41     150780 non-null  float64\n",
            " 45  eeg-42     150780 non-null  float64\n",
            " 46  eeg-43     150780 non-null  float64\n",
            " 47  eeg-44     150780 non-null  float64\n",
            " 48  eeg-45     150780 non-null  float64\n",
            " 49  eeg-46     150780 non-null  float64\n",
            " 50  eeg-47     150780 non-null  float64\n",
            " 51  eeg-48     150780 non-null  float64\n",
            " 52  eeg-49     150780 non-null  float64\n",
            " 53  eeg-50     150780 non-null  float64\n",
            " 54  eeg-51     150780 non-null  float64\n",
            " 55  eeg-52     150780 non-null  float64\n",
            " 56  eeg-53     150780 non-null  float64\n",
            " 57  eeg-54     150780 non-null  float64\n",
            " 58  eeg-55     150780 non-null  float64\n",
            " 59  eeg-56     150780 non-null  float64\n",
            " 60  eeg-57     150780 non-null  float64\n",
            " 61  eeg-58     150780 non-null  float64\n",
            " 62  eeg-59     150780 non-null  float64\n",
            " 63  eeg-60     150780 non-null  float64\n",
            "dtypes: float64(62), int64(1), object(1)\n",
            "memory usage: 73.6+ MB\n"
          ]
        }
      ],
      "source": [
        "df.info()"
      ]
    },
    {
      "cell_type": "code",
      "execution_count": 32,
      "metadata": {
        "id": "HyCeYWzFFbhU"
      },
      "outputs": [],
      "source": [
        "df[\"condition\"]  = df[\"condition\"].replace(event_id)"
      ]
    },
    {
      "cell_type": "code",
      "execution_count": 33,
      "metadata": {
        "colab": {
          "base_uri": "https://localhost:8080/"
        },
        "id": "T8h7lq21YB16",
        "outputId": "4049dd32-02dc-4a07-c0ae-794bfb16f645"
      },
      "outputs": [
        {
          "output_type": "execute_result",
          "data": {
            "text/plain": [
              "time         7.516126e-17\n",
              "condition    1.000000e+00\n",
              "epoch        3.760643e-03\n",
              "eeg-0        3.713400e-02\n",
              "eeg-1        3.755051e-02\n",
              "                 ...     \n",
              "eeg-56       4.341851e-02\n",
              "eeg-57       4.483570e-02\n",
              "eeg-58       4.616428e-02\n",
              "eeg-59       4.593332e-02\n",
              "eeg-60       4.226221e-02\n",
              "Name: condition, Length: 64, dtype: float64"
            ]
          },
          "metadata": {},
          "execution_count": 33
        }
      ],
      "source": [
        "df.corr()[\"condition\"]"
      ]
    },
    {
      "cell_type": "code",
      "execution_count": 34,
      "metadata": {
        "id": "j7njwKnqPdvn"
      },
      "outputs": [],
      "source": [
        "for i in df.isnull().sum():\n",
        "  if i>0:\n",
        "    print(i)"
      ]
    },
    {
      "cell_type": "code",
      "execution_count": 35,
      "metadata": {
        "colab": {
          "base_uri": "https://localhost:8080/",
          "height": 364
        },
        "id": "YppysGWRYlNA",
        "outputId": "c3d341ea-eb7f-45b3-8888-c3c2e2684e41"
      },
      "outputs": [
        {
          "output_type": "execute_result",
          "data": {
            "text/plain": [
              "                time      condition          epoch         eeg-0  \\\n",
              "count  150780.000000  150780.000000  150780.000000  1.507800e+05   \n",
              "mean        0.150391       4.000000     209.500000  3.040924e+05   \n",
              "std         0.202411       2.000007     121.243615  4.090030e+07   \n",
              "min        -0.199219       1.000000       0.000000 -3.236120e+08   \n",
              "25%        -0.025391       2.000000     104.750000 -1.063954e+07   \n",
              "50%         0.150391       4.000000     209.500000 -1.330789e+06   \n",
              "75%         0.326172       6.000000     314.250000  7.988549e+06   \n",
              "max         0.500000       7.000000     419.000000  7.555874e+08   \n",
              "\n",
              "              eeg-1         eeg-2         eeg-3         eeg-4         eeg-5  \\\n",
              "count  1.507800e+05  1.507800e+05  1.507800e+05  1.507800e+05  1.507800e+05   \n",
              "mean   3.904455e+05  6.159914e+05  6.563183e+05  9.073418e+05  8.066133e+05   \n",
              "std    4.111546e+07  4.267090e+07  4.079301e+07  3.994457e+07  4.404713e+07   \n",
              "min   -3.286734e+08 -3.437411e+08 -3.309618e+08 -3.191259e+08 -3.582858e+08   \n",
              "25%   -1.046231e+07 -1.032652e+07 -1.020180e+07 -1.090514e+07 -1.128445e+07   \n",
              "50%   -1.306776e+06 -1.062865e+06 -8.522641e+05 -5.428621e+05 -1.191470e+06   \n",
              "75%    7.934761e+06  8.306054e+06  8.532397e+06  9.933013e+06  8.945751e+06   \n",
              "max    7.621852e+08  7.944218e+08  7.491158e+08  7.123159e+08  8.111957e+08   \n",
              "\n",
              "              eeg-6         eeg-7         eeg-8         eeg-9        eeg-10  \\\n",
              "count  1.507800e+05  1.507800e+05  1.507800e+05  1.507800e+05  1.507800e+05   \n",
              "mean   8.252750e+05  4.234343e+05  7.866904e+05  8.872944e+05  1.444582e+06   \n",
              "std    5.057393e+07  4.140217e+07  4.194410e+07  3.995742e+07  4.089455e+07   \n",
              "min   -4.185564e+08 -3.282002e+08 -3.392894e+08 -3.321269e+08 -3.353418e+08   \n",
              "25%   -1.081182e+07 -1.047505e+07 -1.032187e+07 -1.026054e+07 -1.001898e+07   \n",
              "50%   -1.363298e+06 -1.271321e+06 -9.631656e+05 -6.424134e+05 -6.807968e+04   \n",
              "75%    8.140850e+06  7.996651e+06  8.487040e+06  8.920689e+06  9.933414e+06   \n",
              "max    9.654541e+08  7.713193e+08  7.855087e+08  7.400239e+08  7.469159e+08   \n",
              "\n",
              "             eeg-11        eeg-12        eeg-13        eeg-14        eeg-15  \\\n",
              "count  1.507800e+05  1.507800e+05  1.507800e+05  1.507800e+05  1.507800e+05   \n",
              "mean   1.172104e+06  7.096358e+05  6.670358e+05  6.908041e+05  1.150046e+06   \n",
              "std    4.271656e+07  4.016768e+07  4.454501e+07  4.227533e+07  4.280550e+07   \n",
              "min   -3.366318e+08 -3.141733e+08 -3.655110e+08 -3.468184e+08 -3.582778e+08   \n",
              "25%   -1.066313e+07 -1.046596e+07 -1.056743e+07 -1.048744e+07 -9.921562e+06   \n",
              "50%   -9.989073e+05 -1.162873e+06 -1.287081e+06 -1.164681e+06 -7.139288e+05   \n",
              "75%    8.733681e+06  8.246924e+06  8.135422e+06  8.305723e+06  8.621146e+06   \n",
              "max    7.886377e+08  7.522734e+08  8.432093e+08  7.951884e+08  8.043257e+08   \n",
              "\n",
              "             eeg-16        eeg-17        eeg-18        eeg-19        eeg-20  \\\n",
              "count  1.507800e+05  1.507800e+05  1.507800e+05  1.507800e+05  1.507800e+05   \n",
              "mean   1.475850e+06  1.983573e+06  1.025838e+06  9.558358e+05  4.308786e+05   \n",
              "std    4.312214e+07  4.935318e+07  4.053402e+07  3.790169e+07  3.494585e+07   \n",
              "min   -3.638814e+08 -4.020620e+08 -3.250890e+08 -3.002955e+08 -2.700301e+08   \n",
              "25%   -9.669807e+06 -1.065912e+07 -9.536437e+06 -9.306736e+06 -1.019837e+07   \n",
              "50%   -3.435651e+05 -3.501427e+05 -1.059453e+06 -1.116769e+06 -1.108694e+06   \n",
              "75%    9.087686e+06  1.011014e+07  7.536331e+06  7.288020e+06  7.991426e+06   \n",
              "max    8.190178e+08  9.124869e+08  7.692674e+08  7.153554e+08  6.416093e+08   \n",
              "\n",
              "             eeg-21        eeg-22        eeg-23        eeg-24        eeg-25  \\\n",
              "count  1.507800e+05  1.507800e+05  1.507800e+05  1.507800e+05  1.507800e+05   \n",
              "mean   6.315176e+05  7.318078e+05  1.025056e+06  1.776717e+06  1.677430e+06   \n",
              "std    3.678396e+07  4.544459e+07  3.774788e+07  4.111142e+07  3.760695e+07   \n",
              "min   -2.865155e+08 -3.536386e+08 -3.087204e+08 -3.397478e+08 -3.160365e+08   \n",
              "25%   -9.877569e+06 -1.337801e+07 -9.084971e+06 -7.720647e+06 -7.332393e+06   \n",
              "50%   -9.526983e+05 -1.335764e+06 -6.455647e+05 -1.301957e+05  2.912740e+04   \n",
              "75%    7.986947e+06  1.108935e+07  7.937064e+06  7.631941e+06  7.427970e+06   \n",
              "max    6.855670e+08  8.157057e+08  7.137220e+08  7.917083e+08  7.170257e+08   \n",
              "\n",
              "             eeg-26        eeg-27        eeg-28        eeg-29        eeg-30  \\\n",
              "count  1.507800e+05  1.507800e+05  1.507800e+05  1.507800e+05  1.507800e+05   \n",
              "mean   1.001965e+06  6.413329e+05  6.309667e+05  6.263928e+05  1.208440e+06   \n",
              "std    3.906598e+07  3.696784e+07  3.604669e+07  3.580105e+07  4.123520e+07   \n",
              "min   -3.098148e+08 -2.825767e+08 -2.710664e+08 -2.741065e+08 -3.332873e+08   \n",
              "25%   -9.417106e+06 -1.010105e+07 -1.014618e+07 -9.732269e+06 -9.049683e+06   \n",
              "50%   -1.095688e+06 -1.170884e+06 -8.921716e+05 -8.447574e+05 -5.618766e+05   \n",
              "75%    7.413574e+06  7.962920e+06  8.429463e+06  8.026189e+06  7.857083e+06   \n",
              "max    7.417666e+08  6.840255e+08  6.679373e+08  6.725398e+08  7.938319e+08   \n",
              "\n",
              "             eeg-31        eeg-32        eeg-33        eeg-34        eeg-35  \\\n",
              "count  1.507800e+05  1.507800e+05  1.507800e+05  1.507800e+05  1.507800e+05   \n",
              "mean   9.485775e+05  1.657960e+06  9.405394e+05  6.222663e+05  6.805751e+05   \n",
              "std    3.386228e+07  3.838781e+07  3.750080e+07  3.718102e+07  3.578466e+07   \n",
              "min   -2.759471e+08 -3.106250e+08 -2.949170e+08 -2.802943e+08 -2.673764e+08   \n",
              "25%   -8.373669e+06 -7.808267e+06 -1.033543e+07 -1.045304e+07 -1.009174e+07   \n",
              "50%   -6.560841e+05 -1.292594e+05 -1.317041e+06 -1.487607e+06 -8.434644e+05   \n",
              "75%    7.289865e+06  7.722963e+06  8.040296e+06  7.780032e+06  8.499137e+06   \n",
              "max    6.395893e+08  7.382467e+08  6.991873e+08  6.896025e+08  6.623615e+08   \n",
              "\n",
              "             eeg-36        eeg-37        eeg-38        eeg-39        eeg-40  \\\n",
              "count  1.507800e+05  1.507800e+05  1.507800e+05  1.507800e+05  1.507800e+05   \n",
              "mean   6.262022e+05  6.492632e+05  5.500572e+05  1.316349e+06  1.280071e+06   \n",
              "std    3.583714e+07  3.547233e+07  3.456067e+07  3.674723e+07  3.444864e+07   \n",
              "min   -2.685199e+08 -2.697863e+08 -2.637676e+08 -2.976588e+08 -2.774775e+08   \n",
              "25%   -1.013877e+07 -9.718602e+06 -9.445611e+06 -7.906792e+06 -8.235327e+06   \n",
              "50%   -8.906771e+05 -8.328372e+05 -8.900466e+05 -3.952767e+05 -9.969471e+04   \n",
              "75%    8.496826e+06  8.043520e+06  7.720709e+06  7.351123e+06  8.006839e+06   \n",
              "max    6.632453e+08  6.657486e+08  6.627708e+08  7.070346e+08  6.584205e+08   \n",
              "\n",
              "             eeg-41        eeg-42        eeg-43        eeg-44        eeg-45  \\\n",
              "count  1.507800e+05  1.507800e+05  1.507800e+05  1.507800e+05  1.507800e+05   \n",
              "mean   8.580413e+05  6.579303e+05  6.232092e+05  4.303923e+05  4.087398e+05   \n",
              "std    4.232305e+07  3.554313e+07  3.514229e+07  3.543428e+07  3.510668e+07   \n",
              "min   -3.336860e+08 -2.598499e+08 -2.615078e+08 -2.601980e+08 -2.591096e+08   \n",
              "25%   -1.048544e+07 -1.051985e+07 -1.018152e+07 -1.120376e+07 -1.060325e+07   \n",
              "50%   -1.414145e+06 -1.001084e+06 -8.390224e+05 -7.433584e+05 -8.686903e+05   \n",
              "75%    8.056501e+06  8.713113e+06  8.549866e+06  9.661986e+06  8.851646e+06   \n",
              "max    7.948472e+08  6.522996e+08  6.462235e+08  6.416004e+08  6.503981e+08   \n",
              "\n",
              "             eeg-46        eeg-47        eeg-48        eeg-49        eeg-50  \\\n",
              "count  1.507800e+05  1.507800e+05  1.507800e+05  1.507800e+05  1.507800e+05   \n",
              "mean   9.459701e+05  1.101252e+06  5.401176e+05  4.840760e+05  4.114190e+05   \n",
              "std    3.568015e+07  3.428525e+07  3.558877e+07  3.842711e+07  3.814859e+07   \n",
              "min   -2.764608e+08 -2.702168e+08 -2.644194e+08 -2.828298e+08 -2.823988e+08   \n",
              "25%   -9.046196e+06 -8.289990e+06 -1.117974e+07 -1.171955e+07 -1.223146e+07   \n",
              "50%   -5.712582e+05 -4.615526e+05 -1.189429e+06 -1.043342e+06 -7.997786e+05   \n",
              "75%    7.985801e+06  7.483555e+06  8.924457e+06  9.735257e+06  1.057342e+07   \n",
              "max    6.777307e+08  6.526244e+08  6.440091e+08  7.041624e+08  6.844253e+08   \n",
              "\n",
              "             eeg-51        eeg-52        eeg-53        eeg-54        eeg-55  \\\n",
              "count  1.507800e+05  1.507800e+05  1.507800e+05  1.507800e+05  1.507800e+05   \n",
              "mean   2.871595e+05  5.556663e+05  9.058447e+05  6.524437e+05  4.657224e+05   \n",
              "std    3.735157e+07  3.554626e+07  3.465838e+07  3.747495e+07  3.972644e+07   \n",
              "min   -2.768330e+08 -2.631531e+08 -2.651358e+08 -2.679872e+08 -2.840378e+08   \n",
              "25%   -1.196902e+07 -1.049046e+07 -8.883185e+06 -1.197891e+07 -1.298533e+07   \n",
              "50%   -9.002496e+05 -6.914940e+05 -6.006962e+05 -8.853167e+05 -9.509514e+05   \n",
              "75%    1.022277e+07  9.069486e+06  7.779529e+06  1.024246e+07  1.114783e+07   \n",
              "max    6.751926e+08  6.600491e+08  6.585910e+08  6.736428e+08  7.142543e+08   \n",
              "\n",
              "             eeg-56        eeg-57        eeg-58        eeg-59        eeg-60  \n",
              "count  1.507800e+05  1.507800e+05  1.507800e+05  1.507800e+05  1.507800e+05  \n",
              "mean   4.925001e+05  4.759672e+05  6.832715e+05  3.402824e+05  4.100545e+05  \n",
              "std    3.914543e+07  3.844467e+07  3.694882e+07  3.801439e+07  3.957666e+07  \n",
              "min   -2.872883e+08 -2.864799e+08 -2.822774e+08 -2.728022e+08 -2.856684e+08  \n",
              "25%   -1.316466e+07 -1.233701e+07 -1.049579e+07 -1.401496e+07 -1.336085e+07  \n",
              "50%   -6.274201e+05 -6.829964e+05 -6.811808e+05 -7.384258e+05 -7.147110e+05  \n",
              "75%    1.176365e+07  1.102512e+07  9.095754e+06  1.257571e+07  1.197635e+07  \n",
              "max    6.871517e+08  6.921215e+08  6.912782e+08  6.474110e+08  7.014474e+08  "
            ],
            "text/html": [
              "\n",
              "  <div id=\"df-02083df7-e658-4e51-810a-1fce85690f05\">\n",
              "    <div class=\"colab-df-container\">\n",
              "      <div>\n",
              "<style scoped>\n",
              "    .dataframe tbody tr th:only-of-type {\n",
              "        vertical-align: middle;\n",
              "    }\n",
              "\n",
              "    .dataframe tbody tr th {\n",
              "        vertical-align: top;\n",
              "    }\n",
              "\n",
              "    .dataframe thead th {\n",
              "        text-align: right;\n",
              "    }\n",
              "</style>\n",
              "<table border=\"1\" class=\"dataframe\">\n",
              "  <thead>\n",
              "    <tr style=\"text-align: right;\">\n",
              "      <th></th>\n",
              "      <th>time</th>\n",
              "      <th>condition</th>\n",
              "      <th>epoch</th>\n",
              "      <th>eeg-0</th>\n",
              "      <th>eeg-1</th>\n",
              "      <th>eeg-2</th>\n",
              "      <th>eeg-3</th>\n",
              "      <th>eeg-4</th>\n",
              "      <th>eeg-5</th>\n",
              "      <th>eeg-6</th>\n",
              "      <th>eeg-7</th>\n",
              "      <th>eeg-8</th>\n",
              "      <th>eeg-9</th>\n",
              "      <th>eeg-10</th>\n",
              "      <th>eeg-11</th>\n",
              "      <th>eeg-12</th>\n",
              "      <th>eeg-13</th>\n",
              "      <th>eeg-14</th>\n",
              "      <th>eeg-15</th>\n",
              "      <th>eeg-16</th>\n",
              "      <th>eeg-17</th>\n",
              "      <th>eeg-18</th>\n",
              "      <th>eeg-19</th>\n",
              "      <th>eeg-20</th>\n",
              "      <th>eeg-21</th>\n",
              "      <th>eeg-22</th>\n",
              "      <th>eeg-23</th>\n",
              "      <th>eeg-24</th>\n",
              "      <th>eeg-25</th>\n",
              "      <th>eeg-26</th>\n",
              "      <th>eeg-27</th>\n",
              "      <th>eeg-28</th>\n",
              "      <th>eeg-29</th>\n",
              "      <th>eeg-30</th>\n",
              "      <th>eeg-31</th>\n",
              "      <th>eeg-32</th>\n",
              "      <th>eeg-33</th>\n",
              "      <th>eeg-34</th>\n",
              "      <th>eeg-35</th>\n",
              "      <th>eeg-36</th>\n",
              "      <th>eeg-37</th>\n",
              "      <th>eeg-38</th>\n",
              "      <th>eeg-39</th>\n",
              "      <th>eeg-40</th>\n",
              "      <th>eeg-41</th>\n",
              "      <th>eeg-42</th>\n",
              "      <th>eeg-43</th>\n",
              "      <th>eeg-44</th>\n",
              "      <th>eeg-45</th>\n",
              "      <th>eeg-46</th>\n",
              "      <th>eeg-47</th>\n",
              "      <th>eeg-48</th>\n",
              "      <th>eeg-49</th>\n",
              "      <th>eeg-50</th>\n",
              "      <th>eeg-51</th>\n",
              "      <th>eeg-52</th>\n",
              "      <th>eeg-53</th>\n",
              "      <th>eeg-54</th>\n",
              "      <th>eeg-55</th>\n",
              "      <th>eeg-56</th>\n",
              "      <th>eeg-57</th>\n",
              "      <th>eeg-58</th>\n",
              "      <th>eeg-59</th>\n",
              "      <th>eeg-60</th>\n",
              "    </tr>\n",
              "  </thead>\n",
              "  <tbody>\n",
              "    <tr>\n",
              "      <th>count</th>\n",
              "      <td>150780.000000</td>\n",
              "      <td>150780.000000</td>\n",
              "      <td>150780.000000</td>\n",
              "      <td>1.507800e+05</td>\n",
              "      <td>1.507800e+05</td>\n",
              "      <td>1.507800e+05</td>\n",
              "      <td>1.507800e+05</td>\n",
              "      <td>1.507800e+05</td>\n",
              "      <td>1.507800e+05</td>\n",
              "      <td>1.507800e+05</td>\n",
              "      <td>1.507800e+05</td>\n",
              "      <td>1.507800e+05</td>\n",
              "      <td>1.507800e+05</td>\n",
              "      <td>1.507800e+05</td>\n",
              "      <td>1.507800e+05</td>\n",
              "      <td>1.507800e+05</td>\n",
              "      <td>1.507800e+05</td>\n",
              "      <td>1.507800e+05</td>\n",
              "      <td>1.507800e+05</td>\n",
              "      <td>1.507800e+05</td>\n",
              "      <td>1.507800e+05</td>\n",
              "      <td>1.507800e+05</td>\n",
              "      <td>1.507800e+05</td>\n",
              "      <td>1.507800e+05</td>\n",
              "      <td>1.507800e+05</td>\n",
              "      <td>1.507800e+05</td>\n",
              "      <td>1.507800e+05</td>\n",
              "      <td>1.507800e+05</td>\n",
              "      <td>1.507800e+05</td>\n",
              "      <td>1.507800e+05</td>\n",
              "      <td>1.507800e+05</td>\n",
              "      <td>1.507800e+05</td>\n",
              "      <td>1.507800e+05</td>\n",
              "      <td>1.507800e+05</td>\n",
              "      <td>1.507800e+05</td>\n",
              "      <td>1.507800e+05</td>\n",
              "      <td>1.507800e+05</td>\n",
              "      <td>1.507800e+05</td>\n",
              "      <td>1.507800e+05</td>\n",
              "      <td>1.507800e+05</td>\n",
              "      <td>1.507800e+05</td>\n",
              "      <td>1.507800e+05</td>\n",
              "      <td>1.507800e+05</td>\n",
              "      <td>1.507800e+05</td>\n",
              "      <td>1.507800e+05</td>\n",
              "      <td>1.507800e+05</td>\n",
              "      <td>1.507800e+05</td>\n",
              "      <td>1.507800e+05</td>\n",
              "      <td>1.507800e+05</td>\n",
              "      <td>1.507800e+05</td>\n",
              "      <td>1.507800e+05</td>\n",
              "      <td>1.507800e+05</td>\n",
              "      <td>1.507800e+05</td>\n",
              "      <td>1.507800e+05</td>\n",
              "      <td>1.507800e+05</td>\n",
              "      <td>1.507800e+05</td>\n",
              "      <td>1.507800e+05</td>\n",
              "      <td>1.507800e+05</td>\n",
              "      <td>1.507800e+05</td>\n",
              "      <td>1.507800e+05</td>\n",
              "      <td>1.507800e+05</td>\n",
              "      <td>1.507800e+05</td>\n",
              "      <td>1.507800e+05</td>\n",
              "      <td>1.507800e+05</td>\n",
              "    </tr>\n",
              "    <tr>\n",
              "      <th>mean</th>\n",
              "      <td>0.150391</td>\n",
              "      <td>4.000000</td>\n",
              "      <td>209.500000</td>\n",
              "      <td>3.040924e+05</td>\n",
              "      <td>3.904455e+05</td>\n",
              "      <td>6.159914e+05</td>\n",
              "      <td>6.563183e+05</td>\n",
              "      <td>9.073418e+05</td>\n",
              "      <td>8.066133e+05</td>\n",
              "      <td>8.252750e+05</td>\n",
              "      <td>4.234343e+05</td>\n",
              "      <td>7.866904e+05</td>\n",
              "      <td>8.872944e+05</td>\n",
              "      <td>1.444582e+06</td>\n",
              "      <td>1.172104e+06</td>\n",
              "      <td>7.096358e+05</td>\n",
              "      <td>6.670358e+05</td>\n",
              "      <td>6.908041e+05</td>\n",
              "      <td>1.150046e+06</td>\n",
              "      <td>1.475850e+06</td>\n",
              "      <td>1.983573e+06</td>\n",
              "      <td>1.025838e+06</td>\n",
              "      <td>9.558358e+05</td>\n",
              "      <td>4.308786e+05</td>\n",
              "      <td>6.315176e+05</td>\n",
              "      <td>7.318078e+05</td>\n",
              "      <td>1.025056e+06</td>\n",
              "      <td>1.776717e+06</td>\n",
              "      <td>1.677430e+06</td>\n",
              "      <td>1.001965e+06</td>\n",
              "      <td>6.413329e+05</td>\n",
              "      <td>6.309667e+05</td>\n",
              "      <td>6.263928e+05</td>\n",
              "      <td>1.208440e+06</td>\n",
              "      <td>9.485775e+05</td>\n",
              "      <td>1.657960e+06</td>\n",
              "      <td>9.405394e+05</td>\n",
              "      <td>6.222663e+05</td>\n",
              "      <td>6.805751e+05</td>\n",
              "      <td>6.262022e+05</td>\n",
              "      <td>6.492632e+05</td>\n",
              "      <td>5.500572e+05</td>\n",
              "      <td>1.316349e+06</td>\n",
              "      <td>1.280071e+06</td>\n",
              "      <td>8.580413e+05</td>\n",
              "      <td>6.579303e+05</td>\n",
              "      <td>6.232092e+05</td>\n",
              "      <td>4.303923e+05</td>\n",
              "      <td>4.087398e+05</td>\n",
              "      <td>9.459701e+05</td>\n",
              "      <td>1.101252e+06</td>\n",
              "      <td>5.401176e+05</td>\n",
              "      <td>4.840760e+05</td>\n",
              "      <td>4.114190e+05</td>\n",
              "      <td>2.871595e+05</td>\n",
              "      <td>5.556663e+05</td>\n",
              "      <td>9.058447e+05</td>\n",
              "      <td>6.524437e+05</td>\n",
              "      <td>4.657224e+05</td>\n",
              "      <td>4.925001e+05</td>\n",
              "      <td>4.759672e+05</td>\n",
              "      <td>6.832715e+05</td>\n",
              "      <td>3.402824e+05</td>\n",
              "      <td>4.100545e+05</td>\n",
              "    </tr>\n",
              "    <tr>\n",
              "      <th>std</th>\n",
              "      <td>0.202411</td>\n",
              "      <td>2.000007</td>\n",
              "      <td>121.243615</td>\n",
              "      <td>4.090030e+07</td>\n",
              "      <td>4.111546e+07</td>\n",
              "      <td>4.267090e+07</td>\n",
              "      <td>4.079301e+07</td>\n",
              "      <td>3.994457e+07</td>\n",
              "      <td>4.404713e+07</td>\n",
              "      <td>5.057393e+07</td>\n",
              "      <td>4.140217e+07</td>\n",
              "      <td>4.194410e+07</td>\n",
              "      <td>3.995742e+07</td>\n",
              "      <td>4.089455e+07</td>\n",
              "      <td>4.271656e+07</td>\n",
              "      <td>4.016768e+07</td>\n",
              "      <td>4.454501e+07</td>\n",
              "      <td>4.227533e+07</td>\n",
              "      <td>4.280550e+07</td>\n",
              "      <td>4.312214e+07</td>\n",
              "      <td>4.935318e+07</td>\n",
              "      <td>4.053402e+07</td>\n",
              "      <td>3.790169e+07</td>\n",
              "      <td>3.494585e+07</td>\n",
              "      <td>3.678396e+07</td>\n",
              "      <td>4.544459e+07</td>\n",
              "      <td>3.774788e+07</td>\n",
              "      <td>4.111142e+07</td>\n",
              "      <td>3.760695e+07</td>\n",
              "      <td>3.906598e+07</td>\n",
              "      <td>3.696784e+07</td>\n",
              "      <td>3.604669e+07</td>\n",
              "      <td>3.580105e+07</td>\n",
              "      <td>4.123520e+07</td>\n",
              "      <td>3.386228e+07</td>\n",
              "      <td>3.838781e+07</td>\n",
              "      <td>3.750080e+07</td>\n",
              "      <td>3.718102e+07</td>\n",
              "      <td>3.578466e+07</td>\n",
              "      <td>3.583714e+07</td>\n",
              "      <td>3.547233e+07</td>\n",
              "      <td>3.456067e+07</td>\n",
              "      <td>3.674723e+07</td>\n",
              "      <td>3.444864e+07</td>\n",
              "      <td>4.232305e+07</td>\n",
              "      <td>3.554313e+07</td>\n",
              "      <td>3.514229e+07</td>\n",
              "      <td>3.543428e+07</td>\n",
              "      <td>3.510668e+07</td>\n",
              "      <td>3.568015e+07</td>\n",
              "      <td>3.428525e+07</td>\n",
              "      <td>3.558877e+07</td>\n",
              "      <td>3.842711e+07</td>\n",
              "      <td>3.814859e+07</td>\n",
              "      <td>3.735157e+07</td>\n",
              "      <td>3.554626e+07</td>\n",
              "      <td>3.465838e+07</td>\n",
              "      <td>3.747495e+07</td>\n",
              "      <td>3.972644e+07</td>\n",
              "      <td>3.914543e+07</td>\n",
              "      <td>3.844467e+07</td>\n",
              "      <td>3.694882e+07</td>\n",
              "      <td>3.801439e+07</td>\n",
              "      <td>3.957666e+07</td>\n",
              "    </tr>\n",
              "    <tr>\n",
              "      <th>min</th>\n",
              "      <td>-0.199219</td>\n",
              "      <td>1.000000</td>\n",
              "      <td>0.000000</td>\n",
              "      <td>-3.236120e+08</td>\n",
              "      <td>-3.286734e+08</td>\n",
              "      <td>-3.437411e+08</td>\n",
              "      <td>-3.309618e+08</td>\n",
              "      <td>-3.191259e+08</td>\n",
              "      <td>-3.582858e+08</td>\n",
              "      <td>-4.185564e+08</td>\n",
              "      <td>-3.282002e+08</td>\n",
              "      <td>-3.392894e+08</td>\n",
              "      <td>-3.321269e+08</td>\n",
              "      <td>-3.353418e+08</td>\n",
              "      <td>-3.366318e+08</td>\n",
              "      <td>-3.141733e+08</td>\n",
              "      <td>-3.655110e+08</td>\n",
              "      <td>-3.468184e+08</td>\n",
              "      <td>-3.582778e+08</td>\n",
              "      <td>-3.638814e+08</td>\n",
              "      <td>-4.020620e+08</td>\n",
              "      <td>-3.250890e+08</td>\n",
              "      <td>-3.002955e+08</td>\n",
              "      <td>-2.700301e+08</td>\n",
              "      <td>-2.865155e+08</td>\n",
              "      <td>-3.536386e+08</td>\n",
              "      <td>-3.087204e+08</td>\n",
              "      <td>-3.397478e+08</td>\n",
              "      <td>-3.160365e+08</td>\n",
              "      <td>-3.098148e+08</td>\n",
              "      <td>-2.825767e+08</td>\n",
              "      <td>-2.710664e+08</td>\n",
              "      <td>-2.741065e+08</td>\n",
              "      <td>-3.332873e+08</td>\n",
              "      <td>-2.759471e+08</td>\n",
              "      <td>-3.106250e+08</td>\n",
              "      <td>-2.949170e+08</td>\n",
              "      <td>-2.802943e+08</td>\n",
              "      <td>-2.673764e+08</td>\n",
              "      <td>-2.685199e+08</td>\n",
              "      <td>-2.697863e+08</td>\n",
              "      <td>-2.637676e+08</td>\n",
              "      <td>-2.976588e+08</td>\n",
              "      <td>-2.774775e+08</td>\n",
              "      <td>-3.336860e+08</td>\n",
              "      <td>-2.598499e+08</td>\n",
              "      <td>-2.615078e+08</td>\n",
              "      <td>-2.601980e+08</td>\n",
              "      <td>-2.591096e+08</td>\n",
              "      <td>-2.764608e+08</td>\n",
              "      <td>-2.702168e+08</td>\n",
              "      <td>-2.644194e+08</td>\n",
              "      <td>-2.828298e+08</td>\n",
              "      <td>-2.823988e+08</td>\n",
              "      <td>-2.768330e+08</td>\n",
              "      <td>-2.631531e+08</td>\n",
              "      <td>-2.651358e+08</td>\n",
              "      <td>-2.679872e+08</td>\n",
              "      <td>-2.840378e+08</td>\n",
              "      <td>-2.872883e+08</td>\n",
              "      <td>-2.864799e+08</td>\n",
              "      <td>-2.822774e+08</td>\n",
              "      <td>-2.728022e+08</td>\n",
              "      <td>-2.856684e+08</td>\n",
              "    </tr>\n",
              "    <tr>\n",
              "      <th>25%</th>\n",
              "      <td>-0.025391</td>\n",
              "      <td>2.000000</td>\n",
              "      <td>104.750000</td>\n",
              "      <td>-1.063954e+07</td>\n",
              "      <td>-1.046231e+07</td>\n",
              "      <td>-1.032652e+07</td>\n",
              "      <td>-1.020180e+07</td>\n",
              "      <td>-1.090514e+07</td>\n",
              "      <td>-1.128445e+07</td>\n",
              "      <td>-1.081182e+07</td>\n",
              "      <td>-1.047505e+07</td>\n",
              "      <td>-1.032187e+07</td>\n",
              "      <td>-1.026054e+07</td>\n",
              "      <td>-1.001898e+07</td>\n",
              "      <td>-1.066313e+07</td>\n",
              "      <td>-1.046596e+07</td>\n",
              "      <td>-1.056743e+07</td>\n",
              "      <td>-1.048744e+07</td>\n",
              "      <td>-9.921562e+06</td>\n",
              "      <td>-9.669807e+06</td>\n",
              "      <td>-1.065912e+07</td>\n",
              "      <td>-9.536437e+06</td>\n",
              "      <td>-9.306736e+06</td>\n",
              "      <td>-1.019837e+07</td>\n",
              "      <td>-9.877569e+06</td>\n",
              "      <td>-1.337801e+07</td>\n",
              "      <td>-9.084971e+06</td>\n",
              "      <td>-7.720647e+06</td>\n",
              "      <td>-7.332393e+06</td>\n",
              "      <td>-9.417106e+06</td>\n",
              "      <td>-1.010105e+07</td>\n",
              "      <td>-1.014618e+07</td>\n",
              "      <td>-9.732269e+06</td>\n",
              "      <td>-9.049683e+06</td>\n",
              "      <td>-8.373669e+06</td>\n",
              "      <td>-7.808267e+06</td>\n",
              "      <td>-1.033543e+07</td>\n",
              "      <td>-1.045304e+07</td>\n",
              "      <td>-1.009174e+07</td>\n",
              "      <td>-1.013877e+07</td>\n",
              "      <td>-9.718602e+06</td>\n",
              "      <td>-9.445611e+06</td>\n",
              "      <td>-7.906792e+06</td>\n",
              "      <td>-8.235327e+06</td>\n",
              "      <td>-1.048544e+07</td>\n",
              "      <td>-1.051985e+07</td>\n",
              "      <td>-1.018152e+07</td>\n",
              "      <td>-1.120376e+07</td>\n",
              "      <td>-1.060325e+07</td>\n",
              "      <td>-9.046196e+06</td>\n",
              "      <td>-8.289990e+06</td>\n",
              "      <td>-1.117974e+07</td>\n",
              "      <td>-1.171955e+07</td>\n",
              "      <td>-1.223146e+07</td>\n",
              "      <td>-1.196902e+07</td>\n",
              "      <td>-1.049046e+07</td>\n",
              "      <td>-8.883185e+06</td>\n",
              "      <td>-1.197891e+07</td>\n",
              "      <td>-1.298533e+07</td>\n",
              "      <td>-1.316466e+07</td>\n",
              "      <td>-1.233701e+07</td>\n",
              "      <td>-1.049579e+07</td>\n",
              "      <td>-1.401496e+07</td>\n",
              "      <td>-1.336085e+07</td>\n",
              "    </tr>\n",
              "    <tr>\n",
              "      <th>50%</th>\n",
              "      <td>0.150391</td>\n",
              "      <td>4.000000</td>\n",
              "      <td>209.500000</td>\n",
              "      <td>-1.330789e+06</td>\n",
              "      <td>-1.306776e+06</td>\n",
              "      <td>-1.062865e+06</td>\n",
              "      <td>-8.522641e+05</td>\n",
              "      <td>-5.428621e+05</td>\n",
              "      <td>-1.191470e+06</td>\n",
              "      <td>-1.363298e+06</td>\n",
              "      <td>-1.271321e+06</td>\n",
              "      <td>-9.631656e+05</td>\n",
              "      <td>-6.424134e+05</td>\n",
              "      <td>-6.807968e+04</td>\n",
              "      <td>-9.989073e+05</td>\n",
              "      <td>-1.162873e+06</td>\n",
              "      <td>-1.287081e+06</td>\n",
              "      <td>-1.164681e+06</td>\n",
              "      <td>-7.139288e+05</td>\n",
              "      <td>-3.435651e+05</td>\n",
              "      <td>-3.501427e+05</td>\n",
              "      <td>-1.059453e+06</td>\n",
              "      <td>-1.116769e+06</td>\n",
              "      <td>-1.108694e+06</td>\n",
              "      <td>-9.526983e+05</td>\n",
              "      <td>-1.335764e+06</td>\n",
              "      <td>-6.455647e+05</td>\n",
              "      <td>-1.301957e+05</td>\n",
              "      <td>2.912740e+04</td>\n",
              "      <td>-1.095688e+06</td>\n",
              "      <td>-1.170884e+06</td>\n",
              "      <td>-8.921716e+05</td>\n",
              "      <td>-8.447574e+05</td>\n",
              "      <td>-5.618766e+05</td>\n",
              "      <td>-6.560841e+05</td>\n",
              "      <td>-1.292594e+05</td>\n",
              "      <td>-1.317041e+06</td>\n",
              "      <td>-1.487607e+06</td>\n",
              "      <td>-8.434644e+05</td>\n",
              "      <td>-8.906771e+05</td>\n",
              "      <td>-8.328372e+05</td>\n",
              "      <td>-8.900466e+05</td>\n",
              "      <td>-3.952767e+05</td>\n",
              "      <td>-9.969471e+04</td>\n",
              "      <td>-1.414145e+06</td>\n",
              "      <td>-1.001084e+06</td>\n",
              "      <td>-8.390224e+05</td>\n",
              "      <td>-7.433584e+05</td>\n",
              "      <td>-8.686903e+05</td>\n",
              "      <td>-5.712582e+05</td>\n",
              "      <td>-4.615526e+05</td>\n",
              "      <td>-1.189429e+06</td>\n",
              "      <td>-1.043342e+06</td>\n",
              "      <td>-7.997786e+05</td>\n",
              "      <td>-9.002496e+05</td>\n",
              "      <td>-6.914940e+05</td>\n",
              "      <td>-6.006962e+05</td>\n",
              "      <td>-8.853167e+05</td>\n",
              "      <td>-9.509514e+05</td>\n",
              "      <td>-6.274201e+05</td>\n",
              "      <td>-6.829964e+05</td>\n",
              "      <td>-6.811808e+05</td>\n",
              "      <td>-7.384258e+05</td>\n",
              "      <td>-7.147110e+05</td>\n",
              "    </tr>\n",
              "    <tr>\n",
              "      <th>75%</th>\n",
              "      <td>0.326172</td>\n",
              "      <td>6.000000</td>\n",
              "      <td>314.250000</td>\n",
              "      <td>7.988549e+06</td>\n",
              "      <td>7.934761e+06</td>\n",
              "      <td>8.306054e+06</td>\n",
              "      <td>8.532397e+06</td>\n",
              "      <td>9.933013e+06</td>\n",
              "      <td>8.945751e+06</td>\n",
              "      <td>8.140850e+06</td>\n",
              "      <td>7.996651e+06</td>\n",
              "      <td>8.487040e+06</td>\n",
              "      <td>8.920689e+06</td>\n",
              "      <td>9.933414e+06</td>\n",
              "      <td>8.733681e+06</td>\n",
              "      <td>8.246924e+06</td>\n",
              "      <td>8.135422e+06</td>\n",
              "      <td>8.305723e+06</td>\n",
              "      <td>8.621146e+06</td>\n",
              "      <td>9.087686e+06</td>\n",
              "      <td>1.011014e+07</td>\n",
              "      <td>7.536331e+06</td>\n",
              "      <td>7.288020e+06</td>\n",
              "      <td>7.991426e+06</td>\n",
              "      <td>7.986947e+06</td>\n",
              "      <td>1.108935e+07</td>\n",
              "      <td>7.937064e+06</td>\n",
              "      <td>7.631941e+06</td>\n",
              "      <td>7.427970e+06</td>\n",
              "      <td>7.413574e+06</td>\n",
              "      <td>7.962920e+06</td>\n",
              "      <td>8.429463e+06</td>\n",
              "      <td>8.026189e+06</td>\n",
              "      <td>7.857083e+06</td>\n",
              "      <td>7.289865e+06</td>\n",
              "      <td>7.722963e+06</td>\n",
              "      <td>8.040296e+06</td>\n",
              "      <td>7.780032e+06</td>\n",
              "      <td>8.499137e+06</td>\n",
              "      <td>8.496826e+06</td>\n",
              "      <td>8.043520e+06</td>\n",
              "      <td>7.720709e+06</td>\n",
              "      <td>7.351123e+06</td>\n",
              "      <td>8.006839e+06</td>\n",
              "      <td>8.056501e+06</td>\n",
              "      <td>8.713113e+06</td>\n",
              "      <td>8.549866e+06</td>\n",
              "      <td>9.661986e+06</td>\n",
              "      <td>8.851646e+06</td>\n",
              "      <td>7.985801e+06</td>\n",
              "      <td>7.483555e+06</td>\n",
              "      <td>8.924457e+06</td>\n",
              "      <td>9.735257e+06</td>\n",
              "      <td>1.057342e+07</td>\n",
              "      <td>1.022277e+07</td>\n",
              "      <td>9.069486e+06</td>\n",
              "      <td>7.779529e+06</td>\n",
              "      <td>1.024246e+07</td>\n",
              "      <td>1.114783e+07</td>\n",
              "      <td>1.176365e+07</td>\n",
              "      <td>1.102512e+07</td>\n",
              "      <td>9.095754e+06</td>\n",
              "      <td>1.257571e+07</td>\n",
              "      <td>1.197635e+07</td>\n",
              "    </tr>\n",
              "    <tr>\n",
              "      <th>max</th>\n",
              "      <td>0.500000</td>\n",
              "      <td>7.000000</td>\n",
              "      <td>419.000000</td>\n",
              "      <td>7.555874e+08</td>\n",
              "      <td>7.621852e+08</td>\n",
              "      <td>7.944218e+08</td>\n",
              "      <td>7.491158e+08</td>\n",
              "      <td>7.123159e+08</td>\n",
              "      <td>8.111957e+08</td>\n",
              "      <td>9.654541e+08</td>\n",
              "      <td>7.713193e+08</td>\n",
              "      <td>7.855087e+08</td>\n",
              "      <td>7.400239e+08</td>\n",
              "      <td>7.469159e+08</td>\n",
              "      <td>7.886377e+08</td>\n",
              "      <td>7.522734e+08</td>\n",
              "      <td>8.432093e+08</td>\n",
              "      <td>7.951884e+08</td>\n",
              "      <td>8.043257e+08</td>\n",
              "      <td>8.190178e+08</td>\n",
              "      <td>9.124869e+08</td>\n",
              "      <td>7.692674e+08</td>\n",
              "      <td>7.153554e+08</td>\n",
              "      <td>6.416093e+08</td>\n",
              "      <td>6.855670e+08</td>\n",
              "      <td>8.157057e+08</td>\n",
              "      <td>7.137220e+08</td>\n",
              "      <td>7.917083e+08</td>\n",
              "      <td>7.170257e+08</td>\n",
              "      <td>7.417666e+08</td>\n",
              "      <td>6.840255e+08</td>\n",
              "      <td>6.679373e+08</td>\n",
              "      <td>6.725398e+08</td>\n",
              "      <td>7.938319e+08</td>\n",
              "      <td>6.395893e+08</td>\n",
              "      <td>7.382467e+08</td>\n",
              "      <td>6.991873e+08</td>\n",
              "      <td>6.896025e+08</td>\n",
              "      <td>6.623615e+08</td>\n",
              "      <td>6.632453e+08</td>\n",
              "      <td>6.657486e+08</td>\n",
              "      <td>6.627708e+08</td>\n",
              "      <td>7.070346e+08</td>\n",
              "      <td>6.584205e+08</td>\n",
              "      <td>7.948472e+08</td>\n",
              "      <td>6.522996e+08</td>\n",
              "      <td>6.462235e+08</td>\n",
              "      <td>6.416004e+08</td>\n",
              "      <td>6.503981e+08</td>\n",
              "      <td>6.777307e+08</td>\n",
              "      <td>6.526244e+08</td>\n",
              "      <td>6.440091e+08</td>\n",
              "      <td>7.041624e+08</td>\n",
              "      <td>6.844253e+08</td>\n",
              "      <td>6.751926e+08</td>\n",
              "      <td>6.600491e+08</td>\n",
              "      <td>6.585910e+08</td>\n",
              "      <td>6.736428e+08</td>\n",
              "      <td>7.142543e+08</td>\n",
              "      <td>6.871517e+08</td>\n",
              "      <td>6.921215e+08</td>\n",
              "      <td>6.912782e+08</td>\n",
              "      <td>6.474110e+08</td>\n",
              "      <td>7.014474e+08</td>\n",
              "    </tr>\n",
              "  </tbody>\n",
              "</table>\n",
              "</div>\n",
              "      <button class=\"colab-df-convert\" onclick=\"convertToInteractive('df-02083df7-e658-4e51-810a-1fce85690f05')\"\n",
              "              title=\"Convert this dataframe to an interactive table.\"\n",
              "              style=\"display:none;\">\n",
              "        \n",
              "  <svg xmlns=\"http://www.w3.org/2000/svg\" height=\"24px\"viewBox=\"0 0 24 24\"\n",
              "       width=\"24px\">\n",
              "    <path d=\"M0 0h24v24H0V0z\" fill=\"none\"/>\n",
              "    <path d=\"M18.56 5.44l.94 2.06.94-2.06 2.06-.94-2.06-.94-.94-2.06-.94 2.06-2.06.94zm-11 1L8.5 8.5l.94-2.06 2.06-.94-2.06-.94L8.5 2.5l-.94 2.06-2.06.94zm10 10l.94 2.06.94-2.06 2.06-.94-2.06-.94-.94-2.06-.94 2.06-2.06.94z\"/><path d=\"M17.41 7.96l-1.37-1.37c-.4-.4-.92-.59-1.43-.59-.52 0-1.04.2-1.43.59L10.3 9.45l-7.72 7.72c-.78.78-.78 2.05 0 2.83L4 21.41c.39.39.9.59 1.41.59.51 0 1.02-.2 1.41-.59l7.78-7.78 2.81-2.81c.8-.78.8-2.07 0-2.86zM5.41 20L4 18.59l7.72-7.72 1.47 1.35L5.41 20z\"/>\n",
              "  </svg>\n",
              "      </button>\n",
              "      \n",
              "  <style>\n",
              "    .colab-df-container {\n",
              "      display:flex;\n",
              "      flex-wrap:wrap;\n",
              "      gap: 12px;\n",
              "    }\n",
              "\n",
              "    .colab-df-convert {\n",
              "      background-color: #E8F0FE;\n",
              "      border: none;\n",
              "      border-radius: 50%;\n",
              "      cursor: pointer;\n",
              "      display: none;\n",
              "      fill: #1967D2;\n",
              "      height: 32px;\n",
              "      padding: 0 0 0 0;\n",
              "      width: 32px;\n",
              "    }\n",
              "\n",
              "    .colab-df-convert:hover {\n",
              "      background-color: #E2EBFA;\n",
              "      box-shadow: 0px 1px 2px rgba(60, 64, 67, 0.3), 0px 1px 3px 1px rgba(60, 64, 67, 0.15);\n",
              "      fill: #174EA6;\n",
              "    }\n",
              "\n",
              "    [theme=dark] .colab-df-convert {\n",
              "      background-color: #3B4455;\n",
              "      fill: #D2E3FC;\n",
              "    }\n",
              "\n",
              "    [theme=dark] .colab-df-convert:hover {\n",
              "      background-color: #434B5C;\n",
              "      box-shadow: 0px 1px 3px 1px rgba(0, 0, 0, 0.15);\n",
              "      filter: drop-shadow(0px 1px 2px rgba(0, 0, 0, 0.3));\n",
              "      fill: #FFFFFF;\n",
              "    }\n",
              "  </style>\n",
              "\n",
              "      <script>\n",
              "        const buttonEl =\n",
              "          document.querySelector('#df-02083df7-e658-4e51-810a-1fce85690f05 button.colab-df-convert');\n",
              "        buttonEl.style.display =\n",
              "          google.colab.kernel.accessAllowed ? 'block' : 'none';\n",
              "\n",
              "        async function convertToInteractive(key) {\n",
              "          const element = document.querySelector('#df-02083df7-e658-4e51-810a-1fce85690f05');\n",
              "          const dataTable =\n",
              "            await google.colab.kernel.invokeFunction('convertToInteractive',\n",
              "                                                     [key], {});\n",
              "          if (!dataTable) return;\n",
              "\n",
              "          const docLinkHtml = 'Like what you see? Visit the ' +\n",
              "            '<a target=\"_blank\" href=https://colab.research.google.com/notebooks/data_table.ipynb>data table notebook</a>'\n",
              "            + ' to learn more about interactive tables.';\n",
              "          element.innerHTML = '';\n",
              "          dataTable['output_type'] = 'display_data';\n",
              "          await google.colab.output.renderOutput(dataTable, element);\n",
              "          const docLink = document.createElement('div');\n",
              "          docLink.innerHTML = docLinkHtml;\n",
              "          element.appendChild(docLink);\n",
              "        }\n",
              "      </script>\n",
              "    </div>\n",
              "  </div>\n",
              "  "
            ]
          },
          "metadata": {},
          "execution_count": 35
        }
      ],
      "source": [
        "df.describe()"
      ]
    },
    {
      "cell_type": "code",
      "execution_count": 36,
      "metadata": {
        "colab": {
          "base_uri": "https://localhost:8080/"
        },
        "id": "dioozUTai_z0",
        "outputId": "83750023-f407-4d85-9bcb-b72cee989a37"
      },
      "outputs": [
        {
          "output_type": "execute_result",
          "data": {
            "text/plain": [
              "(150780, 64)"
            ]
          },
          "metadata": {},
          "execution_count": 36
        }
      ],
      "source": [
        "df.shape"
      ]
    },
    {
      "cell_type": "code",
      "execution_count": 37,
      "metadata": {
        "colab": {
          "base_uri": "https://localhost:8080/",
          "height": 270
        },
        "id": "xb7zDk-IWqll",
        "outputId": "452e2d87-a1f1-4236-8f9c-97f601d17cd6"
      },
      "outputs": [
        {
          "output_type": "execute_result",
          "data": {
            "text/plain": [
              "            time  condition  epoch         eeg-0         eeg-1         eeg-2  \\\n",
              "78355  -0.017578          4    218 -1.122843e+06 -2.216565e+06  2.002773e+06   \n",
              "69526   0.267578          4    193 -5.589611e+06 -9.452888e+06 -9.062277e+06   \n",
              "4420    0.019531          5     12  3.568044e+06  3.384287e+06  1.333847e+06   \n",
              "28587   0.242188          3     79  2.503107e+06  3.679642e+06  6.643649e+06   \n",
              "122277  0.224609          3    340 -1.806142e+07 -1.393941e+07 -5.823403e+06   \n",
              "\n",
              "               eeg-3         eeg-4         eeg-5         eeg-6         eeg-7  \\\n",
              "78355  -5.870800e+05 -5.184082e+06  3.312856e+06 -3.967176e+06  4.727321e+04   \n",
              "69526   2.726349e+06  9.290731e+06 -8.617434e+06 -7.480995e+06 -1.088928e+07   \n",
              "4420    4.716003e+06  8.318153e+06  4.638525e+06  2.942553e+06  2.084131e+06   \n",
              "28587   1.157089e+07  1.701315e+07  6.168395e+06  3.445801e+06  5.073764e+06   \n",
              "122277 -1.311259e+07 -3.442665e+07 -3.979558e+07 -1.194800e+07 -1.255744e+07   \n",
              "\n",
              "               eeg-8         eeg-9        eeg-10        eeg-11        eeg-12  \\\n",
              "78355  -3.473922e+06  5.345774e+06  5.917594e+06 -8.985091e+06 -1.773423e+06   \n",
              "69526  -1.249692e+06 -6.793765e+06 -5.383175e+06 -7.040442e+06 -1.020706e+07   \n",
              "4420    1.028372e+06  3.595540e+06  5.578319e+06  4.890995e+06  2.874654e+06   \n",
              "28587   1.446660e+07  1.293194e+07  2.231196e+07  1.223325e+07 -1.366844e+06   \n",
              "122277 -8.041637e+06 -9.979568e+05  9.915665e+06 -1.772220e+07 -1.043649e+07   \n",
              "\n",
              "              eeg-13        eeg-14        eeg-15        eeg-16        eeg-17  \\\n",
              "78355  -1.844006e+06 -4.813429e+06 -3.864291e+06 -7.269688e+06 -8.218631e+06   \n",
              "69526  -3.428114e+06 -3.825897e+06 -3.387463e+06 -1.619785e+07  7.924359e+06   \n",
              "4420   -2.341859e+06 -3.408393e+06  6.030653e+05  9.419912e+06  9.838815e+06   \n",
              "28587   7.320701e+06  8.494719e+06  1.295361e+07  1.925046e+06  6.375356e+06   \n",
              "122277 -9.054806e+06 -5.176194e+06 -2.125943e+06  5.173416e+06 -8.400571e+05   \n",
              "\n",
              "              eeg-18        eeg-19        eeg-20        eeg-21        eeg-22  \\\n",
              "78355  -1.318625e+06 -1.840368e+06 -1.750782e+06 -7.811635e+06  1.607294e+06   \n",
              "69526  -5.542191e+06 -3.468828e+06 -2.247234e+06  7.495686e+05 -1.449351e+06   \n",
              "4420    4.261951e+06  1.658168e+06  5.189939e+06  7.066686e+05 -5.751166e+06   \n",
              "28587  -9.933350e+06 -2.206993e+06  3.310153e+06  9.813024e+06  3.924767e+06   \n",
              "122277 -2.522705e+06 -7.362679e+06 -1.010952e+07 -4.053206e+06 -4.220579e+07   \n",
              "\n",
              "              eeg-23        eeg-24        eeg-25        eeg-26        eeg-27  \\\n",
              "78355  -5.096428e+06 -7.796581e+06 -9.876384e+06 -2.782326e+06 -1.213858e+06   \n",
              "69526  -8.731054e+06 -9.179801e+06 -6.598114e+06 -1.452800e+06  6.190543e+06   \n",
              "4420    6.357249e+06  3.008704e+06  4.316295e+06  3.412778e+06  3.538302e+06   \n",
              "28587   2.637591e+06 -3.525116e+06 -2.041589e+06 -4.060857e+06  1.115704e+06   \n",
              "122277  5.932356e+05  3.105701e+06  9.121838e+06 -6.066307e+06 -6.204052e+06   \n",
              "\n",
              "              eeg-28        eeg-29        eeg-30        eeg-31        eeg-32  \\\n",
              "78355  -8.990241e+06 -1.438489e+07 -1.148871e+07 -8.393522e+06 -6.449503e+06   \n",
              "69526   6.731516e+06  5.498644e+06  4.561163e+05 -4.108507e+05 -1.304302e+07   \n",
              "4420    5.547882e+06  1.369785e+06  1.314245e+06 -1.040364e+06  1.485577e+06   \n",
              "28587   7.290278e+06  3.809798e+06  5.600624e+06 -2.213426e+06  1.922800e+07   \n",
              "122277 -6.332031e+06 -2.298027e+06  2.350899e+06 -2.417182e+06 -8.452845e+06   \n",
              "\n",
              "              eeg-33        eeg-34        eeg-35        eeg-36        eeg-37  \\\n",
              "78355   1.424139e+06  1.380646e+06 -6.601439e+06 -1.061247e+07 -1.633451e+07   \n",
              "69526   2.011787e+07  2.440197e+07  1.181253e+07  1.225443e+07  1.024648e+07   \n",
              "4420    1.546018e+07  8.299615e+06  1.195436e+05  1.208970e+06 -3.015518e+06   \n",
              "28587   5.011335e+06  3.000844e+06  1.689688e+07  1.414709e+07  1.171363e+07   \n",
              "122277 -2.356073e+06  1.483109e+06  3.016393e+06 -1.408860e+06  2.453545e+06   \n",
              "\n",
              "              eeg-38        eeg-39        eeg-40        eeg-41        eeg-42  \\\n",
              "78355  -1.401476e+07 -1.365405e+07 -5.948963e+06  2.352918e+06 -3.589009e+05   \n",
              "69526   4.838877e+06 -2.867342e+06 -3.722893e+06  2.588757e+07  1.915381e+07   \n",
              "4420    6.777865e+04 -2.881400e+06  4.378397e+06 -1.325961e+07  5.010572e+05   \n",
              "28587   1.496290e+07  1.498069e+07  1.963209e+07 -2.802962e+06  1.139181e+07   \n",
              "122277 -1.881077e+06  5.873355e+06 -6.023933e+06 -1.568492e+06  1.273449e+06   \n",
              "\n",
              "              eeg-43        eeg-44        eeg-45        eeg-46        eeg-47  \\\n",
              "78355  -7.389577e+06 -1.724512e+07 -2.036778e+07 -1.758223e+07 -1.239994e+07   \n",
              "69526   8.446571e+06  1.172629e+07  1.364227e+07  6.272148e+06 -3.674340e+06   \n",
              "4420    1.900215e+06  1.854758e+05 -1.602029e+06 -3.779532e+06 -3.520408e+06   \n",
              "28587   1.463459e+07  1.422512e+07  1.156086e+07  9.991884e+06  1.896171e+07   \n",
              "122277 -4.637747e+05  1.831472e+06 -3.971900e+06 -2.181124e+05  9.757732e+06   \n",
              "\n",
              "              eeg-48        eeg-49        eeg-50        eeg-51        eeg-52  \\\n",
              "78355  -5.496893e+06 -1.085883e+07 -2.177684e+07 -2.683951e+07 -2.492798e+07   \n",
              "69526   2.307317e+07  1.834023e+07  1.888229e+07  9.450454e+06  7.811222e+06   \n",
              "4420   -4.970739e+06  2.276441e+06  1.661225e+06  1.019787e+06 -5.092759e+06   \n",
              "28587   1.989049e+06  8.501944e+06  1.422399e+07  1.018574e+07  1.052278e+07   \n",
              "122277 -2.195206e+06  3.113741e+05 -3.226221e+06  2.708745e+06  5.787880e+06   \n",
              "\n",
              "              eeg-53        eeg-54        eeg-55        eeg-56        eeg-57  \\\n",
              "78355  -1.981494e+07 -1.415742e+07 -2.187409e+07 -2.566233e+07 -3.067389e+07   \n",
              "69526   1.645124e+06  1.919403e+07  1.613018e+07  1.394414e+07  1.395154e+07   \n",
              "4420   -6.713765e+06 -1.877328e+06  2.468200e+06 -3.953644e+06 -9.967148e+06   \n",
              "28587   1.195541e+07  7.529162e+06  1.017836e+07  1.260537e+07  4.986568e+06   \n",
              "122277  6.591290e+06 -3.633905e+06 -6.281812e+06 -3.319405e+06 -2.246189e+05   \n",
              "\n",
              "              eeg-58        eeg-59        eeg-60  \n",
              "78355  -2.602950e+07 -2.900841e+07 -3.323244e+07  \n",
              "69526   6.781520e+06  1.950667e+07  1.296969e+07  \n",
              "4420   -1.052052e+07 -8.569801e+06 -1.272738e+07  \n",
              "28587   9.261970e+06  2.456709e+06 -4.226169e+05  \n",
              "122277  3.376583e+06 -4.684651e+06 -4.361342e+06  "
            ],
            "text/html": [
              "\n",
              "  <div id=\"df-a2bb5d33-80ef-4478-99d5-7295a94e8b0c\">\n",
              "    <div class=\"colab-df-container\">\n",
              "      <div>\n",
              "<style scoped>\n",
              "    .dataframe tbody tr th:only-of-type {\n",
              "        vertical-align: middle;\n",
              "    }\n",
              "\n",
              "    .dataframe tbody tr th {\n",
              "        vertical-align: top;\n",
              "    }\n",
              "\n",
              "    .dataframe thead th {\n",
              "        text-align: right;\n",
              "    }\n",
              "</style>\n",
              "<table border=\"1\" class=\"dataframe\">\n",
              "  <thead>\n",
              "    <tr style=\"text-align: right;\">\n",
              "      <th></th>\n",
              "      <th>time</th>\n",
              "      <th>condition</th>\n",
              "      <th>epoch</th>\n",
              "      <th>eeg-0</th>\n",
              "      <th>eeg-1</th>\n",
              "      <th>eeg-2</th>\n",
              "      <th>eeg-3</th>\n",
              "      <th>eeg-4</th>\n",
              "      <th>eeg-5</th>\n",
              "      <th>eeg-6</th>\n",
              "      <th>eeg-7</th>\n",
              "      <th>eeg-8</th>\n",
              "      <th>eeg-9</th>\n",
              "      <th>eeg-10</th>\n",
              "      <th>eeg-11</th>\n",
              "      <th>eeg-12</th>\n",
              "      <th>eeg-13</th>\n",
              "      <th>eeg-14</th>\n",
              "      <th>eeg-15</th>\n",
              "      <th>eeg-16</th>\n",
              "      <th>eeg-17</th>\n",
              "      <th>eeg-18</th>\n",
              "      <th>eeg-19</th>\n",
              "      <th>eeg-20</th>\n",
              "      <th>eeg-21</th>\n",
              "      <th>eeg-22</th>\n",
              "      <th>eeg-23</th>\n",
              "      <th>eeg-24</th>\n",
              "      <th>eeg-25</th>\n",
              "      <th>eeg-26</th>\n",
              "      <th>eeg-27</th>\n",
              "      <th>eeg-28</th>\n",
              "      <th>eeg-29</th>\n",
              "      <th>eeg-30</th>\n",
              "      <th>eeg-31</th>\n",
              "      <th>eeg-32</th>\n",
              "      <th>eeg-33</th>\n",
              "      <th>eeg-34</th>\n",
              "      <th>eeg-35</th>\n",
              "      <th>eeg-36</th>\n",
              "      <th>eeg-37</th>\n",
              "      <th>eeg-38</th>\n",
              "      <th>eeg-39</th>\n",
              "      <th>eeg-40</th>\n",
              "      <th>eeg-41</th>\n",
              "      <th>eeg-42</th>\n",
              "      <th>eeg-43</th>\n",
              "      <th>eeg-44</th>\n",
              "      <th>eeg-45</th>\n",
              "      <th>eeg-46</th>\n",
              "      <th>eeg-47</th>\n",
              "      <th>eeg-48</th>\n",
              "      <th>eeg-49</th>\n",
              "      <th>eeg-50</th>\n",
              "      <th>eeg-51</th>\n",
              "      <th>eeg-52</th>\n",
              "      <th>eeg-53</th>\n",
              "      <th>eeg-54</th>\n",
              "      <th>eeg-55</th>\n",
              "      <th>eeg-56</th>\n",
              "      <th>eeg-57</th>\n",
              "      <th>eeg-58</th>\n",
              "      <th>eeg-59</th>\n",
              "      <th>eeg-60</th>\n",
              "    </tr>\n",
              "  </thead>\n",
              "  <tbody>\n",
              "    <tr>\n",
              "      <th>78355</th>\n",
              "      <td>-0.017578</td>\n",
              "      <td>4</td>\n",
              "      <td>218</td>\n",
              "      <td>-1.122843e+06</td>\n",
              "      <td>-2.216565e+06</td>\n",
              "      <td>2.002773e+06</td>\n",
              "      <td>-5.870800e+05</td>\n",
              "      <td>-5.184082e+06</td>\n",
              "      <td>3.312856e+06</td>\n",
              "      <td>-3.967176e+06</td>\n",
              "      <td>4.727321e+04</td>\n",
              "      <td>-3.473922e+06</td>\n",
              "      <td>5.345774e+06</td>\n",
              "      <td>5.917594e+06</td>\n",
              "      <td>-8.985091e+06</td>\n",
              "      <td>-1.773423e+06</td>\n",
              "      <td>-1.844006e+06</td>\n",
              "      <td>-4.813429e+06</td>\n",
              "      <td>-3.864291e+06</td>\n",
              "      <td>-7.269688e+06</td>\n",
              "      <td>-8.218631e+06</td>\n",
              "      <td>-1.318625e+06</td>\n",
              "      <td>-1.840368e+06</td>\n",
              "      <td>-1.750782e+06</td>\n",
              "      <td>-7.811635e+06</td>\n",
              "      <td>1.607294e+06</td>\n",
              "      <td>-5.096428e+06</td>\n",
              "      <td>-7.796581e+06</td>\n",
              "      <td>-9.876384e+06</td>\n",
              "      <td>-2.782326e+06</td>\n",
              "      <td>-1.213858e+06</td>\n",
              "      <td>-8.990241e+06</td>\n",
              "      <td>-1.438489e+07</td>\n",
              "      <td>-1.148871e+07</td>\n",
              "      <td>-8.393522e+06</td>\n",
              "      <td>-6.449503e+06</td>\n",
              "      <td>1.424139e+06</td>\n",
              "      <td>1.380646e+06</td>\n",
              "      <td>-6.601439e+06</td>\n",
              "      <td>-1.061247e+07</td>\n",
              "      <td>-1.633451e+07</td>\n",
              "      <td>-1.401476e+07</td>\n",
              "      <td>-1.365405e+07</td>\n",
              "      <td>-5.948963e+06</td>\n",
              "      <td>2.352918e+06</td>\n",
              "      <td>-3.589009e+05</td>\n",
              "      <td>-7.389577e+06</td>\n",
              "      <td>-1.724512e+07</td>\n",
              "      <td>-2.036778e+07</td>\n",
              "      <td>-1.758223e+07</td>\n",
              "      <td>-1.239994e+07</td>\n",
              "      <td>-5.496893e+06</td>\n",
              "      <td>-1.085883e+07</td>\n",
              "      <td>-2.177684e+07</td>\n",
              "      <td>-2.683951e+07</td>\n",
              "      <td>-2.492798e+07</td>\n",
              "      <td>-1.981494e+07</td>\n",
              "      <td>-1.415742e+07</td>\n",
              "      <td>-2.187409e+07</td>\n",
              "      <td>-2.566233e+07</td>\n",
              "      <td>-3.067389e+07</td>\n",
              "      <td>-2.602950e+07</td>\n",
              "      <td>-2.900841e+07</td>\n",
              "      <td>-3.323244e+07</td>\n",
              "    </tr>\n",
              "    <tr>\n",
              "      <th>69526</th>\n",
              "      <td>0.267578</td>\n",
              "      <td>4</td>\n",
              "      <td>193</td>\n",
              "      <td>-5.589611e+06</td>\n",
              "      <td>-9.452888e+06</td>\n",
              "      <td>-9.062277e+06</td>\n",
              "      <td>2.726349e+06</td>\n",
              "      <td>9.290731e+06</td>\n",
              "      <td>-8.617434e+06</td>\n",
              "      <td>-7.480995e+06</td>\n",
              "      <td>-1.088928e+07</td>\n",
              "      <td>-1.249692e+06</td>\n",
              "      <td>-6.793765e+06</td>\n",
              "      <td>-5.383175e+06</td>\n",
              "      <td>-7.040442e+06</td>\n",
              "      <td>-1.020706e+07</td>\n",
              "      <td>-3.428114e+06</td>\n",
              "      <td>-3.825897e+06</td>\n",
              "      <td>-3.387463e+06</td>\n",
              "      <td>-1.619785e+07</td>\n",
              "      <td>7.924359e+06</td>\n",
              "      <td>-5.542191e+06</td>\n",
              "      <td>-3.468828e+06</td>\n",
              "      <td>-2.247234e+06</td>\n",
              "      <td>7.495686e+05</td>\n",
              "      <td>-1.449351e+06</td>\n",
              "      <td>-8.731054e+06</td>\n",
              "      <td>-9.179801e+06</td>\n",
              "      <td>-6.598114e+06</td>\n",
              "      <td>-1.452800e+06</td>\n",
              "      <td>6.190543e+06</td>\n",
              "      <td>6.731516e+06</td>\n",
              "      <td>5.498644e+06</td>\n",
              "      <td>4.561163e+05</td>\n",
              "      <td>-4.108507e+05</td>\n",
              "      <td>-1.304302e+07</td>\n",
              "      <td>2.011787e+07</td>\n",
              "      <td>2.440197e+07</td>\n",
              "      <td>1.181253e+07</td>\n",
              "      <td>1.225443e+07</td>\n",
              "      <td>1.024648e+07</td>\n",
              "      <td>4.838877e+06</td>\n",
              "      <td>-2.867342e+06</td>\n",
              "      <td>-3.722893e+06</td>\n",
              "      <td>2.588757e+07</td>\n",
              "      <td>1.915381e+07</td>\n",
              "      <td>8.446571e+06</td>\n",
              "      <td>1.172629e+07</td>\n",
              "      <td>1.364227e+07</td>\n",
              "      <td>6.272148e+06</td>\n",
              "      <td>-3.674340e+06</td>\n",
              "      <td>2.307317e+07</td>\n",
              "      <td>1.834023e+07</td>\n",
              "      <td>1.888229e+07</td>\n",
              "      <td>9.450454e+06</td>\n",
              "      <td>7.811222e+06</td>\n",
              "      <td>1.645124e+06</td>\n",
              "      <td>1.919403e+07</td>\n",
              "      <td>1.613018e+07</td>\n",
              "      <td>1.394414e+07</td>\n",
              "      <td>1.395154e+07</td>\n",
              "      <td>6.781520e+06</td>\n",
              "      <td>1.950667e+07</td>\n",
              "      <td>1.296969e+07</td>\n",
              "    </tr>\n",
              "    <tr>\n",
              "      <th>4420</th>\n",
              "      <td>0.019531</td>\n",
              "      <td>5</td>\n",
              "      <td>12</td>\n",
              "      <td>3.568044e+06</td>\n",
              "      <td>3.384287e+06</td>\n",
              "      <td>1.333847e+06</td>\n",
              "      <td>4.716003e+06</td>\n",
              "      <td>8.318153e+06</td>\n",
              "      <td>4.638525e+06</td>\n",
              "      <td>2.942553e+06</td>\n",
              "      <td>2.084131e+06</td>\n",
              "      <td>1.028372e+06</td>\n",
              "      <td>3.595540e+06</td>\n",
              "      <td>5.578319e+06</td>\n",
              "      <td>4.890995e+06</td>\n",
              "      <td>2.874654e+06</td>\n",
              "      <td>-2.341859e+06</td>\n",
              "      <td>-3.408393e+06</td>\n",
              "      <td>6.030653e+05</td>\n",
              "      <td>9.419912e+06</td>\n",
              "      <td>9.838815e+06</td>\n",
              "      <td>4.261951e+06</td>\n",
              "      <td>1.658168e+06</td>\n",
              "      <td>5.189939e+06</td>\n",
              "      <td>7.066686e+05</td>\n",
              "      <td>-5.751166e+06</td>\n",
              "      <td>6.357249e+06</td>\n",
              "      <td>3.008704e+06</td>\n",
              "      <td>4.316295e+06</td>\n",
              "      <td>3.412778e+06</td>\n",
              "      <td>3.538302e+06</td>\n",
              "      <td>5.547882e+06</td>\n",
              "      <td>1.369785e+06</td>\n",
              "      <td>1.314245e+06</td>\n",
              "      <td>-1.040364e+06</td>\n",
              "      <td>1.485577e+06</td>\n",
              "      <td>1.546018e+07</td>\n",
              "      <td>8.299615e+06</td>\n",
              "      <td>1.195436e+05</td>\n",
              "      <td>1.208970e+06</td>\n",
              "      <td>-3.015518e+06</td>\n",
              "      <td>6.777865e+04</td>\n",
              "      <td>-2.881400e+06</td>\n",
              "      <td>4.378397e+06</td>\n",
              "      <td>-1.325961e+07</td>\n",
              "      <td>5.010572e+05</td>\n",
              "      <td>1.900215e+06</td>\n",
              "      <td>1.854758e+05</td>\n",
              "      <td>-1.602029e+06</td>\n",
              "      <td>-3.779532e+06</td>\n",
              "      <td>-3.520408e+06</td>\n",
              "      <td>-4.970739e+06</td>\n",
              "      <td>2.276441e+06</td>\n",
              "      <td>1.661225e+06</td>\n",
              "      <td>1.019787e+06</td>\n",
              "      <td>-5.092759e+06</td>\n",
              "      <td>-6.713765e+06</td>\n",
              "      <td>-1.877328e+06</td>\n",
              "      <td>2.468200e+06</td>\n",
              "      <td>-3.953644e+06</td>\n",
              "      <td>-9.967148e+06</td>\n",
              "      <td>-1.052052e+07</td>\n",
              "      <td>-8.569801e+06</td>\n",
              "      <td>-1.272738e+07</td>\n",
              "    </tr>\n",
              "    <tr>\n",
              "      <th>28587</th>\n",
              "      <td>0.242188</td>\n",
              "      <td>3</td>\n",
              "      <td>79</td>\n",
              "      <td>2.503107e+06</td>\n",
              "      <td>3.679642e+06</td>\n",
              "      <td>6.643649e+06</td>\n",
              "      <td>1.157089e+07</td>\n",
              "      <td>1.701315e+07</td>\n",
              "      <td>6.168395e+06</td>\n",
              "      <td>3.445801e+06</td>\n",
              "      <td>5.073764e+06</td>\n",
              "      <td>1.446660e+07</td>\n",
              "      <td>1.293194e+07</td>\n",
              "      <td>2.231196e+07</td>\n",
              "      <td>1.223325e+07</td>\n",
              "      <td>-1.366844e+06</td>\n",
              "      <td>7.320701e+06</td>\n",
              "      <td>8.494719e+06</td>\n",
              "      <td>1.295361e+07</td>\n",
              "      <td>1.925046e+06</td>\n",
              "      <td>6.375356e+06</td>\n",
              "      <td>-9.933350e+06</td>\n",
              "      <td>-2.206993e+06</td>\n",
              "      <td>3.310153e+06</td>\n",
              "      <td>9.813024e+06</td>\n",
              "      <td>3.924767e+06</td>\n",
              "      <td>2.637591e+06</td>\n",
              "      <td>-3.525116e+06</td>\n",
              "      <td>-2.041589e+06</td>\n",
              "      <td>-4.060857e+06</td>\n",
              "      <td>1.115704e+06</td>\n",
              "      <td>7.290278e+06</td>\n",
              "      <td>3.809798e+06</td>\n",
              "      <td>5.600624e+06</td>\n",
              "      <td>-2.213426e+06</td>\n",
              "      <td>1.922800e+07</td>\n",
              "      <td>5.011335e+06</td>\n",
              "      <td>3.000844e+06</td>\n",
              "      <td>1.689688e+07</td>\n",
              "      <td>1.414709e+07</td>\n",
              "      <td>1.171363e+07</td>\n",
              "      <td>1.496290e+07</td>\n",
              "      <td>1.498069e+07</td>\n",
              "      <td>1.963209e+07</td>\n",
              "      <td>-2.802962e+06</td>\n",
              "      <td>1.139181e+07</td>\n",
              "      <td>1.463459e+07</td>\n",
              "      <td>1.422512e+07</td>\n",
              "      <td>1.156086e+07</td>\n",
              "      <td>9.991884e+06</td>\n",
              "      <td>1.896171e+07</td>\n",
              "      <td>1.989049e+06</td>\n",
              "      <td>8.501944e+06</td>\n",
              "      <td>1.422399e+07</td>\n",
              "      <td>1.018574e+07</td>\n",
              "      <td>1.052278e+07</td>\n",
              "      <td>1.195541e+07</td>\n",
              "      <td>7.529162e+06</td>\n",
              "      <td>1.017836e+07</td>\n",
              "      <td>1.260537e+07</td>\n",
              "      <td>4.986568e+06</td>\n",
              "      <td>9.261970e+06</td>\n",
              "      <td>2.456709e+06</td>\n",
              "      <td>-4.226169e+05</td>\n",
              "    </tr>\n",
              "    <tr>\n",
              "      <th>122277</th>\n",
              "      <td>0.224609</td>\n",
              "      <td>3</td>\n",
              "      <td>340</td>\n",
              "      <td>-1.806142e+07</td>\n",
              "      <td>-1.393941e+07</td>\n",
              "      <td>-5.823403e+06</td>\n",
              "      <td>-1.311259e+07</td>\n",
              "      <td>-3.442665e+07</td>\n",
              "      <td>-3.979558e+07</td>\n",
              "      <td>-1.194800e+07</td>\n",
              "      <td>-1.255744e+07</td>\n",
              "      <td>-8.041637e+06</td>\n",
              "      <td>-9.979568e+05</td>\n",
              "      <td>9.915665e+06</td>\n",
              "      <td>-1.772220e+07</td>\n",
              "      <td>-1.043649e+07</td>\n",
              "      <td>-9.054806e+06</td>\n",
              "      <td>-5.176194e+06</td>\n",
              "      <td>-2.125943e+06</td>\n",
              "      <td>5.173416e+06</td>\n",
              "      <td>-8.400571e+05</td>\n",
              "      <td>-2.522705e+06</td>\n",
              "      <td>-7.362679e+06</td>\n",
              "      <td>-1.010952e+07</td>\n",
              "      <td>-4.053206e+06</td>\n",
              "      <td>-4.220579e+07</td>\n",
              "      <td>5.932356e+05</td>\n",
              "      <td>3.105701e+06</td>\n",
              "      <td>9.121838e+06</td>\n",
              "      <td>-6.066307e+06</td>\n",
              "      <td>-6.204052e+06</td>\n",
              "      <td>-6.332031e+06</td>\n",
              "      <td>-2.298027e+06</td>\n",
              "      <td>2.350899e+06</td>\n",
              "      <td>-2.417182e+06</td>\n",
              "      <td>-8.452845e+06</td>\n",
              "      <td>-2.356073e+06</td>\n",
              "      <td>1.483109e+06</td>\n",
              "      <td>3.016393e+06</td>\n",
              "      <td>-1.408860e+06</td>\n",
              "      <td>2.453545e+06</td>\n",
              "      <td>-1.881077e+06</td>\n",
              "      <td>5.873355e+06</td>\n",
              "      <td>-6.023933e+06</td>\n",
              "      <td>-1.568492e+06</td>\n",
              "      <td>1.273449e+06</td>\n",
              "      <td>-4.637747e+05</td>\n",
              "      <td>1.831472e+06</td>\n",
              "      <td>-3.971900e+06</td>\n",
              "      <td>-2.181124e+05</td>\n",
              "      <td>9.757732e+06</td>\n",
              "      <td>-2.195206e+06</td>\n",
              "      <td>3.113741e+05</td>\n",
              "      <td>-3.226221e+06</td>\n",
              "      <td>2.708745e+06</td>\n",
              "      <td>5.787880e+06</td>\n",
              "      <td>6.591290e+06</td>\n",
              "      <td>-3.633905e+06</td>\n",
              "      <td>-6.281812e+06</td>\n",
              "      <td>-3.319405e+06</td>\n",
              "      <td>-2.246189e+05</td>\n",
              "      <td>3.376583e+06</td>\n",
              "      <td>-4.684651e+06</td>\n",
              "      <td>-4.361342e+06</td>\n",
              "    </tr>\n",
              "  </tbody>\n",
              "</table>\n",
              "</div>\n",
              "      <button class=\"colab-df-convert\" onclick=\"convertToInteractive('df-a2bb5d33-80ef-4478-99d5-7295a94e8b0c')\"\n",
              "              title=\"Convert this dataframe to an interactive table.\"\n",
              "              style=\"display:none;\">\n",
              "        \n",
              "  <svg xmlns=\"http://www.w3.org/2000/svg\" height=\"24px\"viewBox=\"0 0 24 24\"\n",
              "       width=\"24px\">\n",
              "    <path d=\"M0 0h24v24H0V0z\" fill=\"none\"/>\n",
              "    <path d=\"M18.56 5.44l.94 2.06.94-2.06 2.06-.94-2.06-.94-.94-2.06-.94 2.06-2.06.94zm-11 1L8.5 8.5l.94-2.06 2.06-.94-2.06-.94L8.5 2.5l-.94 2.06-2.06.94zm10 10l.94 2.06.94-2.06 2.06-.94-2.06-.94-.94-2.06-.94 2.06-2.06.94z\"/><path d=\"M17.41 7.96l-1.37-1.37c-.4-.4-.92-.59-1.43-.59-.52 0-1.04.2-1.43.59L10.3 9.45l-7.72 7.72c-.78.78-.78 2.05 0 2.83L4 21.41c.39.39.9.59 1.41.59.51 0 1.02-.2 1.41-.59l7.78-7.78 2.81-2.81c.8-.78.8-2.07 0-2.86zM5.41 20L4 18.59l7.72-7.72 1.47 1.35L5.41 20z\"/>\n",
              "  </svg>\n",
              "      </button>\n",
              "      \n",
              "  <style>\n",
              "    .colab-df-container {\n",
              "      display:flex;\n",
              "      flex-wrap:wrap;\n",
              "      gap: 12px;\n",
              "    }\n",
              "\n",
              "    .colab-df-convert {\n",
              "      background-color: #E8F0FE;\n",
              "      border: none;\n",
              "      border-radius: 50%;\n",
              "      cursor: pointer;\n",
              "      display: none;\n",
              "      fill: #1967D2;\n",
              "      height: 32px;\n",
              "      padding: 0 0 0 0;\n",
              "      width: 32px;\n",
              "    }\n",
              "\n",
              "    .colab-df-convert:hover {\n",
              "      background-color: #E2EBFA;\n",
              "      box-shadow: 0px 1px 2px rgba(60, 64, 67, 0.3), 0px 1px 3px 1px rgba(60, 64, 67, 0.15);\n",
              "      fill: #174EA6;\n",
              "    }\n",
              "\n",
              "    [theme=dark] .colab-df-convert {\n",
              "      background-color: #3B4455;\n",
              "      fill: #D2E3FC;\n",
              "    }\n",
              "\n",
              "    [theme=dark] .colab-df-convert:hover {\n",
              "      background-color: #434B5C;\n",
              "      box-shadow: 0px 1px 3px 1px rgba(0, 0, 0, 0.15);\n",
              "      filter: drop-shadow(0px 1px 2px rgba(0, 0, 0, 0.3));\n",
              "      fill: #FFFFFF;\n",
              "    }\n",
              "  </style>\n",
              "\n",
              "      <script>\n",
              "        const buttonEl =\n",
              "          document.querySelector('#df-a2bb5d33-80ef-4478-99d5-7295a94e8b0c button.colab-df-convert');\n",
              "        buttonEl.style.display =\n",
              "          google.colab.kernel.accessAllowed ? 'block' : 'none';\n",
              "\n",
              "        async function convertToInteractive(key) {\n",
              "          const element = document.querySelector('#df-a2bb5d33-80ef-4478-99d5-7295a94e8b0c');\n",
              "          const dataTable =\n",
              "            await google.colab.kernel.invokeFunction('convertToInteractive',\n",
              "                                                     [key], {});\n",
              "          if (!dataTable) return;\n",
              "\n",
              "          const docLinkHtml = 'Like what you see? Visit the ' +\n",
              "            '<a target=\"_blank\" href=https://colab.research.google.com/notebooks/data_table.ipynb>data table notebook</a>'\n",
              "            + ' to learn more about interactive tables.';\n",
              "          element.innerHTML = '';\n",
              "          dataTable['output_type'] = 'display_data';\n",
              "          await google.colab.output.renderOutput(dataTable, element);\n",
              "          const docLink = document.createElement('div');\n",
              "          docLink.innerHTML = docLinkHtml;\n",
              "          element.appendChild(docLink);\n",
              "        }\n",
              "      </script>\n",
              "    </div>\n",
              "  </div>\n",
              "  "
            ]
          },
          "metadata": {},
          "execution_count": 37
        }
      ],
      "source": [
        "df.sample(5)"
      ]
    },
    {
      "cell_type": "markdown",
      "metadata": {
        "id": "Mm3-hAYBxd3L"
      },
      "source": [
        "#Exploratory Data Analysis (EDA)"
      ]
    },
    {
      "cell_type": "code",
      "execution_count": null,
      "metadata": {
        "colab": {
          "base_uri": "https://localhost:8080/"
        },
        "id": "RXUjYxJpSAXP",
        "outputId": "dd3bf45b-db98-4426-b0d2-3005b83fa837"
      },
      "outputs": [
        {
          "data": {
            "text/plain": [
              "Series([], dtype: int64)"
            ]
          },
          "execution_count": 28,
          "metadata": {},
          "output_type": "execute_result"
        }
      ],
      "source": [
        "df.isna().sum()[df.isna().sum()>0]"
      ]
    },
    {
      "cell_type": "code",
      "execution_count": null,
      "metadata": {
        "colab": {
          "base_uri": "https://localhost:8080/"
        },
        "id": "k-hmRxorSXz8",
        "outputId": "0df469c2-e77e-49bb-d492-0b216802ca98"
      },
      "outputs": [
        {
          "data": {
            "text/plain": [
              "Series([], dtype: int64)"
            ]
          },
          "execution_count": 29,
          "metadata": {},
          "output_type": "execute_result"
        }
      ],
      "source": [
        "df.isnull().sum()[df.isnull().sum()>0]"
      ]
    },
    {
      "cell_type": "code",
      "execution_count": null,
      "metadata": {
        "colab": {
          "base_uri": "https://localhost:8080/"
        },
        "id": "fGYwdQChSXqN",
        "outputId": "32d98780-7c27-4bf4-f55c-e8d02483d07f"
      },
      "outputs": [
        {
          "data": {
            "text/plain": [
              "0"
            ]
          },
          "execution_count": 30,
          "metadata": {},
          "output_type": "execute_result"
        }
      ],
      "source": [
        "df.duplicated().sum()"
      ]
    },
    {
      "cell_type": "code",
      "execution_count": null,
      "metadata": {
        "id": "fvX90zLiTXeK"
      },
      "outputs": [],
      "source": [
        "pd.set_option('display.max_rows', None)"
      ]
    },
    {
      "cell_type": "markdown",
      "metadata": {
        "id": "KHqNSAhmxfpK"
      },
      "source": [
        "#Feature Engineering"
      ]
    },
    {
      "cell_type": "markdown",
      "source": [
        "##Noise Reduction"
      ],
      "metadata": {
        "id": "Dgcj6eh5kTOy"
      }
    },
    {
      "cell_type": "code",
      "execution_count": 38,
      "metadata": {
        "id": "J_dIUb1BVOZj"
      },
      "outputs": [],
      "source": [
        "import matplotlib.pyplot as plt\n",
        "from scipy import special"
      ]
    },
    {
      "cell_type": "code",
      "source": [
        "for i in df.columns[3:]:\n",
        "  plt.psd(df[i])"
      ],
      "metadata": {
        "colab": {
          "base_uri": "https://localhost:8080/",
          "height": 449
        },
        "id": "ZhDkhuzlUXZs",
        "outputId": "56ae2234-31f9-4df4-f75a-6e1030e4de27"
      },
      "execution_count": 51,
      "outputs": [
        {
          "output_type": "display_data",
          "data": {
            "text/plain": [
              "<Figure size 640x480 with 1 Axes>"
            ],
            "image/png": "[encoded data removed]"
          },
          "metadata": {}
        }
      ]
    },
    {
      "cell_type": "code",
      "source": [
        "df_new = df"
      ],
      "metadata": {
        "id": "0aJcp9C3kAlc"
      },
      "execution_count": 73,
      "outputs": []
    },
    {
      "cell_type": "code",
      "source": [
        "import numpy as np\n",
        "from scipy.signal import butter,filtfilt\n",
        "\n",
        "T = 5.0         \n",
        "fs = 30.0       \n",
        "cutoff = 2      \n",
        "nyq = 0.5 * fs  \n",
        "order = 2       \n",
        "n = int(T * fs) \n",
        "\n",
        "def butter_lowpass_filter(data, cutoff, fs, order):\n",
        "    normal_cutoff = cutoff / nyq\n",
        "    b, a = butter(order, normal_cutoff, btype='low', analog=False)\n",
        "    y = filtfilt(b, a, data)\n",
        "    return y\n",
        "\n",
        "\n",
        "\n",
        "for i in df.columns[3:]:\n",
        "\n",
        "  data = df[i]\n",
        "\n",
        "  y = butter_lowpass_filter(data, cutoff, fs, order)\n",
        "\n",
        "  df_new[i] = y\n",
        "\n",
        "  plt.psd(y)"
      ],
      "metadata": {
        "colab": {
          "base_uri": "https://localhost:8080/",
          "height": 449
        },
        "id": "R3cacfstUXW6",
        "outputId": "5d06edd7-00a2-462f-f88d-4324d7e01851"
      },
      "execution_count": 74,
      "outputs": [
        {
          "output_type": "display_data",
          "data": {
            "text/plain": [
              "<Figure size 640x480 with 1 Axes>"
            ],
            "image/png": "[encoded data removed]"
          },
          "metadata": {}
        }
      ]
    },
    {
      "cell_type": "markdown",
      "source": [
        "##Train Test Split"
      ],
      "metadata": {
        "id": "LW-p6wPhkX-y"
      }
    },
    {
      "cell_type": "code",
      "execution_count": 75,
      "metadata": {
        "id": "knzo1c98Vr7S"
      },
      "outputs": [],
      "source": [
        "from sklearn.model_selection import train_test_split"
      ]
    },
    {
      "cell_type": "code",
      "execution_count": 77,
      "metadata": {
        "id": "kVRUI-n-VuSy"
      },
      "outputs": [],
      "source": [
        "X_train,X_test, y_train,y_test = train_test_split((df_new.iloc[:,3:]), df.iloc[:,1], train_size=0.8, random_state=123)"
      ]
    },
    {
      "cell_type": "code",
      "execution_count": 78,
      "metadata": {
        "id": "fQap2D9nSE1H"
      },
      "outputs": [],
      "source": [
        "from sklearn.preprocessing import StandardScaler\n",
        "\n",
        "sc = StandardScaler()\n",
        "\n",
        "X_train = sc.fit_transform(X_train)\n",
        "X_test = sc.transform(X_test)"
      ]
    },
    {
      "cell_type": "markdown",
      "source": [
        "##Dimensionality Reduction"
      ],
      "metadata": {
        "id": "i3qK2XmINukl"
      }
    },
    {
      "cell_type": "code",
      "execution_count": 79,
      "metadata": {
        "id": "CIqjoeSfRAiX"
      },
      "outputs": [],
      "source": [
        "from sklearn.decomposition import PCA"
      ]
    },
    {
      "cell_type": "code",
      "execution_count": 80,
      "metadata": {
        "id": "3AqQV_vTRbFY"
      },
      "outputs": [],
      "source": [
        "pca = PCA(n_components=None)"
      ]
    },
    {
      "cell_type": "code",
      "execution_count": 81,
      "metadata": {
        "colab": {
          "base_uri": "https://localhost:8080/",
          "height": 75
        },
        "id": "RC9TSNXWRgne",
        "outputId": "7f1c2e8f-ce64-421d-a68f-4634c0faef91"
      },
      "outputs": [
        {
          "output_type": "execute_result",
          "data": {
            "text/plain": [
              "PCA()"
            ],
            "text/html": [
              "<style>#sk-container-id-1 {color: black;background-color: white;}#sk-container-id-1 pre{padding: 0;}#sk-container-id-1 div.sk-toggleable {background-color: white;}#sk-container-id-1 label.sk-toggleable__label {cursor: pointer;display: block;width: 100%;margin-bottom: 0;padding: 0.3em;box-sizing: border-box;text-align: center;}#sk-container-id-1 label.sk-toggleable__label-arrow:before {content: \"▸\";float: left;margin-right: 0.25em;color: #696969;}#sk-container-id-1 label.sk-toggleable__label-arrow:hover:before {color: black;}#sk-container-id-1 div.sk-estimator:hover label.sk-toggleable__label-arrow:before {color: black;}#sk-container-id-1 div.sk-toggleable__content {max-height: 0;max-width: 0;overflow: hidden;text-align: left;background-color: #f0f8ff;}#sk-container-id-1 div.sk-toggleable__content pre {margin: 0.2em;color: black;border-radius: 0.25em;background-color: #f0f8ff;}#sk-container-id-1 input.sk-toggleable__control:checked~div.sk-toggleable__content {max-height: 200px;max-width: 100%;overflow: auto;}#sk-container-id-1 input.sk-toggleable__control:checked~label.sk-toggleable__label-arrow:before {content: \"▾\";}#sk-container-id-1 div.sk-estimator input.sk-toggleable__control:checked~label.sk-toggleable__label {background-color: #d4ebff;}#sk-container-id-1 div.sk-label input.sk-toggleable__control:checked~label.sk-toggleable__label {background-color: #d4ebff;}#sk-container-id-1 input.sk-hidden--visually {border: 0;clip: rect(1px 1px 1px 1px);clip: rect(1px, 1px, 1px, 1px);height: 1px;margin: -1px;overflow: hidden;padding: 0;position: absolute;width: 1px;}#sk-container-id-1 div.sk-estimator {font-family: monospace;background-color: #f0f8ff;border: 1px dotted black;border-radius: 0.25em;box-sizing: border-box;margin-bottom: 0.5em;}#sk-container-id-1 div.sk-estimator:hover {background-color: #d4ebff;}#sk-container-id-1 div.sk-parallel-item::after {content: \"\";width: 100%;border-bottom: 1px solid gray;flex-grow: 1;}#sk-container-id-1 div.sk-label:hover label.sk-toggleable__label {background-color: #d4ebff;}#sk-container-id-1 div.sk-serial::before {content: \"\";position: absolute;border-left: 1px solid gray;box-sizing: border-box;top: 0;bottom: 0;left: 50%;z-index: 0;}#sk-container-id-1 div.sk-serial {display: flex;flex-direction: column;align-items: center;background-color: white;padding-right: 0.2em;padding-left: 0.2em;position: relative;}#sk-container-id-1 div.sk-item {position: relative;z-index: 1;}#sk-container-id-1 div.sk-parallel {display: flex;align-items: stretch;justify-content: center;background-color: white;position: relative;}#sk-container-id-1 div.sk-item::before, #sk-container-id-1 div.sk-parallel-item::before {content: \"\";position: absolute;border-left: 1px solid gray;box-sizing: border-box;top: 0;bottom: 0;left: 50%;z-index: -1;}#sk-container-id-1 div.sk-parallel-item {display: flex;flex-direction: column;z-index: 1;position: relative;background-color: white;}#sk-container-id-1 div.sk-parallel-item:first-child::after {align-self: flex-end;width: 50%;}#sk-container-id-1 div.sk-parallel-item:last-child::after {align-self: flex-start;width: 50%;}#sk-container-id-1 div.sk-parallel-item:only-child::after {width: 0;}#sk-container-id-1 div.sk-dashed-wrapped {border: 1px dashed gray;margin: 0 0.4em 0.5em 0.4em;box-sizing: border-box;padding-bottom: 0.4em;background-color: white;}#sk-container-id-1 div.sk-label label {font-family: monospace;font-weight: bold;display: inline-block;line-height: 1.2em;}#sk-container-id-1 div.sk-label-container {text-align: center;}#sk-container-id-1 div.sk-container {/* jupyter's `normalize.less` sets `[hidden] { display: none; }` but bootstrap.min.css set `[hidden] { display: none !important; }` so we also need the `!important` here to be able to override the default hidden behavior on the sphinx rendered scikit-learn.org. See: https://github.com/scikit-learn/scikit-learn/issues/21755 */display: inline-block !important;position: relative;}#sk-container-id-1 div.sk-text-repr-fallback {display: none;}</style><div id=\"sk-container-id-1\" class=\"sk-top-container\"><div class=\"sk-text-repr-fallback\"><pre>PCA()</pre><b>In a Jupyter environment, please rerun this cell to show the HTML representation or trust the notebook. <br />On GitHub, the HTML representation is unable to render, please try loading this page with nbviewer.org.</b></div><div class=\"sk-container\" hidden><div class=\"sk-item\"><div class=\"sk-estimator sk-toggleable\"><input class=\"sk-toggleable__control sk-hidden--visually\" id=\"sk-estimator-id-1\" type=\"checkbox\" checked><label for=\"sk-estimator-id-1\" class=\"sk-toggleable__label sk-toggleable__label-arrow\">PCA</label><div class=\"sk-toggleable__content\"><pre>PCA()</pre></div></div></div></div></div>"
            ]
          },
          "metadata": {},
          "execution_count": 81
        }
      ],
      "source": [
        "pca.fit(X_train)"
      ]
    },
    {
      "cell_type": "code",
      "execution_count": 82,
      "metadata": {
        "colab": {
          "base_uri": "https://localhost:8080/",
          "height": 447
        },
        "id": "jXjIVg39RwPZ",
        "outputId": "d2f695fd-5f07-4da4-b668-8f6bc4ab6077"
      },
      "outputs": [
        {
          "output_type": "execute_result",
          "data": {
            "text/plain": [
              "[<matplotlib.lines.Line2D at 0x7f5c13ce3fd0>]"
            ]
          },
          "metadata": {},
          "execution_count": 82
        },
        {
          "output_type": "display_data",
          "data": {
            "text/plain": [
              "<Figure size 640x480 with 1 Axes>"
            ],
            "image/png": "[encoded data removed]"
          },
          "metadata": {}
        }
      ],
      "source": [
        "plt.plot(np.cumsum(pca.explained_variance_ratio_))"
      ]
    },
    {
      "cell_type": "code",
      "execution_count": 83,
      "metadata": {
        "id": "9i4aoyW9RwGU"
      },
      "outputs": [],
      "source": [
        "pca = PCA(n_components = 10)\n",
        "\n",
        "X_train_pca = pca.fit_transform(X_train)\n",
        "X_test_pca =  pca.transform(X_test)"
      ]
    },
    {
      "cell_type": "code",
      "execution_count": 84,
      "metadata": {
        "colab": {
          "base_uri": "https://localhost:8080/"
        },
        "id": "m1RP0dJiRwDm",
        "outputId": "c2a5288f-fa58-4887-9cab-34600165da15"
      },
      "outputs": [
        {
          "output_type": "execute_result",
          "data": {
            "text/plain": [
              "((120624, 10), (30156, 10))"
            ]
          },
          "metadata": {},
          "execution_count": 84
        }
      ],
      "source": [
        "X_train_pca.shape, X_test_pca.shape"
      ]
    },
    {
      "cell_type": "markdown",
      "metadata": {
        "id": "awO8ABVnTmgi"
      },
      "source": [
        "#------------------------------------------------------- Rest vs Movement -------------------------------------------------------"
      ]
    },
    {
      "cell_type": "code",
      "execution_count": 85,
      "metadata": {
        "id": "lxVqFXtTYDpX"
      },
      "outputs": [],
      "source": [
        "y_train_rvm = y_train.map(lambda x:0 if(x==7) else 1)\n",
        "y_test_rvm = y_test.map(lambda x:0 if(x==7) else 1)"
      ]
    },
    {
      "cell_type": "markdown",
      "metadata": {
        "id": "X09A9sRWy29x"
      },
      "source": [
        "##Logistic Regression"
      ]
    },
    {
      "cell_type": "code",
      "execution_count": 86,
      "metadata": {
        "id": "GOkWdoLqy5J_"
      },
      "outputs": [],
      "source": [
        "from sklearn.linear_model import LogisticRegression"
      ]
    },
    {
      "cell_type": "code",
      "execution_count": 87,
      "metadata": {
        "id": "-jW9wT8uzF4H"
      },
      "outputs": [],
      "source": [
        "lr_rvm = LogisticRegression()"
      ]
    },
    {
      "cell_type": "code",
      "execution_count": 88,
      "metadata": {
        "id": "XBv43g6KzOTT",
        "colab": {
          "base_uri": "https://localhost:8080/",
          "height": 214
        },
        "outputId": "35da8eed-dc37-4290-b836-383ab6514348"
      },
      "outputs": [
        {
          "output_type": "stream",
          "name": "stderr",
          "text": [
            "/usr/local/lib/python3.9/dist-packages/sklearn/linear_model/_logistic.py:458: ConvergenceWarning: lbfgs failed to converge (status=1):\n",
            "STOP: TOTAL NO. of ITERATIONS REACHED LIMIT.\n",
            "\n",
            "Increase the number of iterations (max_iter) or scale the data as shown in:\n",
            "    https://scikit-learn.org/stable/modules/preprocessing.html\n",
            "Please also refer to the documentation for alternative solver options:\n",
            "    https://scikit-learn.org/stable/modules/linear_model.html#logistic-regression\n",
            "  n_iter_i = _check_optimize_result(\n"
          ]
        },
        {
          "output_type": "execute_result",
          "data": {
            "text/plain": [
              "LogisticRegression()"
            ],
            "text/html": [
              "<style>#sk-container-id-2 {color: black;background-color: white;}#sk-container-id-2 pre{padding: 0;}#sk-container-id-2 div.sk-toggleable {background-color: white;}#sk-container-id-2 label.sk-toggleable__label {cursor: pointer;display: block;width: 100%;margin-bottom: 0;padding: 0.3em;box-sizing: border-box;text-align: center;}#sk-container-id-2 label.sk-toggleable__label-arrow:before {content: \"▸\";float: left;margin-right: 0.25em;color: #696969;}#sk-container-id-2 label.sk-toggleable__label-arrow:hover:before {color: black;}#sk-container-id-2 div.sk-estimator:hover label.sk-toggleable__label-arrow:before {color: black;}#sk-container-id-2 div.sk-toggleable__content {max-height: 0;max-width: 0;overflow: hidden;text-align: left;background-color: #f0f8ff;}#sk-container-id-2 div.sk-toggleable__content pre {margin: 0.2em;color: black;border-radius: 0.25em;background-color: #f0f8ff;}#sk-container-id-2 input.sk-toggleable__control:checked~div.sk-toggleable__content {max-height: 200px;max-width: 100%;overflow: auto;}#sk-container-id-2 input.sk-toggleable__control:checked~label.sk-toggleable__label-arrow:before {content: \"▾\";}#sk-container-id-2 div.sk-estimator input.sk-toggleable__control:checked~label.sk-toggleable__label {background-color: #d4ebff;}#sk-container-id-2 div.sk-label input.sk-toggleable__control:checked~label.sk-toggleable__label {background-color: #d4ebff;}#sk-container-id-2 input.sk-hidden--visually {border: 0;clip: rect(1px 1px 1px 1px);clip: rect(1px, 1px, 1px, 1px);height: 1px;margin: -1px;overflow: hidden;padding: 0;position: absolute;width: 1px;}#sk-container-id-2 div.sk-estimator {font-family: monospace;background-color: #f0f8ff;border: 1px dotted black;border-radius: 0.25em;box-sizing: border-box;margin-bottom: 0.5em;}#sk-container-id-2 div.sk-estimator:hover {background-color: #d4ebff;}#sk-container-id-2 div.sk-parallel-item::after {content: \"\";width: 100%;border-bottom: 1px solid gray;flex-grow: 1;}#sk-container-id-2 div.sk-label:hover label.sk-toggleable__label {background-color: #d4ebff;}#sk-container-id-2 div.sk-serial::before {content: \"\";position: absolute;border-left: 1px solid gray;box-sizing: border-box;top: 0;bottom: 0;left: 50%;z-index: 0;}#sk-container-id-2 div.sk-serial {display: flex;flex-direction: column;align-items: center;background-color: white;padding-right: 0.2em;padding-left: 0.2em;position: relative;}#sk-container-id-2 div.sk-item {position: relative;z-index: 1;}#sk-container-id-2 div.sk-parallel {display: flex;align-items: stretch;justify-content: center;background-color: white;position: relative;}#sk-container-id-2 div.sk-item::before, #sk-container-id-2 div.sk-parallel-item::before {content: \"\";position: absolute;border-left: 1px solid gray;box-sizing: border-box;top: 0;bottom: 0;left: 50%;z-index: -1;}#sk-container-id-2 div.sk-parallel-item {display: flex;flex-direction: column;z-index: 1;position: relative;background-color: white;}#sk-container-id-2 div.sk-parallel-item:first-child::after {align-self: flex-end;width: 50%;}#sk-container-id-2 div.sk-parallel-item:last-child::after {align-self: flex-start;width: 50%;}#sk-container-id-2 div.sk-parallel-item:only-child::after {width: 0;}#sk-container-id-2 div.sk-dashed-wrapped {border: 1px dashed gray;margin: 0 0.4em 0.5em 0.4em;box-sizing: border-box;padding-bottom: 0.4em;background-color: white;}#sk-container-id-2 div.sk-label label {font-family: monospace;font-weight: bold;display: inline-block;line-height: 1.2em;}#sk-container-id-2 div.sk-label-container {text-align: center;}#sk-container-id-2 div.sk-container {/* jupyter's `normalize.less` sets `[hidden] { display: none; }` but bootstrap.min.css set `[hidden] { display: none !important; }` so we also need the `!important` here to be able to override the default hidden behavior on the sphinx rendered scikit-learn.org. See: https://github.com/scikit-learn/scikit-learn/issues/21755 */display: inline-block !important;position: relative;}#sk-container-id-2 div.sk-text-repr-fallback {display: none;}</style><div id=\"sk-container-id-2\" class=\"sk-top-container\"><div class=\"sk-text-repr-fallback\"><pre>LogisticRegression()</pre><b>In a Jupyter environment, please rerun this cell to show the HTML representation or trust the notebook. <br />On GitHub, the HTML representation is unable to render, please try loading this page with nbviewer.org.</b></div><div class=\"sk-container\" hidden><div class=\"sk-item\"><div class=\"sk-estimator sk-toggleable\"><input class=\"sk-toggleable__control sk-hidden--visually\" id=\"sk-estimator-id-2\" type=\"checkbox\" checked><label for=\"sk-estimator-id-2\" class=\"sk-toggleable__label sk-toggleable__label-arrow\">LogisticRegression</label><div class=\"sk-toggleable__content\"><pre>LogisticRegression()</pre></div></div></div></div></div>"
            ]
          },
          "metadata": {},
          "execution_count": 88
        }
      ],
      "source": [
        "lr_rvm.fit(X_train, y_train_rvm)"
      ]
    },
    {
      "cell_type": "code",
      "execution_count": 89,
      "metadata": {
        "id": "j1leqy1czP_m"
      },
      "outputs": [],
      "source": [
        "y_pred_rvm_lr = lr_rvm.predict(X_test)"
      ]
    },
    {
      "cell_type": "code",
      "execution_count": 90,
      "metadata": {
        "id": "HuUO5_YlzR-2",
        "colab": {
          "base_uri": "https://localhost:8080/"
        },
        "outputId": "35035a61-3c0c-4356-ba0c-79bc94d12892"
      },
      "outputs": [
        {
          "output_type": "execute_result",
          "data": {
            "text/plain": [
              "0.859132510943096"
            ]
          },
          "metadata": {},
          "execution_count": 90
        }
      ],
      "source": [
        "from sklearn.metrics import accuracy_score\n",
        "accuracy_score(y_test_rvm, y_pred_rvm_lr)"
      ]
    },
    {
      "cell_type": "code",
      "execution_count": 91,
      "metadata": {
        "id": "kHCdK4W5zeZ9",
        "colab": {
          "base_uri": "https://localhost:8080/",
          "height": 670
        },
        "outputId": "3910e0ad-eddb-4ebf-b82e-4d46e6485d68"
      },
      "outputs": [
        {
          "output_type": "execute_result",
          "data": {
            "text/plain": [
              "<sklearn.metrics._plot.confusion_matrix.ConfusionMatrixDisplay at 0x7f5c13c90490>"
            ]
          },
          "metadata": {},
          "execution_count": 91
        },
        {
          "output_type": "display_data",
          "data": {
            "text/plain": [
              "<Figure size 800x800 with 2 Axes>"
            ],
            "image/png": "[encoded data removed]"
          },
          "metadata": {}
        }
      ],
      "source": [
        "from sklearn.metrics import confusion_matrix, ConfusionMatrixDisplay\n",
        "cm = confusion_matrix(y_test_rvm, y_pred_rvm_lr)\n",
        "labels = ['rest', 'movement']\n",
        "\n",
        "fig, ax = plt.subplots(figsize=(8, 8))\n",
        "plt.title(\"Rest Vs Movement\",  fontdict = {'family':'sans-serif','color':'red','size':30})\n",
        "ConfusionMatrixDisplay(cm, display_labels=labels).plot(ax=ax)"
      ]
    },
    {
      "cell_type": "markdown",
      "metadata": {
        "id": "Lb8DHQjQAyDn"
      },
      "source": [
        "##KNN"
      ]
    },
    {
      "cell_type": "code",
      "execution_count": 92,
      "metadata": {
        "id": "-rhUJeytZK7y"
      },
      "outputs": [],
      "source": [
        "from sklearn.neighbors import KNeighborsClassifier"
      ]
    },
    {
      "cell_type": "code",
      "execution_count": 93,
      "metadata": {
        "id": "gY2k-0taZV9L"
      },
      "outputs": [],
      "source": [
        "knn_rvm = KNeighborsClassifier(10)"
      ]
    },
    {
      "cell_type": "code",
      "execution_count": 94,
      "metadata": {
        "id": "NZexv3MjZaMj",
        "colab": {
          "base_uri": "https://localhost:8080/",
          "height": 75
        },
        "outputId": "0d7c18a2-09f9-4ce9-cf69-0f3af5649dde"
      },
      "outputs": [
        {
          "output_type": "execute_result",
          "data": {
            "text/plain": [
              "KNeighborsClassifier(n_neighbors=10)"
            ],
            "text/html": [
              "<style>#sk-container-id-3 {color: black;background-color: white;}#sk-container-id-3 pre{padding: 0;}#sk-container-id-3 div.sk-toggleable {background-color: white;}#sk-container-id-3 label.sk-toggleable__label {cursor: pointer;display: block;width: 100%;margin-bottom: 0;padding: 0.3em;box-sizing: border-box;text-align: center;}#sk-container-id-3 label.sk-toggleable__label-arrow:before {content: \"▸\";float: left;margin-right: 0.25em;color: #696969;}#sk-container-id-3 label.sk-toggleable__label-arrow:hover:before {color: black;}#sk-container-id-3 div.sk-estimator:hover label.sk-toggleable__label-arrow:before {color: black;}#sk-container-id-3 div.sk-toggleable__content {max-height: 0;max-width: 0;overflow: hidden;text-align: left;background-color: #f0f8ff;}#sk-container-id-3 div.sk-toggleable__content pre {margin: 0.2em;color: black;border-radius: 0.25em;background-color: #f0f8ff;}#sk-container-id-3 input.sk-toggleable__control:checked~div.sk-toggleable__content {max-height: 200px;max-width: 100%;overflow: auto;}#sk-container-id-3 input.sk-toggleable__control:checked~label.sk-toggleable__label-arrow:before {content: \"▾\";}#sk-container-id-3 div.sk-estimator input.sk-toggleable__control:checked~label.sk-toggleable__label {background-color: #d4ebff;}#sk-container-id-3 div.sk-label input.sk-toggleable__control:checked~label.sk-toggleable__label {background-color: #d4ebff;}#sk-container-id-3 input.sk-hidden--visually {border: 0;clip: rect(1px 1px 1px 1px);clip: rect(1px, 1px, 1px, 1px);height: 1px;margin: -1px;overflow: hidden;padding: 0;position: absolute;width: 1px;}#sk-container-id-3 div.sk-estimator {font-family: monospace;background-color: #f0f8ff;border: 1px dotted black;border-radius: 0.25em;box-sizing: border-box;margin-bottom: 0.5em;}#sk-container-id-3 div.sk-estimator:hover {background-color: #d4ebff;}#sk-container-id-3 div.sk-parallel-item::after {content: \"\";width: 100%;border-bottom: 1px solid gray;flex-grow: 1;}#sk-container-id-3 div.sk-label:hover label.sk-toggleable__label {background-color: #d4ebff;}#sk-container-id-3 div.sk-serial::before {content: \"\";position: absolute;border-left: 1px solid gray;box-sizing: border-box;top: 0;bottom: 0;left: 50%;z-index: 0;}#sk-container-id-3 div.sk-serial {display: flex;flex-direction: column;align-items: center;background-color: white;padding-right: 0.2em;padding-left: 0.2em;position: relative;}#sk-container-id-3 div.sk-item {position: relative;z-index: 1;}#sk-container-id-3 div.sk-parallel {display: flex;align-items: stretch;justify-content: center;background-color: white;position: relative;}#sk-container-id-3 div.sk-item::before, #sk-container-id-3 div.sk-parallel-item::before {content: \"\";position: absolute;border-left: 1px solid gray;box-sizing: border-box;top: 0;bottom: 0;left: 50%;z-index: -1;}#sk-container-id-3 div.sk-parallel-item {display: flex;flex-direction: column;z-index: 1;position: relative;background-color: white;}#sk-container-id-3 div.sk-parallel-item:first-child::after {align-self: flex-end;width: 50%;}#sk-container-id-3 div.sk-parallel-item:last-child::after {align-self: flex-start;width: 50%;}#sk-container-id-3 div.sk-parallel-item:only-child::after {width: 0;}#sk-container-id-3 div.sk-dashed-wrapped {border: 1px dashed gray;margin: 0 0.4em 0.5em 0.4em;box-sizing: border-box;padding-bottom: 0.4em;background-color: white;}#sk-container-id-3 div.sk-label label {font-family: monospace;font-weight: bold;display: inline-block;line-height: 1.2em;}#sk-container-id-3 div.sk-label-container {text-align: center;}#sk-container-id-3 div.sk-container {/* jupyter's `normalize.less` sets `[hidden] { display: none; }` but bootstrap.min.css set `[hidden] { display: none !important; }` so we also need the `!important` here to be able to override the default hidden behavior on the sphinx rendered scikit-learn.org. See: https://github.com/scikit-learn/scikit-learn/issues/21755 */display: inline-block !important;position: relative;}#sk-container-id-3 div.sk-text-repr-fallback {display: none;}</style><div id=\"sk-container-id-3\" class=\"sk-top-container\"><div class=\"sk-text-repr-fallback\"><pre>KNeighborsClassifier(n_neighbors=10)</pre><b>In a Jupyter environment, please rerun this cell to show the HTML representation or trust the notebook. <br />On GitHub, the HTML representation is unable to render, please try loading this page with nbviewer.org.</b></div><div class=\"sk-container\" hidden><div class=\"sk-item\"><div class=\"sk-estimator sk-toggleable\"><input class=\"sk-toggleable__control sk-hidden--visually\" id=\"sk-estimator-id-3\" type=\"checkbox\" checked><label for=\"sk-estimator-id-3\" class=\"sk-toggleable__label sk-toggleable__label-arrow\">KNeighborsClassifier</label><div class=\"sk-toggleable__content\"><pre>KNeighborsClassifier(n_neighbors=10)</pre></div></div></div></div></div>"
            ]
          },
          "metadata": {},
          "execution_count": 94
        }
      ],
      "source": [
        "knn_rvm.fit(X_train, y_train_rvm)"
      ]
    },
    {
      "cell_type": "code",
      "execution_count": 95,
      "metadata": {
        "id": "xGx-HTcDZeSL"
      },
      "outputs": [],
      "source": [
        "y_pred_rvm_knn = knn_rvm.predict(X_test)"
      ]
    },
    {
      "cell_type": "code",
      "execution_count": 96,
      "metadata": {
        "id": "yIqCyyHWZifb",
        "colab": {
          "base_uri": "https://localhost:8080/"
        },
        "outputId": "aa8cb3dc-9347-466f-cca7-ba9ad4d65e4f"
      },
      "outputs": [
        {
          "output_type": "execute_result",
          "data": {
            "text/plain": [
              "0.9427642923464651"
            ]
          },
          "metadata": {},
          "execution_count": 96
        }
      ],
      "source": [
        "from sklearn.metrics import accuracy_score\n",
        "accuracy_score(y_test_rvm, y_pred_rvm_knn)"
      ]
    },
    {
      "cell_type": "code",
      "execution_count": 97,
      "metadata": {
        "id": "W_Hl3FnlaE9x",
        "colab": {
          "base_uri": "https://localhost:8080/",
          "height": 670
        },
        "outputId": "16413cbc-d758-4693-85f0-363344986f13"
      },
      "outputs": [
        {
          "output_type": "execute_result",
          "data": {
            "text/plain": [
              "<sklearn.metrics._plot.confusion_matrix.ConfusionMatrixDisplay at 0x7f5c13a9c430>"
            ]
          },
          "metadata": {},
          "execution_count": 97
        },
        {
          "output_type": "display_data",
          "data": {
            "text/plain": [
              "<Figure size 800x800 with 2 Axes>"
            ],
            "image/png": "[encoded data removed]"
          },
          "metadata": {}
        }
      ],
      "source": [
        "from sklearn.metrics import confusion_matrix, ConfusionMatrixDisplay\n",
        "cm = confusion_matrix(y_test_rvm, y_pred_rvm_knn)\n",
        "labels = ['rest', 'movement']\n",
        "\n",
        "fig, ax = plt.subplots(figsize=(8, 8))\n",
        "plt.title(\"Rest Vs Movement\",  fontdict = {'family':'sans-serif','color':'red','size':30})\n",
        "ConfusionMatrixDisplay(cm, display_labels=labels).plot(ax=ax)"
      ]
    },
    {
      "cell_type": "code",
      "execution_count": 98,
      "metadata": {
        "id": "kqeh7c_aa7K1"
      },
      "outputs": [],
      "source": [
        "from sklearn.model_selection import cross_val_score"
      ]
    },
    {
      "cell_type": "code",
      "execution_count": 99,
      "metadata": {
        "id": "ZcV_gGEUbvrt"
      },
      "outputs": [],
      "source": [
        "X = sc.fit_transform(df.iloc[:,3:])\n",
        "y = df.iloc[:,1].map(lambda x:1 if(x==7) else 0)"
      ]
    },
    {
      "cell_type": "code",
      "execution_count": 100,
      "metadata": {
        "id": "cY7qerL4a8aV",
        "colab": {
          "base_uri": "https://localhost:8080/"
        },
        "outputId": "a45d0a6e-489b-4b3e-f81e-3d310b6460ca"
      },
      "outputs": [
        {
          "output_type": "execute_result",
          "data": {
            "text/plain": [
              "array([0.8292877 , 0.83154264, 0.83678207, 0.82477782, 0.82676748,\n",
              "       0.82849184, 0.82842552, 0.82723173, 0.82796127, 0.82908874])"
            ]
          },
          "metadata": {},
          "execution_count": 100
        }
      ],
      "source": [
        "cross_val_score(knn_rvm, X, y , cv=10)"
      ]
    },
    {
      "cell_type": "code",
      "execution_count": 101,
      "metadata": {
        "id": "BrllsH9ujBOc"
      },
      "outputs": [],
      "source": [
        "acc_vals = {}\n",
        "acc_cross_vals_score = {}\n",
        "for i in range(5,20):\n",
        "  knn_rvm = KNeighborsClassifier(i)\n",
        "  knn_rvm.fit(X_train, y_train_rvm)\n",
        "  y_pred = knn_rvm.predict(X_test)\n",
        "  acc_vals[i] = accuracy_score(y_test_rvm, y_pred_rvm_knn)\n",
        "  acc_cross_vals_score[i] = cross_val_score(knn_rvm, X, y , cv=3)"
      ]
    },
    {
      "cell_type": "code",
      "execution_count": 102,
      "metadata": {
        "id": "Q8cb-LlLnr57",
        "colab": {
          "base_uri": "https://localhost:8080/"
        },
        "outputId": "bec45682-e2af-4d3f-88c3-5ee66b5d000b"
      },
      "outputs": [
        {
          "output_type": "execute_result",
          "data": {
            "text/plain": [
              "94.27642923464651"
            ]
          },
          "metadata": {},
          "execution_count": 102
        }
      ],
      "source": [
        "max(acc_vals.values())*100"
      ]
    },
    {
      "cell_type": "code",
      "execution_count": 103,
      "metadata": {
        "id": "RfK-W-aGohGI",
        "colab": {
          "base_uri": "https://localhost:8080/"
        },
        "outputId": "7a44a4e6-3a5c-4042-a165-0f257f64100e"
      },
      "outputs": [
        {
          "output_type": "stream",
          "name": "stdout",
          "text": [
            "5 : 77.77225096166602\n",
            "6 : 80.64133174161029\n",
            "7 : 79.28770393951451\n",
            "8 : 81.39541053190078\n",
            "9 : 80.35283194057567\n",
            "10 : 81.97241013397003\n",
            "11 : 81.1858336649423\n",
            "12 : 82.42140867489057\n",
            "13 : 81.82517575275236\n",
            "14 : 82.78286244860061\n",
            "15 : 82.29738692134235\n",
            "16 : 83.07932086483618\n",
            "17 : 82.69863377105717\n",
            "18 : 83.32670115399921\n",
            "19 : 82.99111287969227\n"
          ]
        }
      ],
      "source": [
        "from statistics import mean\n",
        "for k,v in acc_cross_vals_score.items():\n",
        "  print(k, \":\", mean(v)*100)"
      ]
    },
    {
      "cell_type": "markdown",
      "metadata": {
        "id": "DK7nXrrjyOyO"
      },
      "source": [
        "##Random Forrest"
      ]
    },
    {
      "cell_type": "code",
      "execution_count": 104,
      "metadata": {
        "id": "gyGN3ENkyOyP"
      },
      "outputs": [],
      "source": [
        "from sklearn.ensemble import RandomForestClassifier"
      ]
    },
    {
      "cell_type": "code",
      "execution_count": 105,
      "metadata": {
        "id": "5l2hlIshyOyP"
      },
      "outputs": [],
      "source": [
        "rfc_rvm = RandomForestClassifier()"
      ]
    },
    {
      "cell_type": "code",
      "execution_count": 106,
      "metadata": {
        "id": "pHyp9fMZyOyP",
        "colab": {
          "base_uri": "https://localhost:8080/",
          "height": 75
        },
        "outputId": "8a544ad0-4124-4899-820d-4dc729095f1c"
      },
      "outputs": [
        {
          "output_type": "execute_result",
          "data": {
            "text/plain": [
              "RandomForestClassifier()"
            ],
            "text/html": [
              "<style>#sk-container-id-4 {color: black;background-color: white;}#sk-container-id-4 pre{padding: 0;}#sk-container-id-4 div.sk-toggleable {background-color: white;}#sk-container-id-4 label.sk-toggleable__label {cursor: pointer;display: block;width: 100%;margin-bottom: 0;padding: 0.3em;box-sizing: border-box;text-align: center;}#sk-container-id-4 label.sk-toggleable__label-arrow:before {content: \"▸\";float: left;margin-right: 0.25em;color: #696969;}#sk-container-id-4 label.sk-toggleable__label-arrow:hover:before {color: black;}#sk-container-id-4 div.sk-estimator:hover label.sk-toggleable__label-arrow:before {color: black;}#sk-container-id-4 div.sk-toggleable__content {max-height: 0;max-width: 0;overflow: hidden;text-align: left;background-color: #f0f8ff;}#sk-container-id-4 div.sk-toggleable__content pre {margin: 0.2em;color: black;border-radius: 0.25em;background-color: #f0f8ff;}#sk-container-id-4 input.sk-toggleable__control:checked~div.sk-toggleable__content {max-height: 200px;max-width: 100%;overflow: auto;}#sk-container-id-4 input.sk-toggleable__control:checked~label.sk-toggleable__label-arrow:before {content: \"▾\";}#sk-container-id-4 div.sk-estimator input.sk-toggleable__control:checked~label.sk-toggleable__label {background-color: #d4ebff;}#sk-container-id-4 div.sk-label input.sk-toggleable__control:checked~label.sk-toggleable__label {background-color: #d4ebff;}#sk-container-id-4 input.sk-hidden--visually {border: 0;clip: rect(1px 1px 1px 1px);clip: rect(1px, 1px, 1px, 1px);height: 1px;margin: -1px;overflow: hidden;padding: 0;position: absolute;width: 1px;}#sk-container-id-4 div.sk-estimator {font-family: monospace;background-color: #f0f8ff;border: 1px dotted black;border-radius: 0.25em;box-sizing: border-box;margin-bottom: 0.5em;}#sk-container-id-4 div.sk-estimator:hover {background-color: #d4ebff;}#sk-container-id-4 div.sk-parallel-item::after {content: \"\";width: 100%;border-bottom: 1px solid gray;flex-grow: 1;}#sk-container-id-4 div.sk-label:hover label.sk-toggleable__label {background-color: #d4ebff;}#sk-container-id-4 div.sk-serial::before {content: \"\";position: absolute;border-left: 1px solid gray;box-sizing: border-box;top: 0;bottom: 0;left: 50%;z-index: 0;}#sk-container-id-4 div.sk-serial {display: flex;flex-direction: column;align-items: center;background-color: white;padding-right: 0.2em;padding-left: 0.2em;position: relative;}#sk-container-id-4 div.sk-item {position: relative;z-index: 1;}#sk-container-id-4 div.sk-parallel {display: flex;align-items: stretch;justify-content: center;background-color: white;position: relative;}#sk-container-id-4 div.sk-item::before, #sk-container-id-4 div.sk-parallel-item::before {content: \"\";position: absolute;border-left: 1px solid gray;box-sizing: border-box;top: 0;bottom: 0;left: 50%;z-index: -1;}#sk-container-id-4 div.sk-parallel-item {display: flex;flex-direction: column;z-index: 1;position: relative;background-color: white;}#sk-container-id-4 div.sk-parallel-item:first-child::after {align-self: flex-end;width: 50%;}#sk-container-id-4 div.sk-parallel-item:last-child::after {align-self: flex-start;width: 50%;}#sk-container-id-4 div.sk-parallel-item:only-child::after {width: 0;}#sk-container-id-4 div.sk-dashed-wrapped {border: 1px dashed gray;margin: 0 0.4em 0.5em 0.4em;box-sizing: border-box;padding-bottom: 0.4em;background-color: white;}#sk-container-id-4 div.sk-label label {font-family: monospace;font-weight: bold;display: inline-block;line-height: 1.2em;}#sk-container-id-4 div.sk-label-container {text-align: center;}#sk-container-id-4 div.sk-container {/* jupyter's `normalize.less` sets `[hidden] { display: none; }` but bootstrap.min.css set `[hidden] { display: none !important; }` so we also need the `!important` here to be able to override the default hidden behavior on the sphinx rendered scikit-learn.org. See: https://github.com/scikit-learn/scikit-learn/issues/21755 */display: inline-block !important;position: relative;}#sk-container-id-4 div.sk-text-repr-fallback {display: none;}</style><div id=\"sk-container-id-4\" class=\"sk-top-container\"><div class=\"sk-text-repr-fallback\"><pre>RandomForestClassifier()</pre><b>In a Jupyter environment, please rerun this cell to show the HTML representation or trust the notebook. <br />On GitHub, the HTML representation is unable to render, please try loading this page with nbviewer.org.</b></div><div class=\"sk-container\" hidden><div class=\"sk-item\"><div class=\"sk-estimator sk-toggleable\"><input class=\"sk-toggleable__control sk-hidden--visually\" id=\"sk-estimator-id-4\" type=\"checkbox\" checked><label for=\"sk-estimator-id-4\" class=\"sk-toggleable__label sk-toggleable__label-arrow\">RandomForestClassifier</label><div class=\"sk-toggleable__content\"><pre>RandomForestClassifier()</pre></div></div></div></div></div>"
            ]
          },
          "metadata": {},
          "execution_count": 106
        }
      ],
      "source": [
        "rfc_rvm.fit(X_train, y_train_rvm)"
      ]
    },
    {
      "cell_type": "code",
      "execution_count": 107,
      "metadata": {
        "id": "CSSpzEslyOyQ"
      },
      "outputs": [],
      "source": [
        "y_pred_mvm_rfc = rfc_rvm.predict(X_test)"
      ]
    },
    {
      "cell_type": "code",
      "execution_count": 108,
      "metadata": {
        "id": "WqUK1hi9yOyQ",
        "colab": {
          "base_uri": "https://localhost:8080/"
        },
        "outputId": "61c82e41-68c3-41f8-bcdf-d1e59900a9e0"
      },
      "outputs": [
        {
          "output_type": "execute_result",
          "data": {
            "text/plain": [
              "0.9229672370340894"
            ]
          },
          "metadata": {},
          "execution_count": 108
        }
      ],
      "source": [
        "accuracy_score(y_test_rvm, y_pred_mvm_rfc)"
      ]
    },
    {
      "cell_type": "code",
      "execution_count": 109,
      "metadata": {
        "id": "p9QivNrCyOyQ",
        "colab": {
          "base_uri": "https://localhost:8080/",
          "height": 670
        },
        "outputId": "7987fb81-4950-4c00-a7e1-ff6d522f9e94"
      },
      "outputs": [
        {
          "output_type": "execute_result",
          "data": {
            "text/plain": [
              "<sklearn.metrics._plot.confusion_matrix.ConfusionMatrixDisplay at 0x7f5c154c0b50>"
            ]
          },
          "metadata": {},
          "execution_count": 109
        },
        {
          "output_type": "display_data",
          "data": {
            "text/plain": [
              "<Figure size 800x800 with 2 Axes>"
            ],
            "image/png": "[encoded data removed]"
          },
          "metadata": {}
        }
      ],
      "source": [
        "from sklearn.metrics import confusion_matrix, ConfusionMatrixDisplay\n",
        "cm = confusion_matrix(y_pred_mvm_rfc, y_pred)\n",
        "labels = ['rest', 'movement']\n",
        "\n",
        "fig, ax = plt.subplots(figsize=(8, 8))\n",
        "plt.title(\"Rest Vs Movement\",  fontdict = {'family':'sans-serif','color':'red','size':30})\n",
        "ConfusionMatrixDisplay(cm, display_labels=labels).plot(ax=ax)"
      ]
    },
    {
      "cell_type": "markdown",
      "metadata": {
        "id": "hKuxx-v-dvb9"
      },
      "source": [
        "#---------------------------------------------------- Movement vs Movement ------------------------------------------------"
      ]
    },
    {
      "cell_type": "code",
      "execution_count": 110,
      "metadata": {
        "id": "3U_EUDd9jbNb"
      },
      "outputs": [],
      "source": [
        "X_train_mvm,X_test_mvm, y_train_mvm,y_test_mvm = train_test_split(df[df[\"condition\"]<7].iloc[:,3:], df[df[\"condition\"]<7].iloc[:,1], test_size=0.25, random_state=213)"
      ]
    },
    {
      "cell_type": "code",
      "execution_count": 111,
      "metadata": {
        "id": "5ySGAUv7dxzk"
      },
      "outputs": [],
      "source": [
        "sc2 = StandardScaler()\n",
        "\n",
        "X_train_mvm = sc2.fit_transform(X_train_mvm)\n",
        "X_test_mvm = sc2.transform(X_test_mvm)"
      ]
    },
    {
      "cell_type": "code",
      "execution_count": 112,
      "metadata": {
        "id": "MLaTS2u4jI2z"
      },
      "outputs": [],
      "source": [
        "y_train_mvm = y_train_mvm.map(lambda x:x-1)\n",
        "y_test_mvm = y_test_mvm.map(lambda x:x-1)"
      ]
    },
    {
      "cell_type": "markdown",
      "metadata": {
        "id": "jWqUOEvxgcUO"
      },
      "source": [
        "##KNN"
      ]
    },
    {
      "cell_type": "code",
      "execution_count": 113,
      "metadata": {
        "id": "eIK6JfVDgazX",
        "colab": {
          "base_uri": "https://localhost:8080/",
          "height": 75
        },
        "outputId": "d3d9b8f7-3dbe-4ed4-e8c0-c4361f1e5c44"
      },
      "outputs": [
        {
          "output_type": "execute_result",
          "data": {
            "text/plain": [
              "KNeighborsClassifier()"
            ],
            "text/html": [
              "<style>#sk-container-id-5 {color: black;background-color: white;}#sk-container-id-5 pre{padding: 0;}#sk-container-id-5 div.sk-toggleable {background-color: white;}#sk-container-id-5 label.sk-toggleable__label {cursor: pointer;display: block;width: 100%;margin-bottom: 0;padding: 0.3em;box-sizing: border-box;text-align: center;}#sk-container-id-5 label.sk-toggleable__label-arrow:before {content: \"▸\";float: left;margin-right: 0.25em;color: #696969;}#sk-container-id-5 label.sk-toggleable__label-arrow:hover:before {color: black;}#sk-container-id-5 div.sk-estimator:hover label.sk-toggleable__label-arrow:before {color: black;}#sk-container-id-5 div.sk-toggleable__content {max-height: 0;max-width: 0;overflow: hidden;text-align: left;background-color: #f0f8ff;}#sk-container-id-5 div.sk-toggleable__content pre {margin: 0.2em;color: black;border-radius: 0.25em;background-color: #f0f8ff;}#sk-container-id-5 input.sk-toggleable__control:checked~div.sk-toggleable__content {max-height: 200px;max-width: 100%;overflow: auto;}#sk-container-id-5 input.sk-toggleable__control:checked~label.sk-toggleable__label-arrow:before {content: \"▾\";}#sk-container-id-5 div.sk-estimator input.sk-toggleable__control:checked~label.sk-toggleable__label {background-color: #d4ebff;}#sk-container-id-5 div.sk-label input.sk-toggleable__control:checked~label.sk-toggleable__label {background-color: #d4ebff;}#sk-container-id-5 input.sk-hidden--visually {border: 0;clip: rect(1px 1px 1px 1px);clip: rect(1px, 1px, 1px, 1px);height: 1px;margin: -1px;overflow: hidden;padding: 0;position: absolute;width: 1px;}#sk-container-id-5 div.sk-estimator {font-family: monospace;background-color: #f0f8ff;border: 1px dotted black;border-radius: 0.25em;box-sizing: border-box;margin-bottom: 0.5em;}#sk-container-id-5 div.sk-estimator:hover {background-color: #d4ebff;}#sk-container-id-5 div.sk-parallel-item::after {content: \"\";width: 100%;border-bottom: 1px solid gray;flex-grow: 1;}#sk-container-id-5 div.sk-label:hover label.sk-toggleable__label {background-color: #d4ebff;}#sk-container-id-5 div.sk-serial::before {content: \"\";position: absolute;border-left: 1px solid gray;box-sizing: border-box;top: 0;bottom: 0;left: 50%;z-index: 0;}#sk-container-id-5 div.sk-serial {display: flex;flex-direction: column;align-items: center;background-color: white;padding-right: 0.2em;padding-left: 0.2em;position: relative;}#sk-container-id-5 div.sk-item {position: relative;z-index: 1;}#sk-container-id-5 div.sk-parallel {display: flex;align-items: stretch;justify-content: center;background-color: white;position: relative;}#sk-container-id-5 div.sk-item::before, #sk-container-id-5 div.sk-parallel-item::before {content: \"\";position: absolute;border-left: 1px solid gray;box-sizing: border-box;top: 0;bottom: 0;left: 50%;z-index: -1;}#sk-container-id-5 div.sk-parallel-item {display: flex;flex-direction: column;z-index: 1;position: relative;background-color: white;}#sk-container-id-5 div.sk-parallel-item:first-child::after {align-self: flex-end;width: 50%;}#sk-container-id-5 div.sk-parallel-item:last-child::after {align-self: flex-start;width: 50%;}#sk-container-id-5 div.sk-parallel-item:only-child::after {width: 0;}#sk-container-id-5 div.sk-dashed-wrapped {border: 1px dashed gray;margin: 0 0.4em 0.5em 0.4em;box-sizing: border-box;padding-bottom: 0.4em;background-color: white;}#sk-container-id-5 div.sk-label label {font-family: monospace;font-weight: bold;display: inline-block;line-height: 1.2em;}#sk-container-id-5 div.sk-label-container {text-align: center;}#sk-container-id-5 div.sk-container {/* jupyter's `normalize.less` sets `[hidden] { display: none; }` but bootstrap.min.css set `[hidden] { display: none !important; }` so we also need the `!important` here to be able to override the default hidden behavior on the sphinx rendered scikit-learn.org. See: https://github.com/scikit-learn/scikit-learn/issues/21755 */display: inline-block !important;position: relative;}#sk-container-id-5 div.sk-text-repr-fallback {display: none;}</style><div id=\"sk-container-id-5\" class=\"sk-top-container\"><div class=\"sk-text-repr-fallback\"><pre>KNeighborsClassifier()</pre><b>In a Jupyter environment, please rerun this cell to show the HTML representation or trust the notebook. <br />On GitHub, the HTML representation is unable to render, please try loading this page with nbviewer.org.</b></div><div class=\"sk-container\" hidden><div class=\"sk-item\"><div class=\"sk-estimator sk-toggleable\"><input class=\"sk-toggleable__control sk-hidden--visually\" id=\"sk-estimator-id-5\" type=\"checkbox\" checked><label for=\"sk-estimator-id-5\" class=\"sk-toggleable__label sk-toggleable__label-arrow\">KNeighborsClassifier</label><div class=\"sk-toggleable__content\"><pre>KNeighborsClassifier()</pre></div></div></div></div></div>"
            ]
          },
          "metadata": {},
          "execution_count": 113
        }
      ],
      "source": [
        "knn_mvm = KNeighborsClassifier()\n",
        "knn_mvm.fit(X_train_mvm, y_train_mvm)"
      ]
    },
    {
      "cell_type": "code",
      "execution_count": 114,
      "metadata": {
        "id": "tGRm-MmhgugX"
      },
      "outputs": [],
      "source": [
        "y_pred_mvm = knn_mvm.predict(X_test_mvm)"
      ]
    },
    {
      "cell_type": "code",
      "execution_count": 115,
      "metadata": {
        "id": "VcDPTW8QgizZ",
        "colab": {
          "base_uri": "https://localhost:8080/"
        },
        "outputId": "c8c661bb-43d4-4bda-ef51-7042b146d035"
      },
      "outputs": [
        {
          "output_type": "execute_result",
          "data": {
            "text/plain": [
              "0.8704735376044568"
            ]
          },
          "metadata": {},
          "execution_count": 115
        }
      ],
      "source": [
        "accuracy_score(y_test_mvm, y_pred_mvm)"
      ]
    },
    {
      "cell_type": "code",
      "execution_count": 116,
      "metadata": {
        "id": "VgCdgGgkg8PI",
        "colab": {
          "base_uri": "https://localhost:8080/",
          "height": 978
        },
        "outputId": "8823af02-8e04-4354-90b2-a101e359e360"
      },
      "outputs": [
        {
          "output_type": "execute_result",
          "data": {
            "text/plain": [
              "<sklearn.metrics._plot.confusion_matrix.ConfusionMatrixDisplay at 0x7f5c77fd43a0>"
            ]
          },
          "metadata": {},
          "execution_count": 116
        },
        {
          "output_type": "display_data",
          "data": {
            "text/plain": [
              "<Figure size 1200x1200 with 2 Axes>"
            ],
            "image/png": "[encoded data removed]"
          },
          "metadata": {}
        }
      ],
      "source": [
        "cm = confusion_matrix(y_test_mvm,y_pred_mvm)\n",
        "labels = ['elbow flexion', 'elbow extension', 'supination', 'pronation', 'hand close', 'hand open']\n",
        "\n",
        "fig, ax = plt.subplots(figsize=(12, 12))\n",
        "plt.title(\"Movement Vs Movement\",  fontdict = {'family':'sans-serif','color':'red','size':30})\n",
        "ConfusionMatrixDisplay(cm, display_labels=labels).plot(ax=ax)"
      ]
    },
    {
      "cell_type": "markdown",
      "metadata": {
        "id": "WfCkTW2svFP_"
      },
      "source": [
        "##Random Forrest"
      ]
    },
    {
      "cell_type": "code",
      "execution_count": 117,
      "metadata": {
        "id": "qlzI9w8FvNhH"
      },
      "outputs": [],
      "source": [
        "from sklearn.ensemble import RandomForestClassifier"
      ]
    },
    {
      "cell_type": "code",
      "execution_count": 118,
      "metadata": {
        "id": "gTtod2WDvT7a"
      },
      "outputs": [],
      "source": [
        "rfc_mvm = RandomForestClassifier(50)"
      ]
    },
    {
      "cell_type": "code",
      "execution_count": 119,
      "metadata": {
        "colab": {
          "base_uri": "https://localhost:8080/",
          "height": 75
        },
        "id": "bQcVLcqYv5VW",
        "outputId": "c9d9ce1b-0c1f-426d-bff3-370daf05dc5b"
      },
      "outputs": [
        {
          "output_type": "execute_result",
          "data": {
            "text/plain": [
              "RandomForestClassifier(n_estimators=50)"
            ],
            "text/html": [
              "<style>#sk-container-id-6 {color: black;background-color: white;}#sk-container-id-6 pre{padding: 0;}#sk-container-id-6 div.sk-toggleable {background-color: white;}#sk-container-id-6 label.sk-toggleable__label {cursor: pointer;display: block;width: 100%;margin-bottom: 0;padding: 0.3em;box-sizing: border-box;text-align: center;}#sk-container-id-6 label.sk-toggleable__label-arrow:before {content: \"▸\";float: left;margin-right: 0.25em;color: #696969;}#sk-container-id-6 label.sk-toggleable__label-arrow:hover:before {color: black;}#sk-container-id-6 div.sk-estimator:hover label.sk-toggleable__label-arrow:before {color: black;}#sk-container-id-6 div.sk-toggleable__content {max-height: 0;max-width: 0;overflow: hidden;text-align: left;background-color: #f0f8ff;}#sk-container-id-6 div.sk-toggleable__content pre {margin: 0.2em;color: black;border-radius: 0.25em;background-color: #f0f8ff;}#sk-container-id-6 input.sk-toggleable__control:checked~div.sk-toggleable__content {max-height: 200px;max-width: 100%;overflow: auto;}#sk-container-id-6 input.sk-toggleable__control:checked~label.sk-toggleable__label-arrow:before {content: \"▾\";}#sk-container-id-6 div.sk-estimator input.sk-toggleable__control:checked~label.sk-toggleable__label {background-color: #d4ebff;}#sk-container-id-6 div.sk-label input.sk-toggleable__control:checked~label.sk-toggleable__label {background-color: #d4ebff;}#sk-container-id-6 input.sk-hidden--visually {border: 0;clip: rect(1px 1px 1px 1px);clip: rect(1px, 1px, 1px, 1px);height: 1px;margin: -1px;overflow: hidden;padding: 0;position: absolute;width: 1px;}#sk-container-id-6 div.sk-estimator {font-family: monospace;background-color: #f0f8ff;border: 1px dotted black;border-radius: 0.25em;box-sizing: border-box;margin-bottom: 0.5em;}#sk-container-id-6 div.sk-estimator:hover {background-color: #d4ebff;}#sk-container-id-6 div.sk-parallel-item::after {content: \"\";width: 100%;border-bottom: 1px solid gray;flex-grow: 1;}#sk-container-id-6 div.sk-label:hover label.sk-toggleable__label {background-color: #d4ebff;}#sk-container-id-6 div.sk-serial::before {content: \"\";position: absolute;border-left: 1px solid gray;box-sizing: border-box;top: 0;bottom: 0;left: 50%;z-index: 0;}#sk-container-id-6 div.sk-serial {display: flex;flex-direction: column;align-items: center;background-color: white;padding-right: 0.2em;padding-left: 0.2em;position: relative;}#sk-container-id-6 div.sk-item {position: relative;z-index: 1;}#sk-container-id-6 div.sk-parallel {display: flex;align-items: stretch;justify-content: center;background-color: white;position: relative;}#sk-container-id-6 div.sk-item::before, #sk-container-id-6 div.sk-parallel-item::before {content: \"\";position: absolute;border-left: 1px solid gray;box-sizing: border-box;top: 0;bottom: 0;left: 50%;z-index: -1;}#sk-container-id-6 div.sk-parallel-item {display: flex;flex-direction: column;z-index: 1;position: relative;background-color: white;}#sk-container-id-6 div.sk-parallel-item:first-child::after {align-self: flex-end;width: 50%;}#sk-container-id-6 div.sk-parallel-item:last-child::after {align-self: flex-start;width: 50%;}#sk-container-id-6 div.sk-parallel-item:only-child::after {width: 0;}#sk-container-id-6 div.sk-dashed-wrapped {border: 1px dashed gray;margin: 0 0.4em 0.5em 0.4em;box-sizing: border-box;padding-bottom: 0.4em;background-color: white;}#sk-container-id-6 div.sk-label label {font-family: monospace;font-weight: bold;display: inline-block;line-height: 1.2em;}#sk-container-id-6 div.sk-label-container {text-align: center;}#sk-container-id-6 div.sk-container {/* jupyter's `normalize.less` sets `[hidden] { display: none; }` but bootstrap.min.css set `[hidden] { display: none !important; }` so we also need the `!important` here to be able to override the default hidden behavior on the sphinx rendered scikit-learn.org. See: https://github.com/scikit-learn/scikit-learn/issues/21755 */display: inline-block !important;position: relative;}#sk-container-id-6 div.sk-text-repr-fallback {display: none;}</style><div id=\"sk-container-id-6\" class=\"sk-top-container\"><div class=\"sk-text-repr-fallback\"><pre>RandomForestClassifier(n_estimators=50)</pre><b>In a Jupyter environment, please rerun this cell to show the HTML representation or trust the notebook. <br />On GitHub, the HTML representation is unable to render, please try loading this page with nbviewer.org.</b></div><div class=\"sk-container\" hidden><div class=\"sk-item\"><div class=\"sk-estimator sk-toggleable\"><input class=\"sk-toggleable__control sk-hidden--visually\" id=\"sk-estimator-id-6\" type=\"checkbox\" checked><label for=\"sk-estimator-id-6\" class=\"sk-toggleable__label sk-toggleable__label-arrow\">RandomForestClassifier</label><div class=\"sk-toggleable__content\"><pre>RandomForestClassifier(n_estimators=50)</pre></div></div></div></div></div>"
            ]
          },
          "metadata": {},
          "execution_count": 119
        }
      ],
      "source": [
        "rfc_mvm.fit(X_train_mvm, y_train_mvm)"
      ]
    },
    {
      "cell_type": "code",
      "execution_count": 120,
      "metadata": {
        "id": "adMleNSfvlrj"
      },
      "outputs": [],
      "source": [
        "y_pred_mvm_rfc = rfc_mvm.predict(X_test_mvm)"
      ]
    },
    {
      "cell_type": "code",
      "execution_count": 121,
      "metadata": {
        "colab": {
          "base_uri": "https://localhost:8080/"
        },
        "id": "059c4hTKvlrk",
        "outputId": "deff82cb-087d-4106-ec6b-738e22f36807"
      },
      "outputs": [
        {
          "output_type": "execute_result",
          "data": {
            "text/plain": [
              "0.8727329000309502"
            ]
          },
          "metadata": {},
          "execution_count": 121
        }
      ],
      "source": [
        "from sklearn.metrics import accuracy_score\n",
        "accuracy_score(y_test_mvm, y_pred_mvm_rfc)"
      ]
    },
    {
      "cell_type": "code",
      "execution_count": 122,
      "metadata": {
        "colab": {
          "base_uri": "https://localhost:8080/"
        },
        "id": "Q7V284FEJHo7",
        "outputId": "7e82908b-d1ec-450c-c9cd-9717d3c8c805"
      },
      "outputs": [
        {
          "output_type": "stream",
          "name": "stdout",
          "text": [
            "200  :  90.86\n",
            "220  :  91.09\n",
            "240  :  91.15\n",
            "260  :  91.09\n",
            "280  :  91.35\n",
            "300  :  91.26\n",
            "320  :  91.44\n",
            "340  :  91.41\n",
            "360  :  91.47\n",
            "380  :  91.47\n",
            "400  :  91.64\n"
          ]
        }
      ],
      "source": [
        "scores={}\n",
        "for i in range(200,401,20):\n",
        "  rfc_mvm = RandomForestClassifier(i)\n",
        "  rfc_mvm.fit(X_train_mvm, y_train_mvm)\n",
        "  y_pred_mvm_rfc = rfc_mvm.predict(X_test_mvm)\n",
        "  scores[i] = accuracy_score(y_test_mvm, y_pred_mvm_rfc)*100\n",
        "  print(i, \" : \", \"%.2f\"%(accuracy_score(y_test_mvm, y_pred_mvm_rfc)*100))"
      ]
    },
    {
      "cell_type": "code",
      "execution_count": 123,
      "metadata": {
        "colab": {
          "base_uri": "https://localhost:8080/",
          "height": 978
        },
        "id": "iCQ6T4LTvlrk",
        "outputId": "6ffa363e-03eb-4d7d-e8ab-cd56290a2f1a"
      },
      "outputs": [
        {
          "output_type": "execute_result",
          "data": {
            "text/plain": [
              "<sklearn.metrics._plot.confusion_matrix.ConfusionMatrixDisplay at 0x7f5c12456820>"
            ]
          },
          "metadata": {},
          "execution_count": 123
        },
        {
          "output_type": "display_data",
          "data": {
            "text/plain": [
              "<Figure size 1200x1200 with 2 Axes>"
            ],
            "image/png": "[encoded data removed]"
          },
          "metadata": {}
        }
      ],
      "source": [
        "from sklearn.metrics import confusion_matrix, ConfusionMatrixDisplay\n",
        "\n",
        "cm = confusion_matrix(y_test_mvm,y_pred_mvm_rfc)\n",
        "labels = ['elbow flexion', 'elbow extension', 'supination', 'pronation', 'hand close', 'hand open']\n",
        "\n",
        "fig, ax = plt.subplots(figsize=(12, 12))\n",
        "plt.title(\"Movement Vs Movement\",  fontdict = {'family':'sans-serif','color':'red','size':30})\n",
        "ConfusionMatrixDisplay(cm, display_labels=labels).plot(ax=ax)"
      ]
    },
    {
      "cell_type": "code",
      "execution_count": 123,
      "metadata": {
        "id": "OCJJJEj4Ireb"
      },
      "outputs": [],
      "source": []
    }
  ],
  "metadata": {
    "colab": {
      "provenance": []
    },
    "kernelspec": {
      "display_name": "Python 3",
      "name": "python3"
    },
    "language_info": {
      "name": "python"
    }
  },
  "nbformat": 4,
  "nbformat_minor": 0
}