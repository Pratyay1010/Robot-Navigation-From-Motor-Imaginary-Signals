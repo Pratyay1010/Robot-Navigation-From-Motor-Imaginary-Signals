{
  "cells": [
    {
      "cell_type": "markdown",
      "metadata": {
        "colab_type": "text",
        "id": "view-in-github"
      },
      "source": [
        "<a href=\"https://colab.research.google.com/github/Pratyay1010/Upper-limb-movements-can-be-decoded-from-the-time--domain-of-low-frequency-EEG/blob/testing/eeg_v2.ipynb\" target=\"_parent\"><img src=\"https://colab.research.google.com/assets/colab-badge.svg\" alt=\"Open In Colab\"/></a>"
      ]
    },
    {
      "cell_type": "code",
      "execution_count": 100,
      "metadata": {
        "id": "xc2NvDJkGqB0"
      },
      "outputs": [],
      "source": [
        "%%capture\n",
        "pip install mne"
      ]
    },
    {
      "cell_type": "code",
      "execution_count": 101,
      "metadata": {
        "id": "VeDWZJ2NjWwJ"
      },
      "outputs": [],
      "source": [
        "import mne\n",
        "import pandas as pd\n",
        "import numpy as np\n",
        "import matplotlib.pyplot as plt\n",
        "from scipy import signal as sig"
      ]
    },
    {
      "cell_type": "markdown",
      "metadata": {
        "id": "f0f5q1j_jcUS"
      },
      "source": [
        "### **Data Importing**"
      ]
    },
    {
      "cell_type": "code",
      "execution_count": 102,
      "metadata": {
        "colab": {
          "base_uri": "https://localhost:8080/"
        },
        "id": "Abj5qSqvGnZi",
        "outputId": "fd897ac7-3ba3-4b7d-b647-890efd12a9fb"
      },
      "outputs": [
        {
          "name": "stdout",
          "output_type": "stream",
          "text": [
            "[WinError 3] The system cannot find the path specified: 'Datasets/S01/S01_ME'\n",
            "c:\\Users\\praty\\Documents\\Project - Final Year\\Datasets\\S01\\S01_ME\n"
          ]
        }
      ],
      "source": [
        "cd Datasets/S01/S01_ME"
      ]
    },
    {
      "cell_type": "code",
      "execution_count": 103,
      "metadata": {
        "colab": {
          "base_uri": "https://localhost:8080/"
        },
        "id": "dCMssmDaG1Kz",
        "outputId": "bbfe7e99-b729-4713-b9dd-0102998ead07"
      },
      "outputs": [
        {
          "name": "stdout",
          "output_type": "stream",
          "text": [
            " Volume in drive C has no label.\n",
            " Volume Serial Number is 0E41-4584\n",
            "\n",
            " Directory of c:\\Users\\praty\\Documents\\Project - Final Year\\Datasets\\S01\\S01_ME\n",
            "\n",
            "20-11-2022  11:47 PM    <DIR>          .\n",
            "20-11-2022  11:47 PM    <DIR>          ..\n",
            "26-05-2015  09:18 PM        89,712,620 motorexecution_subject1_run1.gdf\n",
            "26-05-2015  10:26 PM        90,269,676 motorexecution_subject1_run10.gdf\n",
            "26-05-2015  09:24 PM        90,269,676 motorexecution_subject1_run2.gdf\n",
            "26-05-2015  09:32 PM        90,269,676 motorexecution_subject1_run3.gdf\n",
            "26-05-2015  09:38 PM        89,991,148 motorexecution_subject1_run4.gdf\n",
            "26-05-2015  09:48 PM        90,269,676 motorexecution_subject1_run5.gdf\n",
            "26-05-2015  09:59 PM        91,105,260 motorexecution_subject1_run6.gdf\n",
            "26-05-2015  10:04 PM        91,383,788 motorexecution_subject1_run7.gdf\n",
            "26-05-2015  10:14 PM        91,662,316 motorexecution_subject1_run8.gdf\n",
            "26-05-2015  10:21 PM        89,991,148 motorexecution_subject1_run9.gdf\n",
            "              10 File(s)    904,924,984 bytes\n",
            "               2 Dir(s)  18,622,889,984 bytes free\n"
          ]
        }
      ],
      "source": [
        "ls"
      ]
    },
    {
      "cell_type": "code",
      "execution_count": 104,
      "metadata": {
        "id": "uSypM11yjYwR"
      },
      "outputs": [],
      "source": [
        "from glob import glob\n",
        "S01_ME_Files = glob('*.gdf')\n",
        "#S01_MI_Files = glob('Datasets/S01/S01_MI/*.gdf')"
      ]
    },
    {
      "cell_type": "code",
      "execution_count": 105,
      "metadata": {
        "colab": {
          "base_uri": "https://localhost:8080/"
        },
        "id": "0ZUZBRR2IPnu",
        "outputId": "098bf5c1-a906-4279-8a33-3f76aaf5a470"
      },
      "outputs": [
        {
          "data": {
            "text/plain": [
              "['motorexecution_subject1_run1.gdf',\n",
              " 'motorexecution_subject1_run10.gdf',\n",
              " 'motorexecution_subject1_run2.gdf',\n",
              " 'motorexecution_subject1_run3.gdf',\n",
              " 'motorexecution_subject1_run4.gdf',\n",
              " 'motorexecution_subject1_run5.gdf',\n",
              " 'motorexecution_subject1_run6.gdf',\n",
              " 'motorexecution_subject1_run7.gdf',\n",
              " 'motorexecution_subject1_run8.gdf',\n",
              " 'motorexecution_subject1_run9.gdf']"
            ]
          },
          "execution_count": 105,
          "metadata": {},
          "output_type": "execute_result"
        }
      ],
      "source": [
        "S01_ME_Files"
      ]
    },
    {
      "cell_type": "markdown",
      "metadata": {
        "id": "0QcVEh_LfJZZ"
      },
      "source": [
        "##Data Testing"
      ]
    },
    {
      "cell_type": "code",
      "execution_count": 106,
      "metadata": {
        "colab": {
          "base_uri": "https://localhost:8080/"
        },
        "id": "Bq5v3baSGe6M",
        "outputId": "1064a447-ca80-4a18-c2da-17fd8dfdb33a"
      },
      "outputs": [
        {
          "name": "stdout",
          "output_type": "stream",
          "text": [
            "Extracting EDF parameters from c:\\Users\\praty\\Documents\\Project - Final Year\\Datasets\\S01\\S01_ME\\motorexecution_subject1_run1.gdf...\n",
            "GDF file detected\n",
            "Setting channel info structure...\n",
            "Could not determine channel type of the following channels, they will be set as EEG:\n",
            "eeg, eeg, eeg, eeg, eeg, eeg, eeg, eeg, eeg, eeg, eeg, eeg, eeg, eeg, eeg, eeg, eeg, eeg, eeg, eeg, eeg, eeg, eeg, eeg, eeg, eeg, eeg, eeg, eeg, eeg, eeg, eeg, eeg, eeg, eeg, eeg, eeg, eeg, eeg, eeg, eeg, eeg, eeg, eeg, eeg, eeg, eeg, eeg, eeg, eeg, eeg, eeg, eeg, eeg, eeg, eeg, eeg, eeg, eeg, eeg, eeg\n",
            "Creating raw.info structure...\n",
            "Reading 0 ... 164863  =      0.000 ...   321.998 secs...\n"
          ]
        },
        {
          "name": "stderr",
          "output_type": "stream",
          "text": [
            "c:\\Users\\praty\\AppData\\Local\\Programs\\Python\\Python310\\lib\\contextlib.py:142: RuntimeWarning: Channel names are not unique, found duplicates for: {'eeg'}. Applying running numbers for duplicates.\n",
            "  next(self.gen)\n"
          ]
        }
      ],
      "source": [
        "raw = mne.io.read_raw_gdf(S01_ME_Files[0], exclude=('eog-r', 'eog-m', 'eog-l','thumb_near', 'thumb_far', 'thumb_index', 'index_near', 'index_far', 'index_middle', 'middle_near', 'middle_far', 'middle_ring', 'ring_near', 'ring_far', 'ring_little', 'litte_near', 'litte_far', 'thumb_palm', 'wrist_bend', 'roll', 'pitch', 'gesture', 'handPosX', 'handPosY', 'handPosZ', 'elbowPosX', 'elbowPosY', 'elbowPosZ', 'ShoulderAdductio', 'ShoulderFlexionE', 'ShoulderRotation', 'Elbow', 'ProSupination', 'Wrist', 'GripPressure'),preload=True)"
      ]
    },
    {
      "cell_type": "code",
      "execution_count": 107,
      "metadata": {
        "colab": {
          "base_uri": "https://localhost:8080/"
        },
        "id": "pmRIQvZ_Ge6N",
        "outputId": "135c92ee-de0c-40d1-c732-efff50910496"
      },
      "outputs": [
        {
          "name": "stdout",
          "output_type": "stream",
          "text": [
            "<Info | 7 non-empty values\n",
            " bads: []\n",
            " ch_names: eeg-0, eeg-1, eeg-2, eeg-3, eeg-4, eeg-5, eeg-6, eeg-7, eeg-8, ...\n",
            " chs: 61 EEG\n",
            " custom_ref_applied: False\n",
            " highpass: 0.0 Hz\n",
            " lowpass: 256.0 Hz\n",
            " meas_date: 2015-05-26 15:42:48 UTC\n",
            " nchan: 61\n",
            " projs: []\n",
            " sfreq: 512.0 Hz\n",
            ">\n"
          ]
        }
      ],
      "source": [
        "print(raw.info)"
      ]
    },
    {
      "cell_type": "code",
      "execution_count": 108,
      "metadata": {
        "colab": {
          "base_uri": "https://localhost:8080/",
          "height": 926
        },
        "id": "NSkrvXDDGe6N",
        "outputId": "4981aa31-7287-4820-846a-f6235a4d4d9d"
      },
      "outputs": [
        {
          "data": {
            "text/html": [
              "<div>\n",
              "<style scoped>\n",
              "    .dataframe tbody tr th:only-of-type {\n",
              "        vertical-align: middle;\n",
              "    }\n",
              "\n",
              "    .dataframe tbody tr th {\n",
              "        vertical-align: top;\n",
              "    }\n",
              "\n",
              "    .dataframe thead th {\n",
              "        text-align: right;\n",
              "    }\n",
              "</style>\n",
              "<table border=\"1\" class=\"dataframe\">\n",
              "  <thead>\n",
              "    <tr style=\"text-align: right;\">\n",
              "      <th></th>\n",
              "      <th>time</th>\n",
              "      <th>eeg-0</th>\n",
              "      <th>eeg-1</th>\n",
              "      <th>eeg-2</th>\n",
              "      <th>eeg-3</th>\n",
              "      <th>eeg-4</th>\n",
              "      <th>eeg-5</th>\n",
              "      <th>eeg-6</th>\n",
              "      <th>eeg-7</th>\n",
              "      <th>eeg-8</th>\n",
              "      <th>...</th>\n",
              "      <th>eeg-51</th>\n",
              "      <th>eeg-52</th>\n",
              "      <th>eeg-53</th>\n",
              "      <th>eeg-54</th>\n",
              "      <th>eeg-55</th>\n",
              "      <th>eeg-56</th>\n",
              "      <th>eeg-57</th>\n",
              "      <th>eeg-58</th>\n",
              "      <th>eeg-59</th>\n",
              "      <th>eeg-60</th>\n",
              "    </tr>\n",
              "  </thead>\n",
              "  <tbody>\n",
              "    <tr>\n",
              "      <th>0</th>\n",
              "      <td>0.000000</td>\n",
              "      <td>0.000000e+00</td>\n",
              "      <td>0.000000e+00</td>\n",
              "      <td>0.000000e+00</td>\n",
              "      <td>0.000000e+00</td>\n",
              "      <td>0.000000e+00</td>\n",
              "      <td>0.000000e+00</td>\n",
              "      <td>0.000000e+00</td>\n",
              "      <td>0.000000e+00</td>\n",
              "      <td>0.000000e+00</td>\n",
              "      <td>...</td>\n",
              "      <td>0.000000e+00</td>\n",
              "      <td>0.000000e+00</td>\n",
              "      <td>0.000000e+00</td>\n",
              "      <td>0.000000e+00</td>\n",
              "      <td>0.000000e+00</td>\n",
              "      <td>0.000000e+00</td>\n",
              "      <td>0.000000e+00</td>\n",
              "      <td>0.000000e+00</td>\n",
              "      <td>0.000000e+00</td>\n",
              "      <td>0.000000e+00</td>\n",
              "    </tr>\n",
              "    <tr>\n",
              "      <th>1</th>\n",
              "      <td>0.001953</td>\n",
              "      <td>0.000000e+00</td>\n",
              "      <td>0.000000e+00</td>\n",
              "      <td>0.000000e+00</td>\n",
              "      <td>0.000000e+00</td>\n",
              "      <td>0.000000e+00</td>\n",
              "      <td>0.000000e+00</td>\n",
              "      <td>0.000000e+00</td>\n",
              "      <td>0.000000e+00</td>\n",
              "      <td>0.000000e+00</td>\n",
              "      <td>...</td>\n",
              "      <td>0.000000e+00</td>\n",
              "      <td>0.000000e+00</td>\n",
              "      <td>0.000000e+00</td>\n",
              "      <td>0.000000e+00</td>\n",
              "      <td>0.000000e+00</td>\n",
              "      <td>0.000000e+00</td>\n",
              "      <td>0.000000e+00</td>\n",
              "      <td>0.000000e+00</td>\n",
              "      <td>0.000000e+00</td>\n",
              "      <td>0.000000e+00</td>\n",
              "    </tr>\n",
              "    <tr>\n",
              "      <th>2</th>\n",
              "      <td>0.003906</td>\n",
              "      <td>0.000000e+00</td>\n",
              "      <td>0.000000e+00</td>\n",
              "      <td>0.000000e+00</td>\n",
              "      <td>0.000000e+00</td>\n",
              "      <td>0.000000e+00</td>\n",
              "      <td>0.000000e+00</td>\n",
              "      <td>0.000000e+00</td>\n",
              "      <td>0.000000e+00</td>\n",
              "      <td>0.000000e+00</td>\n",
              "      <td>...</td>\n",
              "      <td>0.000000e+00</td>\n",
              "      <td>0.000000e+00</td>\n",
              "      <td>0.000000e+00</td>\n",
              "      <td>0.000000e+00</td>\n",
              "      <td>0.000000e+00</td>\n",
              "      <td>0.000000e+00</td>\n",
              "      <td>0.000000e+00</td>\n",
              "      <td>0.000000e+00</td>\n",
              "      <td>0.000000e+00</td>\n",
              "      <td>0.000000e+00</td>\n",
              "    </tr>\n",
              "    <tr>\n",
              "      <th>3</th>\n",
              "      <td>0.005859</td>\n",
              "      <td>0.000000e+00</td>\n",
              "      <td>0.000000e+00</td>\n",
              "      <td>0.000000e+00</td>\n",
              "      <td>0.000000e+00</td>\n",
              "      <td>0.000000e+00</td>\n",
              "      <td>0.000000e+00</td>\n",
              "      <td>0.000000e+00</td>\n",
              "      <td>0.000000e+00</td>\n",
              "      <td>0.000000e+00</td>\n",
              "      <td>...</td>\n",
              "      <td>0.000000e+00</td>\n",
              "      <td>0.000000e+00</td>\n",
              "      <td>0.000000e+00</td>\n",
              "      <td>0.000000e+00</td>\n",
              "      <td>0.000000e+00</td>\n",
              "      <td>0.000000e+00</td>\n",
              "      <td>0.000000e+00</td>\n",
              "      <td>0.000000e+00</td>\n",
              "      <td>0.000000e+00</td>\n",
              "      <td>0.000000e+00</td>\n",
              "    </tr>\n",
              "    <tr>\n",
              "      <th>4</th>\n",
              "      <td>0.007812</td>\n",
              "      <td>0.000000e+00</td>\n",
              "      <td>0.000000e+00</td>\n",
              "      <td>0.000000e+00</td>\n",
              "      <td>0.000000e+00</td>\n",
              "      <td>0.000000e+00</td>\n",
              "      <td>0.000000e+00</td>\n",
              "      <td>0.000000e+00</td>\n",
              "      <td>0.000000e+00</td>\n",
              "      <td>0.000000e+00</td>\n",
              "      <td>...</td>\n",
              "      <td>0.000000e+00</td>\n",
              "      <td>0.000000e+00</td>\n",
              "      <td>0.000000e+00</td>\n",
              "      <td>0.000000e+00</td>\n",
              "      <td>0.000000e+00</td>\n",
              "      <td>0.000000e+00</td>\n",
              "      <td>0.000000e+00</td>\n",
              "      <td>0.000000e+00</td>\n",
              "      <td>0.000000e+00</td>\n",
              "      <td>0.000000e+00</td>\n",
              "    </tr>\n",
              "    <tr>\n",
              "      <th>5</th>\n",
              "      <td>0.009766</td>\n",
              "      <td>0.000000e+00</td>\n",
              "      <td>0.000000e+00</td>\n",
              "      <td>0.000000e+00</td>\n",
              "      <td>0.000000e+00</td>\n",
              "      <td>0.000000e+00</td>\n",
              "      <td>0.000000e+00</td>\n",
              "      <td>0.000000e+00</td>\n",
              "      <td>0.000000e+00</td>\n",
              "      <td>0.000000e+00</td>\n",
              "      <td>...</td>\n",
              "      <td>0.000000e+00</td>\n",
              "      <td>0.000000e+00</td>\n",
              "      <td>0.000000e+00</td>\n",
              "      <td>0.000000e+00</td>\n",
              "      <td>0.000000e+00</td>\n",
              "      <td>0.000000e+00</td>\n",
              "      <td>0.000000e+00</td>\n",
              "      <td>0.000000e+00</td>\n",
              "      <td>0.000000e+00</td>\n",
              "      <td>0.000000e+00</td>\n",
              "    </tr>\n",
              "    <tr>\n",
              "      <th>6</th>\n",
              "      <td>0.011719</td>\n",
              "      <td>0.000000e+00</td>\n",
              "      <td>0.000000e+00</td>\n",
              "      <td>0.000000e+00</td>\n",
              "      <td>0.000000e+00</td>\n",
              "      <td>0.000000e+00</td>\n",
              "      <td>0.000000e+00</td>\n",
              "      <td>0.000000e+00</td>\n",
              "      <td>0.000000e+00</td>\n",
              "      <td>0.000000e+00</td>\n",
              "      <td>...</td>\n",
              "      <td>0.000000e+00</td>\n",
              "      <td>0.000000e+00</td>\n",
              "      <td>0.000000e+00</td>\n",
              "      <td>0.000000e+00</td>\n",
              "      <td>0.000000e+00</td>\n",
              "      <td>0.000000e+00</td>\n",
              "      <td>0.000000e+00</td>\n",
              "      <td>0.000000e+00</td>\n",
              "      <td>0.000000e+00</td>\n",
              "      <td>0.000000e+00</td>\n",
              "    </tr>\n",
              "    <tr>\n",
              "      <th>7</th>\n",
              "      <td>0.013672</td>\n",
              "      <td>0.000000e+00</td>\n",
              "      <td>0.000000e+00</td>\n",
              "      <td>0.000000e+00</td>\n",
              "      <td>0.000000e+00</td>\n",
              "      <td>0.000000e+00</td>\n",
              "      <td>0.000000e+00</td>\n",
              "      <td>0.000000e+00</td>\n",
              "      <td>0.000000e+00</td>\n",
              "      <td>0.000000e+00</td>\n",
              "      <td>...</td>\n",
              "      <td>0.000000e+00</td>\n",
              "      <td>0.000000e+00</td>\n",
              "      <td>0.000000e+00</td>\n",
              "      <td>0.000000e+00</td>\n",
              "      <td>0.000000e+00</td>\n",
              "      <td>0.000000e+00</td>\n",
              "      <td>0.000000e+00</td>\n",
              "      <td>0.000000e+00</td>\n",
              "      <td>0.000000e+00</td>\n",
              "      <td>0.000000e+00</td>\n",
              "    </tr>\n",
              "    <tr>\n",
              "      <th>8</th>\n",
              "      <td>0.015625</td>\n",
              "      <td>-4.086637e+09</td>\n",
              "      <td>-3.967849e+09</td>\n",
              "      <td>-4.336031e+09</td>\n",
              "      <td>-4.125436e+09</td>\n",
              "      <td>-3.864307e+09</td>\n",
              "      <td>-4.410733e+09</td>\n",
              "      <td>-5.215298e+09</td>\n",
              "      <td>-4.242579e+09</td>\n",
              "      <td>-4.227743e+09</td>\n",
              "      <td>...</td>\n",
              "      <td>-3.544387e+09</td>\n",
              "      <td>-3.384800e+09</td>\n",
              "      <td>-3.494747e+09</td>\n",
              "      <td>-3.547401e+09</td>\n",
              "      <td>-3.835159e+09</td>\n",
              "      <td>-3.633541e+09</td>\n",
              "      <td>-3.652717e+09</td>\n",
              "      <td>-3.737053e+09</td>\n",
              "      <td>-3.428939e+09</td>\n",
              "      <td>-3.626207e+09</td>\n",
              "    </tr>\n",
              "    <tr>\n",
              "      <th>9</th>\n",
              "      <td>0.017578</td>\n",
              "      <td>-4.094279e+09</td>\n",
              "      <td>-3.974687e+09</td>\n",
              "      <td>-4.339747e+09</td>\n",
              "      <td>-4.132001e+09</td>\n",
              "      <td>-3.870871e+09</td>\n",
              "      <td>-4.416634e+09</td>\n",
              "      <td>-5.222529e+09</td>\n",
              "      <td>-4.245489e+09</td>\n",
              "      <td>-4.230128e+09</td>\n",
              "      <td>...</td>\n",
              "      <td>-3.552893e+09</td>\n",
              "      <td>-3.395047e+09</td>\n",
              "      <td>-3.509589e+09</td>\n",
              "      <td>-3.560778e+09</td>\n",
              "      <td>-3.845707e+09</td>\n",
              "      <td>-3.641054e+09</td>\n",
              "      <td>-3.661287e+09</td>\n",
              "      <td>-3.744964e+09</td>\n",
              "      <td>-3.434537e+09</td>\n",
              "      <td>-3.632492e+09</td>\n",
              "    </tr>\n",
              "    <tr>\n",
              "      <th>10</th>\n",
              "      <td>0.019531</td>\n",
              "      <td>-4.100014e+09</td>\n",
              "      <td>-3.979734e+09</td>\n",
              "      <td>-4.345909e+09</td>\n",
              "      <td>-4.136707e+09</td>\n",
              "      <td>-3.873482e+09</td>\n",
              "      <td>-4.422658e+09</td>\n",
              "      <td>-5.229047e+09</td>\n",
              "      <td>-4.252445e+09</td>\n",
              "      <td>-4.236138e+09</td>\n",
              "      <td>...</td>\n",
              "      <td>-3.559894e+09</td>\n",
              "      <td>-3.400770e+09</td>\n",
              "      <td>-3.514591e+09</td>\n",
              "      <td>-3.565432e+09</td>\n",
              "      <td>-3.848863e+09</td>\n",
              "      <td>-3.649005e+09</td>\n",
              "      <td>-3.667488e+09</td>\n",
              "      <td>-3.752718e+09</td>\n",
              "      <td>-3.440998e+09</td>\n",
              "      <td>-3.638019e+09</td>\n",
              "    </tr>\n",
              "    <tr>\n",
              "      <th>11</th>\n",
              "      <td>0.021484</td>\n",
              "      <td>-4.096085e+09</td>\n",
              "      <td>-3.974471e+09</td>\n",
              "      <td>-4.344512e+09</td>\n",
              "      <td>-4.133484e+09</td>\n",
              "      <td>-3.871269e+09</td>\n",
              "      <td>-4.419999e+09</td>\n",
              "      <td>-5.225027e+09</td>\n",
              "      <td>-4.250412e+09</td>\n",
              "      <td>-4.235733e+09</td>\n",
              "      <td>...</td>\n",
              "      <td>-3.555980e+09</td>\n",
              "      <td>-3.395965e+09</td>\n",
              "      <td>-3.511466e+09</td>\n",
              "      <td>-3.561391e+09</td>\n",
              "      <td>-3.844423e+09</td>\n",
              "      <td>-3.644959e+09</td>\n",
              "      <td>-3.664227e+09</td>\n",
              "      <td>-3.750371e+09</td>\n",
              "      <td>-3.437465e+09</td>\n",
              "      <td>-3.634324e+09</td>\n",
              "    </tr>\n",
              "    <tr>\n",
              "      <th>12</th>\n",
              "      <td>0.023438</td>\n",
              "      <td>-4.098212e+09</td>\n",
              "      <td>-3.975573e+09</td>\n",
              "      <td>-4.342834e+09</td>\n",
              "      <td>-4.133739e+09</td>\n",
              "      <td>-3.871677e+09</td>\n",
              "      <td>-4.424996e+09</td>\n",
              "      <td>-5.226133e+09</td>\n",
              "      <td>-4.249301e+09</td>\n",
              "      <td>-4.233984e+09</td>\n",
              "      <td>...</td>\n",
              "      <td>-3.553879e+09</td>\n",
              "      <td>-3.393318e+09</td>\n",
              "      <td>-3.509493e+09</td>\n",
              "      <td>-3.561980e+09</td>\n",
              "      <td>-3.843624e+09</td>\n",
              "      <td>-3.641833e+09</td>\n",
              "      <td>-3.661489e+09</td>\n",
              "      <td>-3.747402e+09</td>\n",
              "      <td>-3.434504e+09</td>\n",
              "      <td>-3.633341e+09</td>\n",
              "    </tr>\n",
              "    <tr>\n",
              "      <th>13</th>\n",
              "      <td>0.025391</td>\n",
              "      <td>-4.107894e+09</td>\n",
              "      <td>-3.985713e+09</td>\n",
              "      <td>-4.349078e+09</td>\n",
              "      <td>-4.139797e+09</td>\n",
              "      <td>-3.875399e+09</td>\n",
              "      <td>-4.433624e+09</td>\n",
              "      <td>-5.235302e+09</td>\n",
              "      <td>-4.257450e+09</td>\n",
              "      <td>-4.238413e+09</td>\n",
              "      <td>...</td>\n",
              "      <td>-3.556822e+09</td>\n",
              "      <td>-3.396500e+09</td>\n",
              "      <td>-3.507063e+09</td>\n",
              "      <td>-3.566709e+09</td>\n",
              "      <td>-3.848295e+09</td>\n",
              "      <td>-3.646890e+09</td>\n",
              "      <td>-3.663331e+09</td>\n",
              "      <td>-3.748740e+09</td>\n",
              "      <td>-3.438089e+09</td>\n",
              "      <td>-3.634674e+09</td>\n",
              "    </tr>\n",
              "    <tr>\n",
              "      <th>14</th>\n",
              "      <td>0.027344</td>\n",
              "      <td>-4.111719e+09</td>\n",
              "      <td>-3.989428e+09</td>\n",
              "      <td>-4.353020e+09</td>\n",
              "      <td>-4.144431e+09</td>\n",
              "      <td>-3.881005e+09</td>\n",
              "      <td>-4.436340e+09</td>\n",
              "      <td>-5.240555e+09</td>\n",
              "      <td>-4.261240e+09</td>\n",
              "      <td>-4.241796e+09</td>\n",
              "      <td>...</td>\n",
              "      <td>-3.565340e+09</td>\n",
              "      <td>-3.406219e+09</td>\n",
              "      <td>-3.514678e+09</td>\n",
              "      <td>-3.577090e+09</td>\n",
              "      <td>-3.859408e+09</td>\n",
              "      <td>-3.654875e+09</td>\n",
              "      <td>-3.669614e+09</td>\n",
              "      <td>-3.754646e+09</td>\n",
              "      <td>-3.445350e+09</td>\n",
              "      <td>-3.639561e+09</td>\n",
              "    </tr>\n",
              "    <tr>\n",
              "      <th>15</th>\n",
              "      <td>0.029297</td>\n",
              "      <td>-4.101540e+09</td>\n",
              "      <td>-3.979652e+09</td>\n",
              "      <td>-4.342710e+09</td>\n",
              "      <td>-4.134259e+09</td>\n",
              "      <td>-3.871312e+09</td>\n",
              "      <td>-4.428814e+09</td>\n",
              "      <td>-5.230665e+09</td>\n",
              "      <td>-4.250989e+09</td>\n",
              "      <td>-4.233221e+09</td>\n",
              "      <td>...</td>\n",
              "      <td>-3.557842e+09</td>\n",
              "      <td>-3.396597e+09</td>\n",
              "      <td>-3.504027e+09</td>\n",
              "      <td>-3.571000e+09</td>\n",
              "      <td>-3.853209e+09</td>\n",
              "      <td>-3.646731e+09</td>\n",
              "      <td>-3.661918e+09</td>\n",
              "      <td>-3.745282e+09</td>\n",
              "      <td>-3.438137e+09</td>\n",
              "      <td>-3.633552e+09</td>\n",
              "    </tr>\n",
              "    <tr>\n",
              "      <th>16</th>\n",
              "      <td>0.031250</td>\n",
              "      <td>-4.096894e+09</td>\n",
              "      <td>-3.973341e+09</td>\n",
              "      <td>-4.337115e+09</td>\n",
              "      <td>-4.127393e+09</td>\n",
              "      <td>-3.866791e+09</td>\n",
              "      <td>-4.425292e+09</td>\n",
              "      <td>-5.225137e+09</td>\n",
              "      <td>-4.245741e+09</td>\n",
              "      <td>-4.226786e+09</td>\n",
              "      <td>...</td>\n",
              "      <td>-3.544354e+09</td>\n",
              "      <td>-3.379757e+09</td>\n",
              "      <td>-3.485491e+09</td>\n",
              "      <td>-3.559305e+09</td>\n",
              "      <td>-3.839146e+09</td>\n",
              "      <td>-3.633815e+09</td>\n",
              "      <td>-3.649486e+09</td>\n",
              "      <td>-3.729285e+09</td>\n",
              "      <td>-3.426393e+09</td>\n",
              "      <td>-3.620816e+09</td>\n",
              "    </tr>\n",
              "    <tr>\n",
              "      <th>17</th>\n",
              "      <td>0.033203</td>\n",
              "      <td>-4.115894e+09</td>\n",
              "      <td>-3.991853e+09</td>\n",
              "      <td>-4.355781e+09</td>\n",
              "      <td>-4.148468e+09</td>\n",
              "      <td>-3.887493e+09</td>\n",
              "      <td>-4.444331e+09</td>\n",
              "      <td>-5.245388e+09</td>\n",
              "      <td>-4.264142e+09</td>\n",
              "      <td>-4.245485e+09</td>\n",
              "      <td>...</td>\n",
              "      <td>-3.564912e+09</td>\n",
              "      <td>-3.402025e+09</td>\n",
              "      <td>-3.509952e+09</td>\n",
              "      <td>-3.576745e+09</td>\n",
              "      <td>-3.857469e+09</td>\n",
              "      <td>-3.652021e+09</td>\n",
              "      <td>-3.669705e+09</td>\n",
              "      <td>-3.751866e+09</td>\n",
              "      <td>-3.444916e+09</td>\n",
              "      <td>-3.640271e+09</td>\n",
              "    </tr>\n",
              "    <tr>\n",
              "      <th>18</th>\n",
              "      <td>0.035156</td>\n",
              "      <td>-4.124180e+09</td>\n",
              "      <td>-4.001384e+09</td>\n",
              "      <td>-4.363580e+09</td>\n",
              "      <td>-4.154683e+09</td>\n",
              "      <td>-3.887633e+09</td>\n",
              "      <td>-4.453823e+09</td>\n",
              "      <td>-5.253209e+09</td>\n",
              "      <td>-4.273502e+09</td>\n",
              "      <td>-4.253359e+09</td>\n",
              "      <td>...</td>\n",
              "      <td>-3.579208e+09</td>\n",
              "      <td>-3.416168e+09</td>\n",
              "      <td>-3.525813e+09</td>\n",
              "      <td>-3.587204e+09</td>\n",
              "      <td>-3.870436e+09</td>\n",
              "      <td>-3.665147e+09</td>\n",
              "      <td>-3.683002e+09</td>\n",
              "      <td>-3.768343e+09</td>\n",
              "      <td>-3.458544e+09</td>\n",
              "      <td>-3.655490e+09</td>\n",
              "    </tr>\n",
              "    <tr>\n",
              "      <th>19</th>\n",
              "      <td>0.037109</td>\n",
              "      <td>-4.108852e+09</td>\n",
              "      <td>-3.984549e+09</td>\n",
              "      <td>-4.349707e+09</td>\n",
              "      <td>-4.137290e+09</td>\n",
              "      <td>-3.872005e+09</td>\n",
              "      <td>-4.437759e+09</td>\n",
              "      <td>-5.237533e+09</td>\n",
              "      <td>-4.259200e+09</td>\n",
              "      <td>-4.238654e+09</td>\n",
              "      <td>...</td>\n",
              "      <td>-3.566316e+09</td>\n",
              "      <td>-3.402780e+09</td>\n",
              "      <td>-3.517501e+09</td>\n",
              "      <td>-3.574713e+09</td>\n",
              "      <td>-3.855781e+09</td>\n",
              "      <td>-3.652825e+09</td>\n",
              "      <td>-3.669327e+09</td>\n",
              "      <td>-3.754036e+09</td>\n",
              "      <td>-3.444301e+09</td>\n",
              "      <td>-3.641247e+09</td>\n",
              "    </tr>\n",
              "    <tr>\n",
              "      <th>20</th>\n",
              "      <td>0.039062</td>\n",
              "      <td>-4.104596e+09</td>\n",
              "      <td>-3.979946e+09</td>\n",
              "      <td>-4.347552e+09</td>\n",
              "      <td>-4.137131e+09</td>\n",
              "      <td>-3.874910e+09</td>\n",
              "      <td>-4.430821e+09</td>\n",
              "      <td>-5.233689e+09</td>\n",
              "      <td>-4.253960e+09</td>\n",
              "      <td>-4.236928e+09</td>\n",
              "      <td>...</td>\n",
              "      <td>-3.564599e+09</td>\n",
              "      <td>-3.404883e+09</td>\n",
              "      <td>-3.525701e+09</td>\n",
              "      <td>-3.573833e+09</td>\n",
              "      <td>-3.853685e+09</td>\n",
              "      <td>-3.652190e+09</td>\n",
              "      <td>-3.669049e+09</td>\n",
              "      <td>-3.756761e+09</td>\n",
              "      <td>-3.443147e+09</td>\n",
              "      <td>-3.640175e+09</td>\n",
              "    </tr>\n",
              "    <tr>\n",
              "      <th>21</th>\n",
              "      <td>0.041016</td>\n",
              "      <td>-4.114538e+09</td>\n",
              "      <td>-3.990216e+09</td>\n",
              "      <td>-4.353252e+09</td>\n",
              "      <td>-4.143963e+09</td>\n",
              "      <td>-3.878559e+09</td>\n",
              "      <td>-4.441897e+09</td>\n",
              "      <td>-5.237837e+09</td>\n",
              "      <td>-4.262366e+09</td>\n",
              "      <td>-4.240689e+09</td>\n",
              "      <td>...</td>\n",
              "      <td>-3.562407e+09</td>\n",
              "      <td>-3.400956e+09</td>\n",
              "      <td>-3.513475e+09</td>\n",
              "      <td>-3.572891e+09</td>\n",
              "      <td>-3.855625e+09</td>\n",
              "      <td>-3.652577e+09</td>\n",
              "      <td>-3.668876e+09</td>\n",
              "      <td>-3.754262e+09</td>\n",
              "      <td>-3.445735e+09</td>\n",
              "      <td>-3.641197e+09</td>\n",
              "    </tr>\n",
              "    <tr>\n",
              "      <th>22</th>\n",
              "      <td>0.042969</td>\n",
              "      <td>-4.125866e+09</td>\n",
              "      <td>-4.001345e+09</td>\n",
              "      <td>-4.361072e+09</td>\n",
              "      <td>-4.151014e+09</td>\n",
              "      <td>-3.883240e+09</td>\n",
              "      <td>-4.455847e+09</td>\n",
              "      <td>-5.246907e+09</td>\n",
              "      <td>-4.273317e+09</td>\n",
              "      <td>-4.248619e+09</td>\n",
              "      <td>...</td>\n",
              "      <td>-3.567172e+09</td>\n",
              "      <td>-3.405005e+09</td>\n",
              "      <td>-3.514925e+09</td>\n",
              "      <td>-3.576370e+09</td>\n",
              "      <td>-3.860703e+09</td>\n",
              "      <td>-3.656930e+09</td>\n",
              "      <td>-3.673598e+09</td>\n",
              "      <td>-3.756159e+09</td>\n",
              "      <td>-3.449176e+09</td>\n",
              "      <td>-3.646595e+09</td>\n",
              "    </tr>\n",
              "    <tr>\n",
              "      <th>23</th>\n",
              "      <td>0.044922</td>\n",
              "      <td>-4.121618e+09</td>\n",
              "      <td>-3.997678e+09</td>\n",
              "      <td>-4.360168e+09</td>\n",
              "      <td>-4.147375e+09</td>\n",
              "      <td>-3.877828e+09</td>\n",
              "      <td>-4.453035e+09</td>\n",
              "      <td>-5.247194e+09</td>\n",
              "      <td>-4.269671e+09</td>\n",
              "      <td>-4.249313e+09</td>\n",
              "      <td>...</td>\n",
              "      <td>-3.576302e+09</td>\n",
              "      <td>-3.414163e+09</td>\n",
              "      <td>-3.528023e+09</td>\n",
              "      <td>-3.587995e+09</td>\n",
              "      <td>-3.869217e+09</td>\n",
              "      <td>-3.664606e+09</td>\n",
              "      <td>-3.679814e+09</td>\n",
              "      <td>-3.765347e+09</td>\n",
              "      <td>-3.458320e+09</td>\n",
              "      <td>-3.654458e+09</td>\n",
              "    </tr>\n",
              "    <tr>\n",
              "      <th>24</th>\n",
              "      <td>0.046875</td>\n",
              "      <td>-4.110237e+09</td>\n",
              "      <td>-3.988337e+09</td>\n",
              "      <td>-4.351216e+09</td>\n",
              "      <td>-4.136434e+09</td>\n",
              "      <td>-3.866688e+09</td>\n",
              "      <td>-4.443047e+09</td>\n",
              "      <td>-5.238382e+09</td>\n",
              "      <td>-4.260105e+09</td>\n",
              "      <td>-4.239451e+09</td>\n",
              "      <td>...</td>\n",
              "      <td>-3.570337e+09</td>\n",
              "      <td>-3.403670e+09</td>\n",
              "      <td>-3.510208e+09</td>\n",
              "      <td>-3.591989e+09</td>\n",
              "      <td>-3.868842e+09</td>\n",
              "      <td>-3.660458e+09</td>\n",
              "      <td>-3.671778e+09</td>\n",
              "      <td>-3.753444e+09</td>\n",
              "      <td>-3.455622e+09</td>\n",
              "      <td>-3.645413e+09</td>\n",
              "    </tr>\n",
              "  </tbody>\n",
              "</table>\n",
              "<p>25 rows × 62 columns</p>\n",
              "</div>"
            ],
            "text/plain": [
              "        time         eeg-0         eeg-1         eeg-2         eeg-3  \\\n",
              "0   0.000000  0.000000e+00  0.000000e+00  0.000000e+00  0.000000e+00   \n",
              "1   0.001953  0.000000e+00  0.000000e+00  0.000000e+00  0.000000e+00   \n",
              "2   0.003906  0.000000e+00  0.000000e+00  0.000000e+00  0.000000e+00   \n",
              "3   0.005859  0.000000e+00  0.000000e+00  0.000000e+00  0.000000e+00   \n",
              "4   0.007812  0.000000e+00  0.000000e+00  0.000000e+00  0.000000e+00   \n",
              "5   0.009766  0.000000e+00  0.000000e+00  0.000000e+00  0.000000e+00   \n",
              "6   0.011719  0.000000e+00  0.000000e+00  0.000000e+00  0.000000e+00   \n",
              "7   0.013672  0.000000e+00  0.000000e+00  0.000000e+00  0.000000e+00   \n",
              "8   0.015625 -4.086637e+09 -3.967849e+09 -4.336031e+09 -4.125436e+09   \n",
              "9   0.017578 -4.094279e+09 -3.974687e+09 -4.339747e+09 -4.132001e+09   \n",
              "10  0.019531 -4.100014e+09 -3.979734e+09 -4.345909e+09 -4.136707e+09   \n",
              "11  0.021484 -4.096085e+09 -3.974471e+09 -4.344512e+09 -4.133484e+09   \n",
              "12  0.023438 -4.098212e+09 -3.975573e+09 -4.342834e+09 -4.133739e+09   \n",
              "13  0.025391 -4.107894e+09 -3.985713e+09 -4.349078e+09 -4.139797e+09   \n",
              "14  0.027344 -4.111719e+09 -3.989428e+09 -4.353020e+09 -4.144431e+09   \n",
              "15  0.029297 -4.101540e+09 -3.979652e+09 -4.342710e+09 -4.134259e+09   \n",
              "16  0.031250 -4.096894e+09 -3.973341e+09 -4.337115e+09 -4.127393e+09   \n",
              "17  0.033203 -4.115894e+09 -3.991853e+09 -4.355781e+09 -4.148468e+09   \n",
              "18  0.035156 -4.124180e+09 -4.001384e+09 -4.363580e+09 -4.154683e+09   \n",
              "19  0.037109 -4.108852e+09 -3.984549e+09 -4.349707e+09 -4.137290e+09   \n",
              "20  0.039062 -4.104596e+09 -3.979946e+09 -4.347552e+09 -4.137131e+09   \n",
              "21  0.041016 -4.114538e+09 -3.990216e+09 -4.353252e+09 -4.143963e+09   \n",
              "22  0.042969 -4.125866e+09 -4.001345e+09 -4.361072e+09 -4.151014e+09   \n",
              "23  0.044922 -4.121618e+09 -3.997678e+09 -4.360168e+09 -4.147375e+09   \n",
              "24  0.046875 -4.110237e+09 -3.988337e+09 -4.351216e+09 -4.136434e+09   \n",
              "\n",
              "           eeg-4         eeg-5         eeg-6         eeg-7         eeg-8  ...  \\\n",
              "0   0.000000e+00  0.000000e+00  0.000000e+00  0.000000e+00  0.000000e+00  ...   \n",
              "1   0.000000e+00  0.000000e+00  0.000000e+00  0.000000e+00  0.000000e+00  ...   \n",
              "2   0.000000e+00  0.000000e+00  0.000000e+00  0.000000e+00  0.000000e+00  ...   \n",
              "3   0.000000e+00  0.000000e+00  0.000000e+00  0.000000e+00  0.000000e+00  ...   \n",
              "4   0.000000e+00  0.000000e+00  0.000000e+00  0.000000e+00  0.000000e+00  ...   \n",
              "5   0.000000e+00  0.000000e+00  0.000000e+00  0.000000e+00  0.000000e+00  ...   \n",
              "6   0.000000e+00  0.000000e+00  0.000000e+00  0.000000e+00  0.000000e+00  ...   \n",
              "7   0.000000e+00  0.000000e+00  0.000000e+00  0.000000e+00  0.000000e+00  ...   \n",
              "8  -3.864307e+09 -4.410733e+09 -5.215298e+09 -4.242579e+09 -4.227743e+09  ...   \n",
              "9  -3.870871e+09 -4.416634e+09 -5.222529e+09 -4.245489e+09 -4.230128e+09  ...   \n",
              "10 -3.873482e+09 -4.422658e+09 -5.229047e+09 -4.252445e+09 -4.236138e+09  ...   \n",
              "11 -3.871269e+09 -4.419999e+09 -5.225027e+09 -4.250412e+09 -4.235733e+09  ...   \n",
              "12 -3.871677e+09 -4.424996e+09 -5.226133e+09 -4.249301e+09 -4.233984e+09  ...   \n",
              "13 -3.875399e+09 -4.433624e+09 -5.235302e+09 -4.257450e+09 -4.238413e+09  ...   \n",
              "14 -3.881005e+09 -4.436340e+09 -5.240555e+09 -4.261240e+09 -4.241796e+09  ...   \n",
              "15 -3.871312e+09 -4.428814e+09 -5.230665e+09 -4.250989e+09 -4.233221e+09  ...   \n",
              "16 -3.866791e+09 -4.425292e+09 -5.225137e+09 -4.245741e+09 -4.226786e+09  ...   \n",
              "17 -3.887493e+09 -4.444331e+09 -5.245388e+09 -4.264142e+09 -4.245485e+09  ...   \n",
              "18 -3.887633e+09 -4.453823e+09 -5.253209e+09 -4.273502e+09 -4.253359e+09  ...   \n",
              "19 -3.872005e+09 -4.437759e+09 -5.237533e+09 -4.259200e+09 -4.238654e+09  ...   \n",
              "20 -3.874910e+09 -4.430821e+09 -5.233689e+09 -4.253960e+09 -4.236928e+09  ...   \n",
              "21 -3.878559e+09 -4.441897e+09 -5.237837e+09 -4.262366e+09 -4.240689e+09  ...   \n",
              "22 -3.883240e+09 -4.455847e+09 -5.246907e+09 -4.273317e+09 -4.248619e+09  ...   \n",
              "23 -3.877828e+09 -4.453035e+09 -5.247194e+09 -4.269671e+09 -4.249313e+09  ...   \n",
              "24 -3.866688e+09 -4.443047e+09 -5.238382e+09 -4.260105e+09 -4.239451e+09  ...   \n",
              "\n",
              "          eeg-51        eeg-52        eeg-53        eeg-54        eeg-55  \\\n",
              "0   0.000000e+00  0.000000e+00  0.000000e+00  0.000000e+00  0.000000e+00   \n",
              "1   0.000000e+00  0.000000e+00  0.000000e+00  0.000000e+00  0.000000e+00   \n",
              "2   0.000000e+00  0.000000e+00  0.000000e+00  0.000000e+00  0.000000e+00   \n",
              "3   0.000000e+00  0.000000e+00  0.000000e+00  0.000000e+00  0.000000e+00   \n",
              "4   0.000000e+00  0.000000e+00  0.000000e+00  0.000000e+00  0.000000e+00   \n",
              "5   0.000000e+00  0.000000e+00  0.000000e+00  0.000000e+00  0.000000e+00   \n",
              "6   0.000000e+00  0.000000e+00  0.000000e+00  0.000000e+00  0.000000e+00   \n",
              "7   0.000000e+00  0.000000e+00  0.000000e+00  0.000000e+00  0.000000e+00   \n",
              "8  -3.544387e+09 -3.384800e+09 -3.494747e+09 -3.547401e+09 -3.835159e+09   \n",
              "9  -3.552893e+09 -3.395047e+09 -3.509589e+09 -3.560778e+09 -3.845707e+09   \n",
              "10 -3.559894e+09 -3.400770e+09 -3.514591e+09 -3.565432e+09 -3.848863e+09   \n",
              "11 -3.555980e+09 -3.395965e+09 -3.511466e+09 -3.561391e+09 -3.844423e+09   \n",
              "12 -3.553879e+09 -3.393318e+09 -3.509493e+09 -3.561980e+09 -3.843624e+09   \n",
              "13 -3.556822e+09 -3.396500e+09 -3.507063e+09 -3.566709e+09 -3.848295e+09   \n",
              "14 -3.565340e+09 -3.406219e+09 -3.514678e+09 -3.577090e+09 -3.859408e+09   \n",
              "15 -3.557842e+09 -3.396597e+09 -3.504027e+09 -3.571000e+09 -3.853209e+09   \n",
              "16 -3.544354e+09 -3.379757e+09 -3.485491e+09 -3.559305e+09 -3.839146e+09   \n",
              "17 -3.564912e+09 -3.402025e+09 -3.509952e+09 -3.576745e+09 -3.857469e+09   \n",
              "18 -3.579208e+09 -3.416168e+09 -3.525813e+09 -3.587204e+09 -3.870436e+09   \n",
              "19 -3.566316e+09 -3.402780e+09 -3.517501e+09 -3.574713e+09 -3.855781e+09   \n",
              "20 -3.564599e+09 -3.404883e+09 -3.525701e+09 -3.573833e+09 -3.853685e+09   \n",
              "21 -3.562407e+09 -3.400956e+09 -3.513475e+09 -3.572891e+09 -3.855625e+09   \n",
              "22 -3.567172e+09 -3.405005e+09 -3.514925e+09 -3.576370e+09 -3.860703e+09   \n",
              "23 -3.576302e+09 -3.414163e+09 -3.528023e+09 -3.587995e+09 -3.869217e+09   \n",
              "24 -3.570337e+09 -3.403670e+09 -3.510208e+09 -3.591989e+09 -3.868842e+09   \n",
              "\n",
              "          eeg-56        eeg-57        eeg-58        eeg-59        eeg-60  \n",
              "0   0.000000e+00  0.000000e+00  0.000000e+00  0.000000e+00  0.000000e+00  \n",
              "1   0.000000e+00  0.000000e+00  0.000000e+00  0.000000e+00  0.000000e+00  \n",
              "2   0.000000e+00  0.000000e+00  0.000000e+00  0.000000e+00  0.000000e+00  \n",
              "3   0.000000e+00  0.000000e+00  0.000000e+00  0.000000e+00  0.000000e+00  \n",
              "4   0.000000e+00  0.000000e+00  0.000000e+00  0.000000e+00  0.000000e+00  \n",
              "5   0.000000e+00  0.000000e+00  0.000000e+00  0.000000e+00  0.000000e+00  \n",
              "6   0.000000e+00  0.000000e+00  0.000000e+00  0.000000e+00  0.000000e+00  \n",
              "7   0.000000e+00  0.000000e+00  0.000000e+00  0.000000e+00  0.000000e+00  \n",
              "8  -3.633541e+09 -3.652717e+09 -3.737053e+09 -3.428939e+09 -3.626207e+09  \n",
              "9  -3.641054e+09 -3.661287e+09 -3.744964e+09 -3.434537e+09 -3.632492e+09  \n",
              "10 -3.649005e+09 -3.667488e+09 -3.752718e+09 -3.440998e+09 -3.638019e+09  \n",
              "11 -3.644959e+09 -3.664227e+09 -3.750371e+09 -3.437465e+09 -3.634324e+09  \n",
              "12 -3.641833e+09 -3.661489e+09 -3.747402e+09 -3.434504e+09 -3.633341e+09  \n",
              "13 -3.646890e+09 -3.663331e+09 -3.748740e+09 -3.438089e+09 -3.634674e+09  \n",
              "14 -3.654875e+09 -3.669614e+09 -3.754646e+09 -3.445350e+09 -3.639561e+09  \n",
              "15 -3.646731e+09 -3.661918e+09 -3.745282e+09 -3.438137e+09 -3.633552e+09  \n",
              "16 -3.633815e+09 -3.649486e+09 -3.729285e+09 -3.426393e+09 -3.620816e+09  \n",
              "17 -3.652021e+09 -3.669705e+09 -3.751866e+09 -3.444916e+09 -3.640271e+09  \n",
              "18 -3.665147e+09 -3.683002e+09 -3.768343e+09 -3.458544e+09 -3.655490e+09  \n",
              "19 -3.652825e+09 -3.669327e+09 -3.754036e+09 -3.444301e+09 -3.641247e+09  \n",
              "20 -3.652190e+09 -3.669049e+09 -3.756761e+09 -3.443147e+09 -3.640175e+09  \n",
              "21 -3.652577e+09 -3.668876e+09 -3.754262e+09 -3.445735e+09 -3.641197e+09  \n",
              "22 -3.656930e+09 -3.673598e+09 -3.756159e+09 -3.449176e+09 -3.646595e+09  \n",
              "23 -3.664606e+09 -3.679814e+09 -3.765347e+09 -3.458320e+09 -3.654458e+09  \n",
              "24 -3.660458e+09 -3.671778e+09 -3.753444e+09 -3.455622e+09 -3.645413e+09  \n",
              "\n",
              "[25 rows x 62 columns]"
            ]
          },
          "execution_count": 108,
          "metadata": {},
          "output_type": "execute_result"
        }
      ],
      "source": [
        "raw.to_data_frame().head(25)"
      ]
    },
    {
      "cell_type": "code",
      "execution_count": 109,
      "metadata": {
        "colab": {
          "base_uri": "https://localhost:8080/"
        },
        "id": "vJhkoGYKCRb6",
        "outputId": "bd21c97c-cd53-401e-b1ad-14b918527b65",
        "scrolled": true
      },
      "outputs": [
        {
          "name": "stdout",
          "output_type": "stream",
          "text": [
            "Used Annotations descriptions: ['1536', '1537', '1538', '1539', '1540', '1541', '1542', '33536', '33554', '34304', '34305', '34306', '34307', '34308', '34309', '34310', '768', '785', '786']\n"
          ]
        }
      ],
      "source": [
        "events = mne.events_from_annotations(raw)"
      ]
    },
    {
      "cell_type": "code",
      "execution_count": 110,
      "metadata": {
        "colab": {
          "base_uri": "https://localhost:8080/"
        },
        "id": "ECkDyk54Ge6R",
        "outputId": "c0d3d9da-f19e-4b35-ee7a-df826b2791c6"
      },
      "outputs": [
        {
          "data": {
            "text/plain": [
              "(array([[  2560,      0,     17],\n",
              "        [  2560,      0,     18],\n",
              "        [  2560,      0,     19],\n",
              "        [  3584,      0,      2],\n",
              "        [  5120,      0,      8],\n",
              "        [  5120,      0,      9],\n",
              "        [  5120,      0,     11],\n",
              "        [  6187,      0,     17],\n",
              "        [  6187,      0,     18],\n",
              "        [  6187,      0,     19],\n",
              "        [  7211,      0,      6],\n",
              "        [  8747,      0,      8],\n",
              "        [  8747,      0,      9],\n",
              "        [  8747,      0,     15],\n",
              "        [ 10122,      0,     17],\n",
              "        [ 10122,      0,     18],\n",
              "        [ 10122,      0,     19],\n",
              "        [ 11146,      0,      7],\n",
              "        [ 12682,      0,      8],\n",
              "        [ 12682,      0,      9],\n",
              "        [ 12682,      0,     16],\n",
              "        [ 13902,      0,     17],\n",
              "        [ 13902,      0,     18],\n",
              "        [ 13902,      0,     19],\n",
              "        [ 14926,      0,      7],\n",
              "        [ 16462,      0,      8],\n",
              "        [ 16462,      0,      9],\n",
              "        [ 16462,      0,     16],\n",
              "        [ 17568,      0,     17],\n",
              "        [ 17568,      0,     18],\n",
              "        [ 17568,      0,     19],\n",
              "        [ 18592,      0,      2],\n",
              "        [ 20128,      0,      8],\n",
              "        [ 20128,      0,      9],\n",
              "        [ 20128,      0,     11],\n",
              "        [ 21299,      0,     17],\n",
              "        [ 21299,      0,     18],\n",
              "        [ 21299,      0,     19],\n",
              "        [ 22323,      0,      1],\n",
              "        [ 23859,      0,      8],\n",
              "        [ 23859,      0,      9],\n",
              "        [ 23859,      0,     10],\n",
              "        [ 24900,      0,     17],\n",
              "        [ 24900,      0,     18],\n",
              "        [ 24900,      0,     19],\n",
              "        [ 25924,      0,      1],\n",
              "        [ 27460,      0,      8],\n",
              "        [ 27460,      0,      9],\n",
              "        [ 27460,      0,     10],\n",
              "        [ 28606,      0,     17],\n",
              "        [ 28606,      0,     18],\n",
              "        [ 28606,      0,     19],\n",
              "        [ 29630,      0,      3],\n",
              "        [ 31166,      0,      8],\n",
              "        [ 31166,      0,      9],\n",
              "        [ 31166,      0,     12],\n",
              "        [ 32194,      0,     17],\n",
              "        [ 32194,      0,     18],\n",
              "        [ 32194,      0,     19],\n",
              "        [ 33218,      0,      5],\n",
              "        [ 34754,      0,      8],\n",
              "        [ 34754,      0,      9],\n",
              "        [ 34754,      0,     14],\n",
              "        [ 35817,      0,     17],\n",
              "        [ 35817,      0,     18],\n",
              "        [ 35817,      0,     19],\n",
              "        [ 36841,      0,      7],\n",
              "        [ 38377,      0,      8],\n",
              "        [ 38377,      0,      9],\n",
              "        [ 38377,      0,     16],\n",
              "        [ 39810,      0,     17],\n",
              "        [ 39810,      0,     18],\n",
              "        [ 39810,      0,     19],\n",
              "        [ 40834,      0,      5],\n",
              "        [ 42370,      0,      8],\n",
              "        [ 42370,      0,      9],\n",
              "        [ 42370,      0,     14],\n",
              "        [ 43901,      0,     17],\n",
              "        [ 43901,      0,     18],\n",
              "        [ 43901,      0,     19],\n",
              "        [ 44925,      0,      4],\n",
              "        [ 46461,      0,      8],\n",
              "        [ 46461,      0,      9],\n",
              "        [ 46461,      0,     13],\n",
              "        [ 47702,      0,     17],\n",
              "        [ 47702,      0,     18],\n",
              "        [ 47702,      0,     19],\n",
              "        [ 48726,      0,      5],\n",
              "        [ 50262,      0,      8],\n",
              "        [ 50262,      0,      9],\n",
              "        [ 50262,      0,     14],\n",
              "        [ 51318,      0,     17],\n",
              "        [ 51318,      0,     18],\n",
              "        [ 51318,      0,     19],\n",
              "        [ 52342,      0,      2],\n",
              "        [ 53878,      0,      8],\n",
              "        [ 53878,      0,      9],\n",
              "        [ 53878,      0,     11],\n",
              "        [ 55261,      0,     17],\n",
              "        [ 55261,      0,     18],\n",
              "        [ 55261,      0,     19],\n",
              "        [ 56285,      0,      2],\n",
              "        [ 57821,      0,      8],\n",
              "        [ 57821,      0,      9],\n",
              "        [ 57821,      0,     11],\n",
              "        [ 58972,      0,     17],\n",
              "        [ 58972,      0,     18],\n",
              "        [ 58972,      0,     19],\n",
              "        [ 59996,      0,      6],\n",
              "        [ 61532,      0,      8],\n",
              "        [ 61532,      0,      9],\n",
              "        [ 61532,      0,     15],\n",
              "        [ 62774,      0,     17],\n",
              "        [ 62774,      0,     18],\n",
              "        [ 62774,      0,     19],\n",
              "        [ 63798,      0,      4],\n",
              "        [ 65334,      0,      8],\n",
              "        [ 65334,      0,      9],\n",
              "        [ 65334,      0,     13],\n",
              "        [ 66695,      0,     17],\n",
              "        [ 66695,      0,     18],\n",
              "        [ 66695,      0,     19],\n",
              "        [ 67719,      0,      7],\n",
              "        [ 69255,      0,      8],\n",
              "        [ 69255,      0,      9],\n",
              "        [ 69255,      0,     16],\n",
              "        [ 70303,      0,     17],\n",
              "        [ 70303,      0,     18],\n",
              "        [ 70303,      0,     19],\n",
              "        [ 71327,      0,      6],\n",
              "        [ 72863,      0,      8],\n",
              "        [ 72863,      0,      9],\n",
              "        [ 72863,      0,     15],\n",
              "        [ 74306,      0,     17],\n",
              "        [ 74306,      0,     18],\n",
              "        [ 74306,      0,     19],\n",
              "        [ 75330,      0,      3],\n",
              "        [ 76866,      0,      8],\n",
              "        [ 76866,      0,      9],\n",
              "        [ 76866,      0,     12],\n",
              "        [ 78024,      0,     17],\n",
              "        [ 78024,      0,     18],\n",
              "        [ 78024,      0,     19],\n",
              "        [ 79048,      0,      7],\n",
              "        [ 80584,      0,      8],\n",
              "        [ 80584,      0,      9],\n",
              "        [ 80584,      0,     16],\n",
              "        [ 81793,      0,     17],\n",
              "        [ 81793,      0,     18],\n",
              "        [ 81793,      0,     19],\n",
              "        [ 82817,      0,      1],\n",
              "        [ 84353,      0,      8],\n",
              "        [ 84353,      0,      9],\n",
              "        [ 84353,      0,     10],\n",
              "        [ 85505,      0,     17],\n",
              "        [ 85505,      0,     18],\n",
              "        [ 85505,      0,     19],\n",
              "        [ 86529,      0,      7],\n",
              "        [ 88065,      0,      8],\n",
              "        [ 88065,      0,      9],\n",
              "        [ 88065,      0,     16],\n",
              "        [ 89345,      0,     17],\n",
              "        [ 89345,      0,     18],\n",
              "        [ 89345,      0,     19],\n",
              "        [ 90369,      0,      6],\n",
              "        [ 91905,      0,      8],\n",
              "        [ 91905,      0,      9],\n",
              "        [ 91905,      0,     15],\n",
              "        [ 93311,      0,     17],\n",
              "        [ 93311,      0,     18],\n",
              "        [ 93311,      0,     19],\n",
              "        [ 94335,      0,      3],\n",
              "        [ 95871,      0,      8],\n",
              "        [ 95871,      0,      9],\n",
              "        [ 95871,      0,     12],\n",
              "        [ 97224,      0,     17],\n",
              "        [ 97224,      0,     18],\n",
              "        [ 97224,      0,     19],\n",
              "        [ 98248,      0,      4],\n",
              "        [ 99784,      0,      8],\n",
              "        [ 99784,      0,      9],\n",
              "        [ 99784,      0,     13],\n",
              "        [101214,      0,     17],\n",
              "        [101214,      0,     18],\n",
              "        [101214,      0,     19],\n",
              "        [102238,      0,      1],\n",
              "        [103774,      0,      8],\n",
              "        [103774,      0,      9],\n",
              "        [103774,      0,     10],\n",
              "        [104817,      0,     17],\n",
              "        [104817,      0,     18],\n",
              "        [104817,      0,     19],\n",
              "        [105841,      0,      2],\n",
              "        [107377,      0,      8],\n",
              "        [107377,      0,      9],\n",
              "        [107377,      0,     11],\n",
              "        [108651,      0,     17],\n",
              "        [108651,      0,     18],\n",
              "        [108651,      0,     19],\n",
              "        [109675,      0,      5],\n",
              "        [111211,      0,      8],\n",
              "        [111211,      0,      9],\n",
              "        [111211,      0,     14],\n",
              "        [112328,      0,     17],\n",
              "        [112328,      0,     18],\n",
              "        [112328,      0,     19],\n",
              "        [113352,      0,      1],\n",
              "        [114888,      0,      8],\n",
              "        [114888,      0,      9],\n",
              "        [114888,      0,     10],\n",
              "        [116028,      0,     17],\n",
              "        [116028,      0,     18],\n",
              "        [116028,      0,     19],\n",
              "        [117052,      0,      2],\n",
              "        [118588,      0,      8],\n",
              "        [118588,      0,      9],\n",
              "        [118588,      0,     11],\n",
              "        [119800,      0,     17],\n",
              "        [119800,      0,     18],\n",
              "        [119800,      0,     19],\n",
              "        [120824,      0,      3],\n",
              "        [122360,      0,      8],\n",
              "        [122360,      0,      9],\n",
              "        [122360,      0,     12],\n",
              "        [123487,      0,     17],\n",
              "        [123487,      0,     18],\n",
              "        [123487,      0,     19],\n",
              "        [124511,      0,      3],\n",
              "        [126047,      0,      8],\n",
              "        [126047,      0,      9],\n",
              "        [126047,      0,     12],\n",
              "        [127256,      0,     17],\n",
              "        [127256,      0,     18],\n",
              "        [127256,      0,     19],\n",
              "        [128280,      0,      4],\n",
              "        [129816,      0,      8],\n",
              "        [129816,      0,      9],\n",
              "        [129816,      0,     13],\n",
              "        [131322,      0,     17],\n",
              "        [131322,      0,     18],\n",
              "        [131322,      0,     19],\n",
              "        [132346,      0,      6],\n",
              "        [133882,      0,      8],\n",
              "        [133882,      0,      9],\n",
              "        [133882,      0,     15],\n",
              "        [135004,      0,     17],\n",
              "        [135004,      0,     18],\n",
              "        [135004,      0,     19],\n",
              "        [136028,      0,      6],\n",
              "        [137564,      0,      8],\n",
              "        [137564,      0,      9],\n",
              "        [137564,      0,     15],\n",
              "        [138978,      0,     17],\n",
              "        [138978,      0,     18],\n",
              "        [138978,      0,     19],\n",
              "        [140002,      0,      5],\n",
              "        [141538,      0,      8],\n",
              "        [141538,      0,      9],\n",
              "        [141538,      0,     14],\n",
              "        [143029,      0,     17],\n",
              "        [143029,      0,     18],\n",
              "        [143029,      0,     19],\n",
              "        [144053,      0,      3],\n",
              "        [145589,      0,      8],\n",
              "        [145589,      0,      9],\n",
              "        [145589,      0,     12],\n",
              "        [147055,      0,     17],\n",
              "        [147055,      0,     18],\n",
              "        [147055,      0,     19],\n",
              "        [148079,      0,      5],\n",
              "        [149615,      0,      8],\n",
              "        [149615,      0,      9],\n",
              "        [149615,      0,     14],\n",
              "        [150809,      0,     17],\n",
              "        [150809,      0,     18],\n",
              "        [150809,      0,     19],\n",
              "        [151833,      0,      1],\n",
              "        [153369,      0,      8],\n",
              "        [153369,      0,      9],\n",
              "        [153369,      0,     10],\n",
              "        [154691,      0,     17],\n",
              "        [154691,      0,     18],\n",
              "        [154691,      0,     19],\n",
              "        [155715,      0,      4],\n",
              "        [157251,      0,      8],\n",
              "        [157251,      0,      9],\n",
              "        [157251,      0,     13],\n",
              "        [158420,      0,     17],\n",
              "        [158420,      0,     18],\n",
              "        [158420,      0,     19],\n",
              "        [159444,      0,      4],\n",
              "        [160980,      0,      8],\n",
              "        [160980,      0,      9],\n",
              "        [160980,      0,     13]]),\n",
              " {'1536': 1,\n",
              "  '1537': 2,\n",
              "  '1538': 3,\n",
              "  '1539': 4,\n",
              "  '1540': 5,\n",
              "  '1541': 6,\n",
              "  '1542': 7,\n",
              "  '33536': 8,\n",
              "  '33554': 9,\n",
              "  '34304': 10,\n",
              "  '34305': 11,\n",
              "  '34306': 12,\n",
              "  '34307': 13,\n",
              "  '34308': 14,\n",
              "  '34309': 15,\n",
              "  '34310': 16,\n",
              "  '768': 17,\n",
              "  '785': 18,\n",
              "  '786': 19})"
            ]
          },
          "execution_count": 110,
          "metadata": {},
          "output_type": "execute_result"
        }
      ],
      "source": [
        "events"
      ]
    },
    {
      "cell_type": "code",
      "execution_count": 111,
      "metadata": {
        "colab": {
          "base_uri": "https://localhost:8080/"
        },
        "id": "xHnw4O5wGe6S",
        "outputId": "66846603-b1dd-423a-c563-e23696403d55"
      },
      "outputs": [
        {
          "data": {
            "text/plain": [
              "array([[  2560,      0,     17],\n",
              "       [  2560,      0,     18],\n",
              "       [  2560,      0,     19],\n",
              "       [  3584,      0,      2],\n",
              "       [  5120,      0,      8],\n",
              "       [  5120,      0,      9],\n",
              "       [  5120,      0,     11],\n",
              "       [  6187,      0,     17],\n",
              "       [  6187,      0,     18],\n",
              "       [  6187,      0,     19],\n",
              "       [  7211,      0,      6],\n",
              "       [  8747,      0,      8],\n",
              "       [  8747,      0,      9],\n",
              "       [  8747,      0,     15],\n",
              "       [ 10122,      0,     17],\n",
              "       [ 10122,      0,     18],\n",
              "       [ 10122,      0,     19],\n",
              "       [ 11146,      0,      7],\n",
              "       [ 12682,      0,      8],\n",
              "       [ 12682,      0,      9],\n",
              "       [ 12682,      0,     16],\n",
              "       [ 13902,      0,     17],\n",
              "       [ 13902,      0,     18],\n",
              "       [ 13902,      0,     19],\n",
              "       [ 14926,      0,      7],\n",
              "       [ 16462,      0,      8],\n",
              "       [ 16462,      0,      9],\n",
              "       [ 16462,      0,     16],\n",
              "       [ 17568,      0,     17],\n",
              "       [ 17568,      0,     18],\n",
              "       [ 17568,      0,     19],\n",
              "       [ 18592,      0,      2],\n",
              "       [ 20128,      0,      8],\n",
              "       [ 20128,      0,      9],\n",
              "       [ 20128,      0,     11],\n",
              "       [ 21299,      0,     17],\n",
              "       [ 21299,      0,     18],\n",
              "       [ 21299,      0,     19],\n",
              "       [ 22323,      0,      1],\n",
              "       [ 23859,      0,      8],\n",
              "       [ 23859,      0,      9],\n",
              "       [ 23859,      0,     10],\n",
              "       [ 24900,      0,     17],\n",
              "       [ 24900,      0,     18],\n",
              "       [ 24900,      0,     19],\n",
              "       [ 25924,      0,      1],\n",
              "       [ 27460,      0,      8],\n",
              "       [ 27460,      0,      9],\n",
              "       [ 27460,      0,     10],\n",
              "       [ 28606,      0,     17],\n",
              "       [ 28606,      0,     18],\n",
              "       [ 28606,      0,     19],\n",
              "       [ 29630,      0,      3],\n",
              "       [ 31166,      0,      8],\n",
              "       [ 31166,      0,      9],\n",
              "       [ 31166,      0,     12],\n",
              "       [ 32194,      0,     17],\n",
              "       [ 32194,      0,     18],\n",
              "       [ 32194,      0,     19],\n",
              "       [ 33218,      0,      5],\n",
              "       [ 34754,      0,      8],\n",
              "       [ 34754,      0,      9],\n",
              "       [ 34754,      0,     14],\n",
              "       [ 35817,      0,     17],\n",
              "       [ 35817,      0,     18],\n",
              "       [ 35817,      0,     19],\n",
              "       [ 36841,      0,      7],\n",
              "       [ 38377,      0,      8],\n",
              "       [ 38377,      0,      9],\n",
              "       [ 38377,      0,     16],\n",
              "       [ 39810,      0,     17],\n",
              "       [ 39810,      0,     18],\n",
              "       [ 39810,      0,     19],\n",
              "       [ 40834,      0,      5],\n",
              "       [ 42370,      0,      8],\n",
              "       [ 42370,      0,      9],\n",
              "       [ 42370,      0,     14],\n",
              "       [ 43901,      0,     17],\n",
              "       [ 43901,      0,     18],\n",
              "       [ 43901,      0,     19],\n",
              "       [ 44925,      0,      4],\n",
              "       [ 46461,      0,      8],\n",
              "       [ 46461,      0,      9],\n",
              "       [ 46461,      0,     13],\n",
              "       [ 47702,      0,     17],\n",
              "       [ 47702,      0,     18],\n",
              "       [ 47702,      0,     19],\n",
              "       [ 48726,      0,      5],\n",
              "       [ 50262,      0,      8],\n",
              "       [ 50262,      0,      9],\n",
              "       [ 50262,      0,     14],\n",
              "       [ 51318,      0,     17],\n",
              "       [ 51318,      0,     18],\n",
              "       [ 51318,      0,     19],\n",
              "       [ 52342,      0,      2],\n",
              "       [ 53878,      0,      8],\n",
              "       [ 53878,      0,      9],\n",
              "       [ 53878,      0,     11],\n",
              "       [ 55261,      0,     17],\n",
              "       [ 55261,      0,     18],\n",
              "       [ 55261,      0,     19],\n",
              "       [ 56285,      0,      2],\n",
              "       [ 57821,      0,      8],\n",
              "       [ 57821,      0,      9],\n",
              "       [ 57821,      0,     11],\n",
              "       [ 58972,      0,     17],\n",
              "       [ 58972,      0,     18],\n",
              "       [ 58972,      0,     19],\n",
              "       [ 59996,      0,      6],\n",
              "       [ 61532,      0,      8],\n",
              "       [ 61532,      0,      9],\n",
              "       [ 61532,      0,     15],\n",
              "       [ 62774,      0,     17],\n",
              "       [ 62774,      0,     18],\n",
              "       [ 62774,      0,     19],\n",
              "       [ 63798,      0,      4],\n",
              "       [ 65334,      0,      8],\n",
              "       [ 65334,      0,      9],\n",
              "       [ 65334,      0,     13],\n",
              "       [ 66695,      0,     17],\n",
              "       [ 66695,      0,     18],\n",
              "       [ 66695,      0,     19],\n",
              "       [ 67719,      0,      7],\n",
              "       [ 69255,      0,      8],\n",
              "       [ 69255,      0,      9],\n",
              "       [ 69255,      0,     16],\n",
              "       [ 70303,      0,     17],\n",
              "       [ 70303,      0,     18],\n",
              "       [ 70303,      0,     19],\n",
              "       [ 71327,      0,      6],\n",
              "       [ 72863,      0,      8],\n",
              "       [ 72863,      0,      9],\n",
              "       [ 72863,      0,     15],\n",
              "       [ 74306,      0,     17],\n",
              "       [ 74306,      0,     18],\n",
              "       [ 74306,      0,     19],\n",
              "       [ 75330,      0,      3],\n",
              "       [ 76866,      0,      8],\n",
              "       [ 76866,      0,      9],\n",
              "       [ 76866,      0,     12],\n",
              "       [ 78024,      0,     17],\n",
              "       [ 78024,      0,     18],\n",
              "       [ 78024,      0,     19],\n",
              "       [ 79048,      0,      7],\n",
              "       [ 80584,      0,      8],\n",
              "       [ 80584,      0,      9],\n",
              "       [ 80584,      0,     16],\n",
              "       [ 81793,      0,     17],\n",
              "       [ 81793,      0,     18],\n",
              "       [ 81793,      0,     19],\n",
              "       [ 82817,      0,      1],\n",
              "       [ 84353,      0,      8],\n",
              "       [ 84353,      0,      9],\n",
              "       [ 84353,      0,     10],\n",
              "       [ 85505,      0,     17],\n",
              "       [ 85505,      0,     18],\n",
              "       [ 85505,      0,     19],\n",
              "       [ 86529,      0,      7],\n",
              "       [ 88065,      0,      8],\n",
              "       [ 88065,      0,      9],\n",
              "       [ 88065,      0,     16],\n",
              "       [ 89345,      0,     17],\n",
              "       [ 89345,      0,     18],\n",
              "       [ 89345,      0,     19],\n",
              "       [ 90369,      0,      6],\n",
              "       [ 91905,      0,      8],\n",
              "       [ 91905,      0,      9],\n",
              "       [ 91905,      0,     15],\n",
              "       [ 93311,      0,     17],\n",
              "       [ 93311,      0,     18],\n",
              "       [ 93311,      0,     19],\n",
              "       [ 94335,      0,      3],\n",
              "       [ 95871,      0,      8],\n",
              "       [ 95871,      0,      9],\n",
              "       [ 95871,      0,     12],\n",
              "       [ 97224,      0,     17],\n",
              "       [ 97224,      0,     18],\n",
              "       [ 97224,      0,     19],\n",
              "       [ 98248,      0,      4],\n",
              "       [ 99784,      0,      8],\n",
              "       [ 99784,      0,      9],\n",
              "       [ 99784,      0,     13],\n",
              "       [101214,      0,     17],\n",
              "       [101214,      0,     18],\n",
              "       [101214,      0,     19],\n",
              "       [102238,      0,      1],\n",
              "       [103774,      0,      8],\n",
              "       [103774,      0,      9],\n",
              "       [103774,      0,     10],\n",
              "       [104817,      0,     17],\n",
              "       [104817,      0,     18],\n",
              "       [104817,      0,     19],\n",
              "       [105841,      0,      2],\n",
              "       [107377,      0,      8],\n",
              "       [107377,      0,      9],\n",
              "       [107377,      0,     11],\n",
              "       [108651,      0,     17],\n",
              "       [108651,      0,     18],\n",
              "       [108651,      0,     19],\n",
              "       [109675,      0,      5],\n",
              "       [111211,      0,      8],\n",
              "       [111211,      0,      9],\n",
              "       [111211,      0,     14],\n",
              "       [112328,      0,     17],\n",
              "       [112328,      0,     18],\n",
              "       [112328,      0,     19],\n",
              "       [113352,      0,      1],\n",
              "       [114888,      0,      8],\n",
              "       [114888,      0,      9],\n",
              "       [114888,      0,     10],\n",
              "       [116028,      0,     17],\n",
              "       [116028,      0,     18],\n",
              "       [116028,      0,     19],\n",
              "       [117052,      0,      2],\n",
              "       [118588,      0,      8],\n",
              "       [118588,      0,      9],\n",
              "       [118588,      0,     11],\n",
              "       [119800,      0,     17],\n",
              "       [119800,      0,     18],\n",
              "       [119800,      0,     19],\n",
              "       [120824,      0,      3],\n",
              "       [122360,      0,      8],\n",
              "       [122360,      0,      9],\n",
              "       [122360,      0,     12],\n",
              "       [123487,      0,     17],\n",
              "       [123487,      0,     18],\n",
              "       [123487,      0,     19],\n",
              "       [124511,      0,      3],\n",
              "       [126047,      0,      8],\n",
              "       [126047,      0,      9],\n",
              "       [126047,      0,     12],\n",
              "       [127256,      0,     17],\n",
              "       [127256,      0,     18],\n",
              "       [127256,      0,     19],\n",
              "       [128280,      0,      4],\n",
              "       [129816,      0,      8],\n",
              "       [129816,      0,      9],\n",
              "       [129816,      0,     13],\n",
              "       [131322,      0,     17],\n",
              "       [131322,      0,     18],\n",
              "       [131322,      0,     19],\n",
              "       [132346,      0,      6],\n",
              "       [133882,      0,      8],\n",
              "       [133882,      0,      9],\n",
              "       [133882,      0,     15],\n",
              "       [135004,      0,     17],\n",
              "       [135004,      0,     18],\n",
              "       [135004,      0,     19],\n",
              "       [136028,      0,      6],\n",
              "       [137564,      0,      8],\n",
              "       [137564,      0,      9],\n",
              "       [137564,      0,     15],\n",
              "       [138978,      0,     17],\n",
              "       [138978,      0,     18],\n",
              "       [138978,      0,     19],\n",
              "       [140002,      0,      5],\n",
              "       [141538,      0,      8],\n",
              "       [141538,      0,      9],\n",
              "       [141538,      0,     14],\n",
              "       [143029,      0,     17],\n",
              "       [143029,      0,     18],\n",
              "       [143029,      0,     19],\n",
              "       [144053,      0,      3],\n",
              "       [145589,      0,      8],\n",
              "       [145589,      0,      9],\n",
              "       [145589,      0,     12],\n",
              "       [147055,      0,     17],\n",
              "       [147055,      0,     18],\n",
              "       [147055,      0,     19],\n",
              "       [148079,      0,      5],\n",
              "       [149615,      0,      8],\n",
              "       [149615,      0,      9],\n",
              "       [149615,      0,     14],\n",
              "       [150809,      0,     17],\n",
              "       [150809,      0,     18],\n",
              "       [150809,      0,     19],\n",
              "       [151833,      0,      1],\n",
              "       [153369,      0,      8],\n",
              "       [153369,      0,      9],\n",
              "       [153369,      0,     10],\n",
              "       [154691,      0,     17],\n",
              "       [154691,      0,     18],\n",
              "       [154691,      0,     19],\n",
              "       [155715,      0,      4],\n",
              "       [157251,      0,      8],\n",
              "       [157251,      0,      9],\n",
              "       [157251,      0,     13],\n",
              "       [158420,      0,     17],\n",
              "       [158420,      0,     18],\n",
              "       [158420,      0,     19],\n",
              "       [159444,      0,      4],\n",
              "       [160980,      0,      8],\n",
              "       [160980,      0,      9],\n",
              "       [160980,      0,     13]])"
            ]
          },
          "execution_count": 111,
          "metadata": {},
          "output_type": "execute_result"
        }
      ],
      "source": [
        "events[0]"
      ]
    },
    {
      "cell_type": "code",
      "execution_count": 112,
      "metadata": {
        "colab": {
          "base_uri": "https://localhost:8080/"
        },
        "id": "uNNh_DvDGe6T",
        "outputId": "9808fc15-f604-4f40-de7a-24dee2e9b707"
      },
      "outputs": [
        {
          "data": {
            "text/plain": [
              "{'1536': 1,\n",
              " '1537': 2,\n",
              " '1538': 3,\n",
              " '1539': 4,\n",
              " '1540': 5,\n",
              " '1541': 6,\n",
              " '1542': 7,\n",
              " '33536': 8,\n",
              " '33554': 9,\n",
              " '34304': 10,\n",
              " '34305': 11,\n",
              " '34306': 12,\n",
              " '34307': 13,\n",
              " '34308': 14,\n",
              " '34309': 15,\n",
              " '34310': 16,\n",
              " '768': 17,\n",
              " '785': 18,\n",
              " '786': 19}"
            ]
          },
          "execution_count": 112,
          "metadata": {},
          "output_type": "execute_result"
        }
      ],
      "source": [
        "events[1]"
      ]
    },
    {
      "cell_type": "code",
      "execution_count": 113,
      "metadata": {
        "colab": {
          "base_uri": "https://localhost:8080/"
        },
        "id": "99DXRkEQGe6U",
        "outputId": "a7d39b2b-f99a-48c0-8434-e840e1690775"
      },
      "outputs": [
        {
          "data": {
            "text/plain": [
              "{'elbow flexion': 1,\n",
              " 'elbow extension': 2,\n",
              " 'supination': 3,\n",
              " 'pronation': 4,\n",
              " 'hand close': 5,\n",
              " 'hand open': 6,\n",
              " 'rest': 7}"
            ]
          },
          "execution_count": 113,
          "metadata": {},
          "output_type": "execute_result"
        }
      ],
      "source": [
        "event_dir={\n",
        "    'elbow flexion':1,\n",
        "    'elbow extension':2,\n",
        "    'supination':3,\n",
        "    'pronation':4, \n",
        "    'hand close':5,\n",
        "    'hand open':6,   \n",
        "    'rest':7\n",
        "}\n",
        "event_dir"
      ]
    },
    {
      "cell_type": "code",
      "execution_count": 114,
      "metadata": {
        "colab": {
          "base_uri": "https://localhost:8080/",
          "height": 774
        },
        "id": "1v4iANS6Ge6U",
        "outputId": "a7ac2eb4-34ea-40d0-bded-74a6ee7d2a24"
      },
      "outputs": [
        {
          "name": "stderr",
          "output_type": "stream",
          "text": [
            "C:\\Users\\praty\\AppData\\Local\\Temp\\ipykernel_13968\\4215497302.py:1: RuntimeWarning: event 8 missing from event_id will be ignored\n",
            "  fig = mne.viz.plot_events(events[0], event_id=event_dir, sfreq=raw.info['sfreq'],\n",
            "C:\\Users\\praty\\AppData\\Local\\Temp\\ipykernel_13968\\4215497302.py:1: RuntimeWarning: event 9 missing from event_id will be ignored\n",
            "  fig = mne.viz.plot_events(events[0], event_id=event_dir, sfreq=raw.info['sfreq'],\n",
            "C:\\Users\\praty\\AppData\\Local\\Temp\\ipykernel_13968\\4215497302.py:1: RuntimeWarning: event 10 missing from event_id will be ignored\n",
            "  fig = mne.viz.plot_events(events[0], event_id=event_dir, sfreq=raw.info['sfreq'],\n",
            "C:\\Users\\praty\\AppData\\Local\\Temp\\ipykernel_13968\\4215497302.py:1: RuntimeWarning: event 11 missing from event_id will be ignored\n",
            "  fig = mne.viz.plot_events(events[0], event_id=event_dir, sfreq=raw.info['sfreq'],\n",
            "C:\\Users\\praty\\AppData\\Local\\Temp\\ipykernel_13968\\4215497302.py:1: RuntimeWarning: event 12 missing from event_id will be ignored\n",
            "  fig = mne.viz.plot_events(events[0], event_id=event_dir, sfreq=raw.info['sfreq'],\n",
            "C:\\Users\\praty\\AppData\\Local\\Temp\\ipykernel_13968\\4215497302.py:1: RuntimeWarning: event 13 missing from event_id will be ignored\n",
            "  fig = mne.viz.plot_events(events[0], event_id=event_dir, sfreq=raw.info['sfreq'],\n",
            "C:\\Users\\praty\\AppData\\Local\\Temp\\ipykernel_13968\\4215497302.py:1: RuntimeWarning: event 14 missing from event_id will be ignored\n",
            "  fig = mne.viz.plot_events(events[0], event_id=event_dir, sfreq=raw.info['sfreq'],\n",
            "C:\\Users\\praty\\AppData\\Local\\Temp\\ipykernel_13968\\4215497302.py:1: RuntimeWarning: event 15 missing from event_id will be ignored\n",
            "  fig = mne.viz.plot_events(events[0], event_id=event_dir, sfreq=raw.info['sfreq'],\n",
            "C:\\Users\\praty\\AppData\\Local\\Temp\\ipykernel_13968\\4215497302.py:1: RuntimeWarning: event 16 missing from event_id will be ignored\n",
            "  fig = mne.viz.plot_events(events[0], event_id=event_dir, sfreq=raw.info['sfreq'],\n",
            "C:\\Users\\praty\\AppData\\Local\\Temp\\ipykernel_13968\\4215497302.py:1: RuntimeWarning: event 17 missing from event_id will be ignored\n",
            "  fig = mne.viz.plot_events(events[0], event_id=event_dir, sfreq=raw.info['sfreq'],\n",
            "C:\\Users\\praty\\AppData\\Local\\Temp\\ipykernel_13968\\4215497302.py:1: RuntimeWarning: event 18 missing from event_id will be ignored\n",
            "  fig = mne.viz.plot_events(events[0], event_id=event_dir, sfreq=raw.info['sfreq'],\n",
            "C:\\Users\\praty\\AppData\\Local\\Temp\\ipykernel_13968\\4215497302.py:1: RuntimeWarning: event 19 missing from event_id will be ignored\n",
            "  fig = mne.viz.plot_events(events[0], event_id=event_dir, sfreq=raw.info['sfreq'],\n",
            "C:\\Users\\praty\\AppData\\Local\\Temp\\ipykernel_13968\\4215497302.py:1: RuntimeWarning: More events than default colors available. You should pass a list of unique colors.\n",
            "  fig = mne.viz.plot_events(events[0], event_id=event_dir, sfreq=raw.info['sfreq'],\n"
          ]
        },
        {
          "data": {
            "image/png": "[encoded data removed]",
            "text/plain": [
              "<Figure size 640x480 with 1 Axes>"
            ]
          },
          "metadata": {},
          "output_type": "display_data"
        }
      ],
      "source": [
        "fig = mne.viz.plot_events(events[0], event_id=event_dir, sfreq=raw.info['sfreq'],\n",
        "                          first_samp=raw.first_samp)"
      ]
    },
    {
      "cell_type": "code",
      "execution_count": 115,
      "metadata": {
        "colab": {
          "base_uri": "https://localhost:8080/"
        },
        "id": "wkj0qFCAGe6V",
        "outputId": "68536d86-90d8-4905-a808-40b40e00cba8"
      },
      "outputs": [
        {
          "name": "stdout",
          "output_type": "stream",
          "text": [
            "Not setting metadata\n",
            "42 matching events found\n",
            "Setting baseline interval to [-0.099609375, 0.0] sec\n",
            "Applying baseline correction (mode: mean)\n",
            "0 projection items activated\n"
          ]
        }
      ],
      "source": [
        "epoch = mne.Epochs(raw,events[0],event_id=[i for i in range(1,8)],tmin=-0.1,tmax=0.7)"
      ]
    },
    {
      "cell_type": "code",
      "execution_count": 116,
      "metadata": {
        "colab": {
          "base_uri": "https://localhost:8080/"
        },
        "id": "4FYuNXoAGe6V",
        "outputId": "e2e6b57e-07db-4b2b-a31f-bbfb77bea99f"
      },
      "outputs": [
        {
          "name": "stdout",
          "output_type": "stream",
          "text": [
            "Using data from preloaded Raw for 42 events and 410 original time points ...\n",
            "0 bad epochs dropped\n"
          ]
        },
        {
          "data": {
            "text/plain": [
              "(42, 61, 410)"
            ]
          },
          "execution_count": 116,
          "metadata": {},
          "output_type": "execute_result"
        }
      ],
      "source": [
        "epoch.get_data().shape"
      ]
    },
    {
      "cell_type": "code",
      "execution_count": 117,
      "metadata": {
        "colab": {
          "base_uri": "https://localhost:8080/"
        },
        "id": "A2HpjoeaGe6V",
        "outputId": "a086e2a1-bdc7-426f-8bf1-48983d60c335"
      },
      "outputs": [
        {
          "data": {
            "text/plain": [
              "array([2, 6, 7, 7, 2, 1, 1, 3, 5, 7, 5, 4, 5, 2, 2, 6, 4, 7, 6, 3, 7, 1,\n",
              "       7, 6, 3, 4, 1, 2, 5, 1, 2, 3, 3, 4, 6, 6, 5, 3, 5, 1, 4, 4])"
            ]
          },
          "execution_count": 117,
          "metadata": {},
          "output_type": "execute_result"
        }
      ],
      "source": [
        "lables=epoch.events[:,-1]\n",
        "lables"
      ]
    },
    {
      "cell_type": "code",
      "execution_count": 118,
      "metadata": {
        "id": "BF1LkZ1IGe6X"
      },
      "outputs": [],
      "source": [
        "evoked=[]\n",
        "for i in range(7):\n",
        "    evoked.append(epoch[str(i+1)].average())"
      ]
    },
    {
      "cell_type": "code",
      "execution_count": 119,
      "metadata": {
        "id": "r7AaHNhaGe6Y"
      },
      "outputs": [],
      "source": [
        "dicts={\n",
        "    'elbow flexion':evoked[0],\n",
        "    'elbow extension':evoked[1],\n",
        "    'supination':evoked[2],\n",
        "    'pronation':evoked[3],\n",
        "    'hand close':evoked[4],\n",
        "    'hand open':evoked[5],   \n",
        "    'rest':evoked[6],\n",
        "}"
      ]
    },
    {
      "cell_type": "code",
      "execution_count": 120,
      "metadata": {
        "colab": {
          "base_uri": "https://localhost:8080/",
          "height": 545
        },
        "id": "96x3hGLcGe6Z",
        "outputId": "b768b8e6-22a3-4c57-ec99-6296a537136b"
      },
      "outputs": [
        {
          "name": "stdout",
          "output_type": "stream",
          "text": [
            "combining channels using \"gfp\"\n",
            "combining channels using \"gfp\"\n",
            "combining channels using \"gfp\"\n",
            "combining channels using \"gfp\"\n",
            "combining channels using \"gfp\"\n",
            "combining channels using \"gfp\"\n",
            "combining channels using \"gfp\"\n"
          ]
        },
        {
          "data": {
            "image/png": "[encoded data removed]",
            "text/plain": [
              "<Figure size 800x600 with 1 Axes>"
            ]
          },
          "metadata": {},
          "output_type": "display_data"
        },
        {
          "data": {
            "text/plain": [
              "[<Figure size 800x600 with 1 Axes>]"
            ]
          },
          "execution_count": 120,
          "metadata": {},
          "output_type": "execute_result"
        }
      ],
      "source": [
        "mne.viz.plot_compare_evokeds(dicts) "
      ]
    },
    {
      "cell_type": "code",
      "execution_count": 121,
      "metadata": {
        "colab": {
          "base_uri": "https://localhost:8080/",
          "height": 276
        },
        "id": "X1PFqyNEHhG7",
        "outputId": "1b99d7e3-4540-4da5-d204-3ebb53309d24"
      },
      "outputs": [
        {
          "data": {
            "image/png": "[encoded data removed]",
            "text/plain": [
              "<Figure size 640x480 with 1 Axes>"
            ]
          },
          "metadata": {},
          "output_type": "display_data"
        }
      ],
      "source": [
        "plt.plot(raw.to_data_frame())\n",
        "plt.show()"
      ]
    },
    {
      "cell_type": "code",
      "execution_count": 122,
      "metadata": {
        "colab": {
          "base_uri": "https://localhost:8080/",
          "height": 171
        },
        "id": "XdS7MnCdIush",
        "outputId": "f150863c-3b08-4141-beda-24ed0d880ea5"
      },
      "outputs": [],
      "source": [
        "#raw.to_data_frame().shape, filtered_data.shape"
      ]
    },
    {
      "cell_type": "markdown",
      "metadata": {
        "id": "5V87oXpQcgk5"
      },
      "source": [
        "##Filtering\n",
        "###Bandpass Filter"
      ]
    },
    {
      "cell_type": "code",
      "execution_count": 123,
      "metadata": {
        "id": "wOKRVTQwGDTl"
      },
      "outputs": [],
      "source": [
        "def bandpassfilter(signal):\n",
        "\n",
        "  fs=240.0\n",
        "  lowcut=0.3\n",
        "  highcut=70.0\n",
        "\n",
        "  nyq=0.5*fs\n",
        "  low=lowcut/nyq\n",
        "  high=highcut/nyq\n",
        "\n",
        "  order=2\n",
        "\n",
        "  b,a = sig.butter(order, [low,high], 'bandpass', analog=False)\n",
        "  y = sig.filtfilt(b,a,signal,axis=0)\n",
        "\n",
        "  return y"
      ]
    },
    {
      "cell_type": "markdown",
      "metadata": {
        "id": "c-YT4G6wejWi"
      },
      "source": [
        "##Preprocessing\n",
        "###Power Spectral Density"
      ]
    },
    {
      "cell_type": "code",
      "execution_count": null,
      "metadata": {
        "id": "50V4C3OyejJS"
      },
      "outputs": [],
      "source": []
    },
    {
      "cell_type": "markdown",
      "metadata": {
        "id": "89-l07-ob6xo"
      },
      "source": [
        "##Data Concatenetination of all Files(ME)"
      ]
    },
    {
      "cell_type": "code",
      "execution_count": 124,
      "metadata": {
        "id": "NbO0ErlOGe6a"
      },
      "outputs": [],
      "source": [
        "def read_data(path):\n",
        "    raw = mne.io.read_raw_gdf(path,exclude=('eog-r', 'eog-m', 'eog-l','thumb_near', 'thumb_far', 'thumb_index', 'index_near', 'index_far', 'index_middle', 'middle_near', 'middle_far', 'middle_ring', 'ring_near', 'ring_far', 'ring_little', 'litte_near', 'litte_far', 'thumb_palm', 'wrist_bend', 'roll', 'pitch', 'gesture', 'handPosX', 'handPosY', 'handPosZ', 'elbowPosX', 'elbowPosY', 'elbowPosZ', 'ShoulderAdductio', 'ShoulderFlexionE', 'ShoulderRotation', 'Elbow', 'ProSupination', 'Wrist', 'GripPressure'),preload=True)\n",
        "    raw.set_eeg_reference()\n",
        "    events = mne.events_from_annotations(raw)\n",
        "    epoch = mne.Epochs(raw,events[0],event_id=[i for i in range(1,8)],tmin=-0.1,tmax=0.7, on_missing='warn')\n",
        "    lables=epoch.events[:,-1]\n",
        "    features=epoch.get_data()\n",
        "    filtered_data = bandpassfilter(features)\n",
        "    return lables,filtered_data"
      ]
    },
    {
      "cell_type": "code",
      "execution_count": 125,
      "metadata": {
        "id": "dHl6b9BYGe6b"
      },
      "outputs": [],
      "source": [
        "%%capture\n",
        "l1,f1 = read_data(S01_ME_Files[0])\n",
        "l2,f2 = read_data(S01_ME_Files[1])\n",
        "\n",
        "labels = np.concatenate((l1,l2))\n",
        "features = np.vstack((f1,f2))\n",
        "\n",
        "for i in range(2,10):\n",
        "  l,f = read_data(S01_ME_Files[i])\n",
        "\n",
        "  labels = np.concatenate((labels,l))\n",
        "  features = np.vstack((features,f))"
      ]
    },
    {
      "cell_type": "code",
      "execution_count": 126,
      "metadata": {
        "colab": {
          "base_uri": "https://localhost:8080/"
        },
        "id": "XHw-ZxI3K3io",
        "outputId": "09dc0095-c44a-4cfd-d957-7a3ced8a3246"
      },
      "outputs": [
        {
          "name": "stdout",
          "output_type": "stream",
          "text": [
            "(42,) (42, 61, 410)\n",
            "(420,) (420, 61, 410)\n"
          ]
        }
      ],
      "source": [
        "print(l.shape,f.shape)\n",
        "print(labels.shape,features.shape)"
      ]
    },
    {
      "cell_type": "code",
      "execution_count": 127,
      "metadata": {
        "colab": {
          "base_uri": "https://localhost:8080/"
        },
        "id": "VpKD_Anto_Qz",
        "outputId": "37d44681-6945-41a3-86fe-5330ef180c16"
      },
      "outputs": [
        {
          "data": {
            "text/plain": [
              "((25620, 410), (420,))"
            ]
          },
          "execution_count": 127,
          "metadata": {},
          "output_type": "execute_result"
        }
      ],
      "source": [
        "features_final = features.reshape(-1,features.shape[-1])\n",
        "features_final.shape, labels.shape"
      ]
    },
    {
      "cell_type": "code",
      "execution_count": 128,
      "metadata": {
        "id": "VLqHWAr9X57Z"
      },
      "outputs": [],
      "source": [
        "#Train Test Split\n",
        "from sklearn.model_selection import train_test_split\n",
        "X_train,X_test,y_train,y_test = train_test_split(features,labels,test_size = 0.2, random_state = 0)"
      ]
    },
    {
      "cell_type": "code",
      "execution_count": 129,
      "metadata": {
        "colab": {
          "base_uri": "https://localhost:8080/"
        },
        "id": "j_n5PR2lqks-",
        "outputId": "f3cfd1ff-ae5f-4066-fb20-3ba0ab3cda16"
      },
      "outputs": [
        {
          "data": {
            "text/plain": [
              "((336, 61, 410), (84, 61, 410), (336,), (84,))"
            ]
          },
          "execution_count": 129,
          "metadata": {},
          "output_type": "execute_result"
        }
      ],
      "source": [
        "X_train.shape, X_test.shape, y_train.shape, y_test.shape"
      ]
    },
    {
      "cell_type": "code",
      "execution_count": 130,
      "metadata": {
        "id": "FcAdnq6UMFII"
      },
      "outputs": [],
      "source": [
        "temp = np.moveaxis(X_train,2,0)\n",
        "X_train_final = temp[0]\n",
        "\n",
        "temp = np.moveaxis(X_test,2,0)\n",
        "X_test_final = temp[0]"
      ]
    },
    {
      "cell_type": "markdown",
      "metadata": {
        "id": "W3hpu1gluctu"
      },
      "source": [
        "#Machine Learning Models"
      ]
    },
    {
      "cell_type": "markdown",
      "metadata": {
        "id": "QYmxOBz00cQF"
      },
      "source": [
        "##SVM"
      ]
    },
    {
      "cell_type": "code",
      "execution_count": 131,
      "metadata": {
        "colab": {
          "base_uri": "https://localhost:8080/"
        },
        "id": "28wAO40VpEMC",
        "outputId": "f67c9b7e-387d-4b2e-f5f9-89a0fc77a30c"
      },
      "outputs": [
        {
          "data": {
            "text/html": [
              "<style>#sk-container-id-2 {color: black;background-color: white;}#sk-container-id-2 pre{padding: 0;}#sk-container-id-2 div.sk-toggleable {background-color: white;}#sk-container-id-2 label.sk-toggleable__label {cursor: pointer;display: block;width: 100%;margin-bottom: 0;padding: 0.3em;box-sizing: border-box;text-align: center;}#sk-container-id-2 label.sk-toggleable__label-arrow:before {content: \"▸\";float: left;margin-right: 0.25em;color: #696969;}#sk-container-id-2 label.sk-toggleable__label-arrow:hover:before {color: black;}#sk-container-id-2 div.sk-estimator:hover label.sk-toggleable__label-arrow:before {color: black;}#sk-container-id-2 div.sk-toggleable__content {max-height: 0;max-width: 0;overflow: hidden;text-align: left;background-color: #f0f8ff;}#sk-container-id-2 div.sk-toggleable__content pre {margin: 0.2em;color: black;border-radius: 0.25em;background-color: #f0f8ff;}#sk-container-id-2 input.sk-toggleable__control:checked~div.sk-toggleable__content {max-height: 200px;max-width: 100%;overflow: auto;}#sk-container-id-2 input.sk-toggleable__control:checked~label.sk-toggleable__label-arrow:before {content: \"▾\";}#sk-container-id-2 div.sk-estimator input.sk-toggleable__control:checked~label.sk-toggleable__label {background-color: #d4ebff;}#sk-container-id-2 div.sk-label input.sk-toggleable__control:checked~label.sk-toggleable__label {background-color: #d4ebff;}#sk-container-id-2 input.sk-hidden--visually {border: 0;clip: rect(1px 1px 1px 1px);clip: rect(1px, 1px, 1px, 1px);height: 1px;margin: -1px;overflow: hidden;padding: 0;position: absolute;width: 1px;}#sk-container-id-2 div.sk-estimator {font-family: monospace;background-color: #f0f8ff;border: 1px dotted black;border-radius: 0.25em;box-sizing: border-box;margin-bottom: 0.5em;}#sk-container-id-2 div.sk-estimator:hover {background-color: #d4ebff;}#sk-container-id-2 div.sk-parallel-item::after {content: \"\";width: 100%;border-bottom: 1px solid gray;flex-grow: 1;}#sk-container-id-2 div.sk-label:hover label.sk-toggleable__label {background-color: #d4ebff;}#sk-container-id-2 div.sk-serial::before {content: \"\";position: absolute;border-left: 1px solid gray;box-sizing: border-box;top: 0;bottom: 0;left: 50%;z-index: 0;}#sk-container-id-2 div.sk-serial {display: flex;flex-direction: column;align-items: center;background-color: white;padding-right: 0.2em;padding-left: 0.2em;position: relative;}#sk-container-id-2 div.sk-item {position: relative;z-index: 1;}#sk-container-id-2 div.sk-parallel {display: flex;align-items: stretch;justify-content: center;background-color: white;position: relative;}#sk-container-id-2 div.sk-item::before, #sk-container-id-2 div.sk-parallel-item::before {content: \"\";position: absolute;border-left: 1px solid gray;box-sizing: border-box;top: 0;bottom: 0;left: 50%;z-index: -1;}#sk-container-id-2 div.sk-parallel-item {display: flex;flex-direction: column;z-index: 1;position: relative;background-color: white;}#sk-container-id-2 div.sk-parallel-item:first-child::after {align-self: flex-end;width: 50%;}#sk-container-id-2 div.sk-parallel-item:last-child::after {align-self: flex-start;width: 50%;}#sk-container-id-2 div.sk-parallel-item:only-child::after {width: 0;}#sk-container-id-2 div.sk-dashed-wrapped {border: 1px dashed gray;margin: 0 0.4em 0.5em 0.4em;box-sizing: border-box;padding-bottom: 0.4em;background-color: white;}#sk-container-id-2 div.sk-label label {font-family: monospace;font-weight: bold;display: inline-block;line-height: 1.2em;}#sk-container-id-2 div.sk-label-container {text-align: center;}#sk-container-id-2 div.sk-container {/* jupyter's `normalize.less` sets `[hidden] { display: none; }` but bootstrap.min.css set `[hidden] { display: none !important; }` so we also need the `!important` here to be able to override the default hidden behavior on the sphinx rendered scikit-learn.org. See: https://github.com/scikit-learn/scikit-learn/issues/21755 */display: inline-block !important;position: relative;}#sk-container-id-2 div.sk-text-repr-fallback {display: none;}</style><div id=\"sk-container-id-2\" class=\"sk-top-container\"><div class=\"sk-text-repr-fallback\"><pre>SVR()</pre><b>In a Jupyter environment, please rerun this cell to show the HTML representation or trust the notebook. <br />On GitHub, the HTML representation is unable to render, please try loading this page with nbviewer.org.</b></div><div class=\"sk-container\" hidden><div class=\"sk-item\"><div class=\"sk-estimator sk-toggleable\"><input class=\"sk-toggleable__control sk-hidden--visually\" id=\"sk-estimator-id-2\" type=\"checkbox\" checked><label for=\"sk-estimator-id-2\" class=\"sk-toggleable__label sk-toggleable__label-arrow\">SVR</label><div class=\"sk-toggleable__content\"><pre>SVR()</pre></div></div></div></div></div>"
            ],
            "text/plain": [
              "SVR()"
            ]
          },
          "execution_count": 131,
          "metadata": {},
          "output_type": "execute_result"
        }
      ],
      "source": [
        "from sklearn.svm import SVR\n",
        "regressor = SVR(kernel='rbf')\n",
        "regressor.fit(X_train_final,y_train)"
      ]
    },
    {
      "cell_type": "code",
      "execution_count": 132,
      "metadata": {
        "colab": {
          "base_uri": "https://localhost:8080/"
        },
        "id": "83NcV14zsfxD",
        "outputId": "a435f185-b2cd-4c66-a566-c303f91d71e7"
      },
      "outputs": [
        {
          "data": {
            "text/plain": [
              "-0.10105219342647787"
            ]
          },
          "execution_count": 132,
          "metadata": {},
          "output_type": "execute_result"
        }
      ],
      "source": [
        "regressor.score(X_test_final,y_test)"
      ]
    },
    {
      "cell_type": "code",
      "execution_count": 133,
      "metadata": {
        "colab": {
          "base_uri": "https://localhost:8080/"
        },
        "id": "XDYJsMGSpYa_",
        "outputId": "6c55aa0e-ec24-4471-c105-9c9e5804a55a"
      },
      "outputs": [
        {
          "name": "stdout",
          "output_type": "stream",
          "text": [
            "-10.105219342647786\n"
          ]
        }
      ],
      "source": [
        "#Accuraccy\n",
        "print(regressor.score(X_test_final,y_test)*100)"
      ]
    },
    {
      "cell_type": "markdown",
      "metadata": {
        "id": "cF9A81SttKSl"
      },
      "source": [
        "##Logistic Regression"
      ]
    },
    {
      "cell_type": "code",
      "execution_count": 134,
      "metadata": {
        "colab": {
          "base_uri": "https://localhost:8080/"
        },
        "id": "Xppdgvn7pYV2",
        "outputId": "980044b7-720b-4f43-8942-f58cfcf3cff5"
      },
      "outputs": [
        {
          "name": "stderr",
          "output_type": "stream",
          "text": [
            "c:\\Users\\praty\\AppData\\Local\\Programs\\Python\\Python310\\lib\\site-packages\\sklearn\\linear_model\\_logistic.py:444: ConvergenceWarning: lbfgs failed to converge (status=1):\n",
            "STOP: TOTAL NO. of ITERATIONS REACHED LIMIT.\n",
            "\n",
            "Increase the number of iterations (max_iter) or scale the data as shown in:\n",
            "    https://scikit-learn.org/stable/modules/preprocessing.html\n",
            "Please also refer to the documentation for alternative solver options:\n",
            "    https://scikit-learn.org/stable/modules/linear_model.html#logistic-regression\n",
            "  n_iter_i = _check_optimize_result(\n"
          ]
        },
        {
          "data": {
            "text/plain": [
              "array([[9.76079158e-03, 8.20077864e-02, 1.60809102e-02, 1.02036897e-01,\n",
              "        7.27440898e-02, 6.57911673e-01, 5.94578523e-02],\n",
              "       [2.20168227e-02, 6.88415645e-03, 2.58441702e-01, 2.76691881e-01,\n",
              "        7.79098170e-02, 2.80546382e-01, 7.75092392e-02],\n",
              "       [3.34069060e-02, 1.00405968e-01, 2.14510173e-02, 6.84048610e-02,\n",
              "        2.08731471e-01, 5.00929963e-01, 6.66698148e-02],\n",
              "       [1.55174823e-01, 2.77210957e-01, 2.11126281e-01, 5.83107652e-02,\n",
              "        1.56531288e-01, 4.44168045e-02, 9.72290802e-02],\n",
              "       [6.30004873e-02, 8.11124539e-02, 6.28648135e-01, 6.56362849e-02,\n",
              "        5.87339306e-03, 8.79763982e-02, 6.77528477e-02],\n",
              "       [5.00477273e-02, 4.22994107e-01, 5.93389826e-02, 4.87401936e-02,\n",
              "        2.76739600e-02, 1.45627822e-01, 2.45577208e-01],\n",
              "       [3.00846951e-03, 7.41869549e-03, 8.59013116e-03, 8.57365032e-02,\n",
              "        1.95389682e-02, 4.95766530e-02, 8.26130579e-01],\n",
              "       [8.27410938e-02, 3.56420829e-02, 3.58510986e-01, 7.62324808e-02,\n",
              "        4.19225678e-02, 3.57604361e-01, 4.73464276e-02],\n",
              "       [5.40769797e-02, 2.55798393e-02, 7.35571560e-02, 6.86464571e-02,\n",
              "        1.91620605e-01, 2.92249032e-02, 5.57294060e-01],\n",
              "       [2.87016441e-02, 1.03383787e-02, 4.39428377e-03, 8.39732220e-01,\n",
              "        1.38960914e-02, 3.48663305e-02, 6.80710518e-02],\n",
              "       [2.47889244e-02, 1.15814046e-01, 7.50996529e-02, 6.92040494e-03,\n",
              "        7.39258069e-02, 6.73145305e-01, 3.03058603e-02],\n",
              "       [2.40699421e-01, 1.97212191e-01, 1.39322850e-02, 9.24543239e-02,\n",
              "        1.33039415e-01, 9.08072022e-02, 2.31855162e-01],\n",
              "       [3.81787661e-02, 2.43564184e-01, 6.17900502e-02, 3.58837625e-01,\n",
              "        2.70894792e-02, 6.43994807e-03, 2.64099948e-01],\n",
              "       [8.87263272e-02, 4.04693300e-01, 6.72053160e-02, 2.51723392e-01,\n",
              "        1.07699253e-01, 1.88152196e-02, 6.11371921e-02],\n",
              "       [1.46769480e-01, 2.49305688e-02, 2.25213973e-01, 7.16695040e-02,\n",
              "        3.39290459e-01, 4.06399649e-02, 1.51486051e-01],\n",
              "       [1.23260508e-01, 8.61095825e-03, 8.24765469e-02, 1.04898233e-02,\n",
              "        3.65276435e-01, 1.29018363e-02, 3.96983892e-01],\n",
              "       [2.19999622e-01, 1.49465998e-01, 9.30536985e-02, 1.80158670e-01,\n",
              "        1.44050147e-01, 5.10531348e-02, 1.62218729e-01],\n",
              "       [3.94401352e-03, 6.68911093e-03, 6.34099983e-04, 2.41558052e-02,\n",
              "        3.39099921e-03, 8.88392654e-01, 7.27933171e-02],\n",
              "       [2.77534224e-02, 2.24779777e-01, 2.04527299e-01, 7.39696485e-02,\n",
              "        7.81784709e-02, 3.66888708e-02, 3.54102512e-01],\n",
              "       [1.82132861e-01, 4.07471449e-01, 7.74258432e-02, 1.62340070e-01,\n",
              "        6.88753523e-03, 1.48554691e-02, 1.48886773e-01],\n",
              "       [3.36213803e-02, 1.68533848e-01, 4.79972439e-02, 4.69839618e-01,\n",
              "        3.22629964e-02, 2.14456886e-01, 3.32880268e-02],\n",
              "       [2.47320540e-02, 3.15151065e-01, 5.17276848e-02, 4.77408384e-02,\n",
              "        1.11704339e-01, 3.82701458e-01, 6.62425607e-02],\n",
              "       [7.02245913e-02, 3.84135444e-02, 3.59130751e-01, 3.26783494e-01,\n",
              "        7.30831185e-02, 4.95093221e-02, 8.28551790e-02],\n",
              "       [4.68358855e-02, 2.09427167e-02, 3.73486108e-02, 4.16348896e-01,\n",
              "        3.68458289e-01, 1.81947482e-02, 9.18708544e-02],\n",
              "       [5.66236302e-01, 6.60945130e-02, 9.66124999e-02, 1.08158437e-01,\n",
              "        4.12465312e-02, 9.70787433e-02, 2.45729736e-02],\n",
              "       [9.00085801e-03, 1.77291258e-02, 3.62305562e-02, 5.05770763e-02,\n",
              "        4.84240766e-01, 3.60501611e-01, 4.17200061e-02],\n",
              "       [1.93025815e-02, 3.80399006e-01, 4.96884682e-03, 1.90598128e-01,\n",
              "        3.41809212e-02, 2.90908969e-02, 3.41459620e-01],\n",
              "       [2.72656781e-01, 1.27699749e-01, 2.57514264e-01, 2.69593394e-02,\n",
              "        6.66104649e-02, 2.19341409e-01, 2.92179922e-02],\n",
              "       [7.42004016e-02, 2.06987044e-01, 2.87381532e-01, 1.76903120e-01,\n",
              "        7.35901278e-02, 7.28193318e-02, 1.08118443e-01],\n",
              "       [3.94852219e-02, 6.07600304e-02, 8.28005463e-02, 2.47601507e-02,\n",
              "        2.16766214e-01, 3.79164578e-02, 5.37511379e-01],\n",
              "       [1.80244339e-03, 9.05376021e-01, 3.25814922e-04, 1.23814844e-02,\n",
              "        7.43280476e-02, 5.31311554e-03, 4.73073315e-04],\n",
              "       [1.76879344e-01, 1.48051527e-06, 5.36262378e-01, 2.01330384e-02,\n",
              "        4.53143848e-02, 2.14005908e-01, 7.40346609e-03],\n",
              "       [2.33690315e-02, 2.81600968e-02, 1.85210656e-01, 1.38077065e-01,\n",
              "        1.16695527e-02, 9.85786936e-02, 5.14934904e-01],\n",
              "       [8.47935675e-02, 2.48433890e-01, 5.96672870e-02, 4.06483245e-02,\n",
              "        1.88262573e-02, 1.55375642e-02, 5.32093110e-01],\n",
              "       [2.15326928e-01, 1.81006866e-01, 4.43679328e-01, 5.64574691e-02,\n",
              "        3.05684371e-02, 5.81775163e-02, 1.47834553e-02],\n",
              "       [1.67171202e-01, 2.43743815e-01, 6.43604425e-02, 4.54290679e-02,\n",
              "        2.06256165e-01, 2.35867487e-01, 3.71718211e-02],\n",
              "       [3.54658823e-01, 3.25841583e-02, 2.24841489e-01, 3.84334072e-02,\n",
              "        1.68119109e-01, 8.29771152e-02, 9.83858985e-02],\n",
              "       [1.90736212e-01, 4.60907882e-02, 1.46995952e-02, 5.81521300e-01,\n",
              "        4.77095742e-02, 1.17525181e-01, 1.71735011e-03],\n",
              "       [1.02341456e-02, 2.41732154e-01, 5.30245032e-02, 2.38572474e-02,\n",
              "        6.90050401e-02, 4.73755052e-01, 1.28391858e-01],\n",
              "       [1.01488360e-02, 1.02170069e-01, 4.97539215e-02, 7.78350297e-02,\n",
              "        4.81510668e-01, 8.52811036e-02, 1.93300373e-01],\n",
              "       [5.09066241e-01, 3.30761224e-01, 1.03697511e-01, 1.27671876e-02,\n",
              "        2.56148303e-02, 1.54642291e-02, 2.62877726e-03],\n",
              "       [1.20519100e-02, 1.17540474e-01, 1.49296843e-02, 7.68976830e-02,\n",
              "        7.36380260e-02, 6.73494033e-01, 3.14481889e-02],\n",
              "       [1.69922767e-01, 2.57631075e-01, 2.53627180e-03, 4.23214877e-03,\n",
              "        5.05704054e-01, 3.21415302e-03, 5.67595312e-02],\n",
              "       [3.53929334e-01, 2.72950514e-01, 1.01010172e-01, 9.72254410e-02,\n",
              "        1.06347147e-01, 3.19269128e-02, 3.66104791e-02],\n",
              "       [9.44364708e-02, 5.18093382e-02, 1.85449727e-01, 1.44508318e-01,\n",
              "        7.62084884e-02, 3.93327812e-01, 5.42598457e-02],\n",
              "       [1.33392845e-01, 1.63505751e-02, 2.59803858e-01, 1.12306340e-02,\n",
              "        1.84853447e-01, 2.85747773e-01, 1.08620868e-01],\n",
              "       [3.35552483e-01, 2.02025931e-01, 1.59737019e-02, 4.67621571e-02,\n",
              "        7.09009281e-02, 2.67121644e-01, 6.16631544e-02],\n",
              "       [5.61425675e-02, 2.97904347e-01, 7.08023897e-02, 6.25133389e-02,\n",
              "        6.28040138e-03, 1.41076421e-01, 3.65280534e-01],\n",
              "       [4.12431321e-02, 8.60125657e-03, 6.71865513e-01, 1.63256975e-02,\n",
              "        3.15291008e-02, 1.38608341e-01, 9.18269594e-02],\n",
              "       [1.81660352e-01, 1.05539401e-01, 1.71266975e-01, 3.04167379e-02,\n",
              "        2.06090976e-01, 1.78407852e-01, 1.26617705e-01],\n",
              "       [7.58613577e-02, 7.96975895e-02, 6.35893972e-02, 6.50094161e-02,\n",
              "        4.27308369e-01, 3.20926513e-02, 2.56441219e-01],\n",
              "       [7.89244281e-02, 9.89948844e-03, 3.86158518e-01, 1.91451043e-01,\n",
              "        4.97398806e-02, 9.17348384e-02, 1.92091804e-01],\n",
              "       [1.06318660e-01, 4.50360969e-01, 6.68663074e-02, 2.98873944e-01,\n",
              "        2.64524992e-02, 1.24017665e-02, 3.87258534e-02],\n",
              "       [1.59380626e-01, 3.69069328e-01, 1.20500096e-02, 4.17979023e-01,\n",
              "        4.45215560e-03, 2.95807495e-02, 7.48810776e-03],\n",
              "       [1.22432425e-02, 1.12948562e-01, 7.56479357e-02, 2.37684767e-01,\n",
              "        7.72332492e-02, 1.10686571e-01, 3.73555672e-01],\n",
              "       [3.46281396e-01, 2.17172007e-01, 1.29410186e-01, 1.23202151e-01,\n",
              "        8.21154432e-02, 1.46866351e-02, 8.71321816e-02],\n",
              "       [5.27158287e-01, 1.49443518e-01, 1.54022993e-01, 5.32078885e-02,\n",
              "        1.37160394e-02, 1.40959490e-02, 8.83553249e-02],\n",
              "       [1.50691419e-03, 2.69379527e-02, 6.89458348e-02, 6.80959115e-02,\n",
              "        1.55574275e-02, 3.48330753e-01, 4.70625206e-01],\n",
              "       [1.33299665e-02, 1.54475278e-01, 5.22325301e-02, 2.23595049e-02,\n",
              "        3.94983812e-02, 4.81613945e-01, 2.36490394e-01],\n",
              "       [1.88239859e-01, 4.95849506e-02, 1.29308631e-01, 2.11057321e-01,\n",
              "        8.72553515e-02, 3.94479211e-02, 2.95105966e-01],\n",
              "       [1.67332418e-01, 1.21542114e-01, 4.51498479e-01, 7.81185547e-03,\n",
              "        1.48472238e-02, 7.78740438e-02, 1.59093866e-01],\n",
              "       [1.81220938e-01, 1.61868669e-01, 2.05835766e-02, 1.52398588e-01,\n",
              "        2.35944469e-01, 1.46999201e-01, 1.00984559e-01],\n",
              "       [5.17057311e-01, 1.47649865e-01, 2.22780670e-01, 4.31029931e-02,\n",
              "        1.33526016e-02, 2.35016767e-02, 3.25548824e-02],\n",
              "       [2.73558404e-02, 3.02338395e-01, 1.30459559e-01, 3.74071499e-01,\n",
              "        6.63945758e-02, 2.12503558e-02, 7.81297761e-02],\n",
              "       [1.51671561e-01, 7.02626718e-02, 2.70192875e-02, 5.14143233e-02,\n",
              "        1.86566979e-01, 7.39250901e-02, 4.39140087e-01],\n",
              "       [1.65949291e-01, 1.37500668e-01, 3.09196535e-02, 2.57475527e-02,\n",
              "        2.36334020e-01, 3.24479994e-01, 7.90688205e-02],\n",
              "       [3.00377056e-01, 2.28165322e-01, 1.76603370e-01, 2.72090001e-03,\n",
              "        5.10883323e-02, 2.25620055e-01, 1.54249651e-02],\n",
              "       [3.21528166e-01, 1.69650835e-01, 7.49520466e-02, 4.80489747e-02,\n",
              "        3.61492200e-01, 1.11322469e-02, 1.31955296e-02],\n",
              "       [3.39331001e-01, 7.05755198e-03, 1.05283634e-01, 2.87985119e-02,\n",
              "        3.59613427e-01, 1.41995454e-01, 1.79204202e-02],\n",
              "       [1.01379592e-01, 2.04527500e-01, 7.56788121e-02, 1.99671253e-01,\n",
              "        4.87896710e-02, 1.20694904e-01, 2.49258267e-01],\n",
              "       [2.89127948e-02, 6.64375511e-01, 3.41445742e-03, 2.48743766e-02,\n",
              "        2.91064509e-02, 2.39037322e-02, 2.25412677e-01],\n",
              "       [8.10997308e-02, 1.36343902e-03, 6.85160588e-03, 1.32358706e-02,\n",
              "        1.12662372e-01, 7.73595212e-01, 1.11917690e-02],\n",
              "       [1.95459172e-01, 2.04021663e-01, 8.04268256e-02, 6.23397605e-02,\n",
              "        1.99275052e-01, 9.01049849e-02, 1.68372542e-01],\n",
              "       [3.96059176e-02, 4.01553426e-02, 3.27178364e-01, 6.96749267e-02,\n",
              "        1.10995862e-01, 3.69618278e-01, 4.27713088e-02],\n",
              "       [5.23984876e-02, 6.72019835e-03, 8.24877073e-02, 3.95942598e-01,\n",
              "        2.12095432e-01, 8.53198258e-02, 1.65035750e-01],\n",
              "       [6.07639035e-02, 3.34928318e-01, 1.50678850e-01, 4.05552513e-02,\n",
              "        1.30083960e-01, 2.24400306e-01, 5.85894112e-02],\n",
              "       [3.99354008e-02, 4.58456553e-02, 3.88449712e-02, 1.77790345e-01,\n",
              "        4.26636648e-01, 2.60576823e-01, 1.03701574e-02],\n",
              "       [7.75049988e-03, 1.13378258e-02, 8.25153253e-03, 7.64415763e-03,\n",
              "        5.61924849e-01, 1.27189686e-01, 2.75901449e-01],\n",
              "       [1.37976251e-02, 7.68583420e-02, 6.08952060e-02, 7.76067252e-01,\n",
              "        2.23986651e-02, 1.60523610e-02, 3.39305490e-02],\n",
              "       [4.89249832e-02, 4.10931652e-01, 3.87612466e-02, 3.31302044e-02,\n",
              "        1.38562814e-02, 1.99643416e-01, 2.54752216e-01],\n",
              "       [6.29776542e-02, 6.84477852e-01, 1.63099070e-02, 1.42279248e-01,\n",
              "        6.42923695e-03, 3.57619270e-03, 8.39499092e-02],\n",
              "       [3.03154729e-01, 1.98610530e-02, 3.97767280e-01, 5.07698740e-02,\n",
              "        8.54958337e-02, 1.27645313e-02, 1.30186699e-01],\n",
              "       [4.13438329e-02, 2.06700063e-01, 2.48780378e-02, 8.19351346e-02,\n",
              "        3.10858416e-01, 2.30417636e-01, 1.03866879e-01],\n",
              "       [2.81186578e-01, 2.30104486e-01, 1.09166806e-01, 1.15661814e-01,\n",
              "        1.34719329e-01, 8.36018730e-02, 4.55591147e-02]])"
            ]
          },
          "execution_count": 134,
          "metadata": {},
          "output_type": "execute_result"
        }
      ],
      "source": [
        "from sklearn.linear_model import LogisticRegression\n",
        "clf = LogisticRegression(random_state=0).fit(X_train_final, y_train)\n",
        "clf.predict(X_test_final)\n",
        "clf.predict_proba(X_test_final)"
      ]
    },
    {
      "cell_type": "code",
      "execution_count": 135,
      "metadata": {
        "colab": {
          "base_uri": "https://localhost:8080/"
        },
        "id": "Rygo1JPbOmSK",
        "outputId": "cd777869-d8f2-4324-ab31-8aed1e07d2e3"
      },
      "outputs": [
        {
          "data": {
            "text/plain": [
              "((84, 61), (84,))"
            ]
          },
          "execution_count": 135,
          "metadata": {},
          "output_type": "execute_result"
        }
      ],
      "source": [
        "X_test_final.shape, y_test.shape"
      ]
    },
    {
      "cell_type": "code",
      "execution_count": 136,
      "metadata": {
        "colab": {
          "base_uri": "https://localhost:8080/"
        },
        "id": "3y7vudwltbzl",
        "outputId": "57881829-6234-4c06-8a97-8a95eb9c3d51"
      },
      "outputs": [
        {
          "data": {
            "text/plain": [
              "14.285714285714285"
            ]
          },
          "execution_count": 136,
          "metadata": {},
          "output_type": "execute_result"
        }
      ],
      "source": [
        "clf.score(X_test_final, y_test)*100"
      ]
    },
    {
      "cell_type": "code",
      "execution_count": 137,
      "metadata": {
        "colab": {
          "base_uri": "https://localhost:8080/"
        },
        "id": "EJvaCXIJ6gOu",
        "outputId": "11c59279-8dba-4a4e-d8eb-d0c3098ef192"
      },
      "outputs": [
        {
          "name": "stdout",
          "output_type": "stream",
          "text": [
            "20.238095238095237 %\n"
          ]
        }
      ],
      "source": [
        "from sklearn.neighbors import KNeighborsClassifier\n",
        "clf = KNeighborsClassifier(p=1)\n",
        "clf.fit(X_train[:,:,-1], y_train)\n",
        "predictions = clf.predict(X_test_final)\n",
        "\n",
        "from sklearn.metrics import accuracy_score\n",
        "print(accuracy_score(y_test, predictions)*100,'%')"
      ]
    },
    {
      "cell_type": "markdown",
      "metadata": {
        "id": "ZucsRQJq79Op"
      },
      "source": [
        "##Random Forest"
      ]
    },
    {
      "cell_type": "code",
      "execution_count": 138,
      "metadata": {
        "id": "HllApO8479II"
      },
      "outputs": [],
      "source": [
        "from sklearn.ensemble import RandomForestRegressor\n",
        "\n",
        "rf = RandomForestRegressor(n_estimators = 1000, random_state = 42)\n",
        "\n",
        "rf.fit(X_train_final, y_train);"
      ]
    },
    {
      "cell_type": "code",
      "execution_count": 139,
      "metadata": {
        "colab": {
          "base_uri": "https://localhost:8080/"
        },
        "id": "SbWAKBK5A0fV",
        "outputId": "fd8ec632-e5a2-4fa4-dc26-0aa67f3befb8"
      },
      "outputs": [
        {
          "name": "stdout",
          "output_type": "stream",
          "text": [
            "Mean Absolute Error: 1.76 degrees.\n"
          ]
        }
      ],
      "source": [
        "predictions = rf.predict(X_test_final)\n",
        "\n",
        "errors = abs(predictions - y_test)\n",
        "\n",
        "print('Mean Absolute Error:', round(np.mean(errors), 2), 'degrees.')"
      ]
    },
    {
      "cell_type": "code",
      "execution_count": 140,
      "metadata": {
        "colab": {
          "base_uri": "https://localhost:8080/"
        },
        "id": "SALqHysqBB88",
        "outputId": "c556f8f0-fd5c-4b28-dd3a-b08a1def118b"
      },
      "outputs": [
        {
          "name": "stdout",
          "output_type": "stream",
          "text": [
            "Accuracy: 19.12 %.\n"
          ]
        }
      ],
      "source": [
        "mape = 100 * (errors / y_test)\n",
        "accuracy = 100 - np.mean(mape)\n",
        "print('Accuracy:', round(accuracy, 2), '%.')"
      ]
    },
    {
      "cell_type": "markdown",
      "metadata": {
        "id": "XWyxU0DKuhod"
      },
      "source": [
        "#Deep Learning Models"
      ]
    },
    {
      "cell_type": "markdown",
      "metadata": {
        "id": "ohA4sZ9xxiZH"
      },
      "source": [
        "####CNN"
      ]
    },
    {
      "cell_type": "code",
      "execution_count": 141,
      "metadata": {
        "id": "iTNP2O740ljm"
      },
      "outputs": [],
      "source": [
        "features= np.moveaxis(features,1,2)"
      ]
    },
    {
      "cell_type": "code",
      "execution_count": 142,
      "metadata": {
        "colab": {
          "base_uri": "https://localhost:8080/"
        },
        "id": "hjngZtigul_7",
        "outputId": "c6350a6c-1238-4b81-ef35-f5ff7fef62f0"
      },
      "outputs": [
        {
          "data": {
            "text/plain": [
              "((420,), (420, 410, 61))"
            ]
          },
          "execution_count": 142,
          "metadata": {},
          "output_type": "execute_result"
        }
      ],
      "source": [
        "labels.shape,features.shape"
      ]
    },
    {
      "cell_type": "code",
      "execution_count": 150,
      "metadata": {
        "colab": {
          "base_uri": "https://localhost:8080/"
        },
        "id": "6TN5p8xwnbLW",
        "outputId": "9d977959-e17f-49cb-e2cc-991383704d5e"
      },
      "outputs": [
        {
          "name": "stdout",
          "output_type": "stream",
          "text": [
            "Model: \"sequential\"\n",
            "_________________________________________________________________\n",
            " Layer (type)                Output Shape              Param #   \n",
            "=================================================================\n",
            " conv1d (Conv1D)             (None, 408, 5)            920       \n",
            "                                                                 \n",
            " batch_normalization (BatchN  (None, 408, 5)           20        \n",
            " ormalization)                                                   \n",
            "                                                                 \n",
            " leaky_re_lu (LeakyReLU)     (None, 408, 5)            0         \n",
            "                                                                 \n",
            " max_pooling1d (MaxPooling1D  (None, 204, 5)           0         \n",
            " )                                                               \n",
            "                                                                 \n",
            " conv1d_1 (Conv1D)           (None, 202, 5)            80        \n",
            "                                                                 \n",
            " leaky_re_lu_1 (LeakyReLU)   (None, 202, 5)            0         \n",
            "                                                                 \n",
            " max_pooling1d_1 (MaxPooling  (None, 101, 5)           0         \n",
            " 1D)                                                             \n",
            "                                                                 \n",
            " dropout (Dropout)           (None, 101, 5)            0         \n",
            "                                                                 \n",
            " conv1d_2 (Conv1D)           (None, 50, 5)             80        \n",
            "                                                                 \n",
            " leaky_re_lu_2 (LeakyReLU)   (None, 50, 5)             0         \n",
            "                                                                 \n",
            " average_pooling1d (AverageP  (None, 25, 5)            0         \n",
            " ooling1D)                                                       \n",
            "                                                                 \n",
            " dropout_1 (Dropout)         (None, 25, 5)             0         \n",
            "                                                                 \n",
            " conv1d_3 (Conv1D)           (None, 23, 5)             80        \n",
            "                                                                 \n",
            " leaky_re_lu_3 (LeakyReLU)   (None, 23, 5)             0         \n",
            "                                                                 \n",
            " global_average_pooling1d (G  (None, 5)                0         \n",
            " lobalAveragePooling1D)                                          \n",
            "                                                                 \n",
            " dense (Dense)               (None, 1)                 6         \n",
            "                                                                 \n",
            "=================================================================\n",
            "Total params: 1,186\n",
            "Trainable params: 1,176\n",
            "Non-trainable params: 10\n",
            "_________________________________________________________________\n"
          ]
        }
      ],
      "source": [
        "from tensorflow.keras.layers import Conv1D, BatchNormalization, LeakyReLU, MaxPool1D,\\\n",
        " GlobalAveragePooling1D, Dense, Dropout, AveragePooling1D\n",
        "from tensorflow.keras.models import Sequential\n",
        "from tensorflow.keras.backend import clear_session\n",
        "\n",
        "def cnnmodel():\n",
        "  clear_session()\n",
        "  model = Sequential()\n",
        "  model.add(Conv1D(filters=5,kernel_size=3,strides=1,input_shape=(410, 61)))\n",
        "  model.add(BatchNormalization())\n",
        "  model.add(LeakyReLU())\n",
        "  model.add(MaxPool1D(pool_size=2,strides=2))\n",
        "  model.add(Conv1D(filters=5,kernel_size=3,strides=1))\n",
        "  model.add(LeakyReLU())\n",
        "  model.add(MaxPool1D(pool_size=2,strides=2))\n",
        "  model.add(Dropout(0.5))\n",
        "  model.add(Conv1D(filters=5,kernel_size=3,strides=2))\n",
        "  model.add(LeakyReLU())\n",
        "  model.add(AveragePooling1D(pool_size=2,strides=2))\n",
        "  model.add(Dropout(0.5))\n",
        "  model.add(Conv1D(filters=5,kernel_size=3,strides=1))\n",
        "  model.add(LeakyReLU())\n",
        "  model.add(GlobalAveragePooling1D())\n",
        "  model.add(Dense(1,activation='sigmoid'))\n",
        "\n",
        "  #model.compile('adam', loss='binary_crossentropy', metrics=['accuracy'])\n",
        "  model.compile(optimizer='adam', loss='BinaryCrossentropy',metrics=['accuracy'])\n",
        "  return model\n",
        "  \n",
        "model = cnnmodel()\n",
        "model.summary()"
      ]
    },
    {
      "cell_type": "code",
      "execution_count": 153,
      "metadata": {
        "id": "lQcR3j8T6G6v"
      },
      "outputs": [],
      "source": [
        "group_list = [[i]*len(j) for i,j in enumerate(features)]\n",
        "group_array = np.array(group_list)"
      ]
    },
    {
      "cell_type": "code",
      "execution_count": 154,
      "metadata": {
        "colab": {
          "base_uri": "https://localhost:8080/"
        },
        "id": "vDA8bJ3M7ozj",
        "outputId": "d3ecf8d0-fec9-41f8-9633-b0cd1c50290c"
      },
      "outputs": [
        {
          "data": {
            "text/plain": [
              "array([  0,   1,   2,   3,   4,   5,   6,   7,   8,   9,  10,  11,  12,\n",
              "        13,  14,  15,  16,  17,  18,  19,  20,  21,  22,  23,  24,  25,\n",
              "        26,  27,  28,  29,  30,  31,  32,  33,  34,  35,  36,  37,  38,\n",
              "        39,  40,  41,  42,  43,  44,  45,  46,  47,  48,  49,  50,  51,\n",
              "        52,  53,  54,  55,  56,  57,  58,  59,  60,  61,  62,  63,  64,\n",
              "        65,  66,  67,  68,  69,  70,  71,  72,  73,  74,  75,  76,  77,\n",
              "        78,  79,  80,  81,  82,  83,  84,  85,  86,  87,  88,  89,  90,\n",
              "        91,  92,  93,  94,  95,  96,  97,  98,  99, 100, 101, 102, 103,\n",
              "       104, 105, 106, 107, 108, 109, 110, 111, 112, 113, 114, 115, 116,\n",
              "       117, 118, 119, 120, 121, 122, 123, 124, 125, 126, 127, 128, 129,\n",
              "       130, 131, 132, 133, 134, 135, 136, 137, 138, 139, 140, 141, 142,\n",
              "       143, 144, 145, 146, 147, 148, 149, 150, 151, 152, 153, 154, 155,\n",
              "       156, 157, 158, 159, 160, 161, 162, 163, 164, 165, 166, 167, 168,\n",
              "       169, 170, 171, 172, 173, 174, 175, 176, 177, 178, 179, 180, 181,\n",
              "       182, 183, 184, 185, 186, 187, 188, 189, 190, 191, 192, 193, 194,\n",
              "       195, 196, 197, 198, 199, 200, 201, 202, 203, 204, 205, 206, 207,\n",
              "       208, 209, 210, 211, 212, 213, 214, 215, 216, 217, 218, 219, 220,\n",
              "       221, 222, 223, 224, 225, 226, 227, 228, 229, 230, 231, 232, 233,\n",
              "       234, 235, 236, 237, 238, 239, 240, 241, 242, 243, 244, 245, 246,\n",
              "       247, 248, 249, 250, 251, 252, 253, 254, 255, 256, 257, 258, 259,\n",
              "       260, 261, 262, 263, 264, 265, 266, 267, 268, 269, 270, 271, 272,\n",
              "       273, 274, 275, 276, 277, 278, 279, 280, 281, 282, 283, 284, 285,\n",
              "       286, 287, 288, 289, 290, 291, 292, 293, 294, 295, 296, 297, 298,\n",
              "       299, 300, 301, 302, 303, 304, 305, 306, 307, 308, 309, 310, 311,\n",
              "       312, 313, 314, 315, 316, 317, 318, 319, 320, 321, 322, 323, 324,\n",
              "       325, 326, 327, 328, 329, 330, 331, 332, 333, 334, 335, 336, 337,\n",
              "       338, 339, 340, 341, 342, 343, 344, 345, 346, 347, 348, 349, 350,\n",
              "       351, 352, 353, 354, 355, 356, 357, 358, 359, 360, 361, 362, 363,\n",
              "       364, 365, 366, 367, 368, 369, 370, 371, 372, 373, 374, 375, 376,\n",
              "       377, 378, 379, 380, 381, 382, 383, 384, 385, 386, 387, 388, 389,\n",
              "       390, 391, 392, 393, 394, 395, 396, 397, 398, 399, 400, 401, 402,\n",
              "       403, 404, 405, 406, 407, 408, 409, 410, 411, 412, 413, 414, 415,\n",
              "       416, 417, 418, 419])"
            ]
          },
          "execution_count": 154,
          "metadata": {},
          "output_type": "execute_result"
        }
      ],
      "source": [
        "group_array = np.moveaxis(group_array,1,0)[0]\n",
        "group_array"
      ]
    },
    {
      "cell_type": "code",
      "execution_count": 146,
      "metadata": {
        "id": "rZy5Hcd8yrHc"
      },
      "outputs": [],
      "source": [
        "from sklearn.model_selection import GroupKFold, LeaveOneGroupOut\n",
        "from sklearn.preprocessing import StandardScaler\n",
        "\n",
        "gkf = GroupKFold()"
      ]
    },
    {
      "cell_type": "code",
      "execution_count": 155,
      "metadata": {
        "colab": {
          "background_save": true
        },
        "id": "jvubhVU04syo",
        "outputId": "f49098b7-48ad-4b06-cade-2be0a48f623c"
      },
      "outputs": [
        {
          "name": "stdout",
          "output_type": "stream",
          "text": [
            "Epoch 1/50\n",
            "11/11 [==============================] - 4s 90ms/step - loss: 0.5862 - accuracy: 0.0655 - val_loss: 0.3751 - val_accuracy: 0.1429\n",
            "Epoch 2/50\n",
            "11/11 [==============================] - 0s 35ms/step - loss: -0.0581 - accuracy: 0.1429 - val_loss: -0.2376 - val_accuracy: 0.1429\n",
            "Epoch 3/50\n",
            "11/11 [==============================] - 0s 33ms/step - loss: -1.0161 - accuracy: 0.1429 - val_loss: -1.1545 - val_accuracy: 0.1429\n",
            "Epoch 4/50\n",
            "11/11 [==============================] - 0s 33ms/step - loss: -2.4181 - accuracy: 0.1429 - val_loss: -2.5520 - val_accuracy: 0.1429\n",
            "Epoch 5/50\n",
            "11/11 [==============================] - 0s 34ms/step - loss: -4.4555 - accuracy: 0.1429 - val_loss: -4.9814 - val_accuracy: 0.1429\n",
            "Epoch 6/50\n",
            "11/11 [==============================] - 0s 36ms/step - loss: -7.4866 - accuracy: 0.1429 - val_loss: -8.8877 - val_accuracy: 0.1429\n",
            "Epoch 7/50\n",
            "11/11 [==============================] - 0s 34ms/step - loss: -11.4850 - accuracy: 0.1429 - val_loss: -15.0870 - val_accuracy: 0.1429\n",
            "Epoch 8/50\n",
            "11/11 [==============================] - 1s 51ms/step - loss: -18.0437 - accuracy: 0.1429 - val_loss: -24.7258 - val_accuracy: 0.1429\n",
            "Epoch 9/50\n",
            "11/11 [==============================] - 0s 39ms/step - loss: -27.8549 - accuracy: 0.1429 - val_loss: -39.5187 - val_accuracy: 0.1429\n",
            "Epoch 10/50\n",
            "11/11 [==============================] - 0s 34ms/step - loss: -42.2943 - accuracy: 0.1429 - val_loss: -62.0518 - val_accuracy: 0.1429\n",
            "Epoch 11/50\n",
            "11/11 [==============================] - 0s 33ms/step - loss: -64.7519 - accuracy: 0.1429 - val_loss: -96.2605 - val_accuracy: 0.1429\n",
            "Epoch 12/50\n",
            "11/11 [==============================] - 0s 35ms/step - loss: -98.1002 - accuracy: 0.1429 - val_loss: -142.7065 - val_accuracy: 0.1429\n",
            "Epoch 13/50\n",
            "11/11 [==============================] - 1s 54ms/step - loss: -144.2728 - accuracy: 0.1429 - val_loss: -210.0425 - val_accuracy: 0.1429\n",
            "Epoch 14/50\n",
            "11/11 [==============================] - 1s 47ms/step - loss: -211.6876 - accuracy: 0.1429 - val_loss: -301.9297 - val_accuracy: 0.1429\n",
            "Epoch 15/50\n",
            "11/11 [==============================] - 0s 44ms/step - loss: -302.9836 - accuracy: 0.1429 - val_loss: -419.6239 - val_accuracy: 0.1429\n",
            "Epoch 16/50\n",
            "11/11 [==============================] - 0s 36ms/step - loss: -427.2713 - accuracy: 0.1429 - val_loss: -582.0199 - val_accuracy: 0.1429\n",
            "Epoch 17/50\n",
            "11/11 [==============================] - 0s 35ms/step - loss: -594.9146 - accuracy: 0.1429 - val_loss: -784.1097 - val_accuracy: 0.1429\n",
            "Epoch 18/50\n",
            "11/11 [==============================] - 1s 48ms/step - loss: -814.0397 - accuracy: 0.1429 - val_loss: -1037.5305 - val_accuracy: 0.1429\n",
            "Epoch 19/50\n",
            "11/11 [==============================] - 0s 38ms/step - loss: -1074.5388 - accuracy: 0.1429 - val_loss: -1362.7595 - val_accuracy: 0.1429\n",
            "Epoch 20/50\n",
            "11/11 [==============================] - 0s 36ms/step - loss: -1421.8655 - accuracy: 0.1429 - val_loss: -1742.4009 - val_accuracy: 0.1429\n",
            "Epoch 21/50\n",
            "11/11 [==============================] - 0s 36ms/step - loss: -1836.6914 - accuracy: 0.1429 - val_loss: -2257.1575 - val_accuracy: 0.1429\n",
            "Epoch 22/50\n",
            "11/11 [==============================] - 0s 35ms/step - loss: -2348.1489 - accuracy: 0.1429 - val_loss: -2831.5737 - val_accuracy: 0.1429\n",
            "Epoch 23/50\n",
            "11/11 [==============================] - 1s 52ms/step - loss: -3013.3459 - accuracy: 0.1429 - val_loss: -3529.5952 - val_accuracy: 0.1429\n",
            "Epoch 24/50\n",
            "11/11 [==============================] - 0s 41ms/step - loss: -3781.2607 - accuracy: 0.1429 - val_loss: -4423.6274 - val_accuracy: 0.1429\n",
            "Epoch 25/50\n",
            "11/11 [==============================] - 0s 42ms/step - loss: -4734.0508 - accuracy: 0.1429 - val_loss: -5469.8931 - val_accuracy: 0.1429\n",
            "Epoch 26/50\n",
            "11/11 [==============================] - 1s 58ms/step - loss: -5868.9907 - accuracy: 0.1429 - val_loss: -6821.8735 - val_accuracy: 0.1429\n",
            "Epoch 27/50\n",
            "11/11 [==============================] - 0s 41ms/step - loss: -7093.7305 - accuracy: 0.1429 - val_loss: -8319.9355 - val_accuracy: 0.1429\n",
            "Epoch 28/50\n",
            "11/11 [==============================] - 0s 35ms/step - loss: -8844.0557 - accuracy: 0.1429 - val_loss: -10105.2236 - val_accuracy: 0.1429\n",
            "Epoch 29/50\n",
            "11/11 [==============================] - 0s 35ms/step - loss: -10498.2002 - accuracy: 0.1429 - val_loss: -12058.2920 - val_accuracy: 0.1429\n",
            "Epoch 30/50\n",
            "11/11 [==============================] - 0s 33ms/step - loss: -12908.1641 - accuracy: 0.1429 - val_loss: -14392.2793 - val_accuracy: 0.1429\n",
            "Epoch 31/50\n",
            "11/11 [==============================] - 0s 40ms/step - loss: -15205.8604 - accuracy: 0.1429 - val_loss: -16997.0000 - val_accuracy: 0.1429\n",
            "Epoch 32/50\n",
            "11/11 [==============================] - 1s 53ms/step - loss: -18205.8047 - accuracy: 0.1429 - val_loss: -20091.4902 - val_accuracy: 0.1429\n",
            "Epoch 33/50\n",
            "11/11 [==============================] - 0s 36ms/step - loss: -21194.9688 - accuracy: 0.1429 - val_loss: -23619.9648 - val_accuracy: 0.1429\n",
            "Epoch 34/50\n",
            "11/11 [==============================] - 0s 35ms/step - loss: -24766.0625 - accuracy: 0.1429 - val_loss: -27661.1152 - val_accuracy: 0.1429\n",
            "Epoch 35/50\n",
            "11/11 [==============================] - 0s 39ms/step - loss: -29533.8281 - accuracy: 0.1429 - val_loss: -32363.4902 - val_accuracy: 0.1429\n",
            "Epoch 36/50\n",
            "11/11 [==============================] - 0s 45ms/step - loss: -34144.9805 - accuracy: 0.1429 - val_loss: -37557.4922 - val_accuracy: 0.1429\n",
            "Epoch 37/50\n",
            "11/11 [==============================] - 1s 53ms/step - loss: -39379.3828 - accuracy: 0.1429 - val_loss: -43180.2734 - val_accuracy: 0.1429\n",
            "Epoch 38/50\n",
            "11/11 [==============================] - 0s 36ms/step - loss: -45236.7188 - accuracy: 0.1429 - val_loss: -50312.4453 - val_accuracy: 0.1429\n",
            "Epoch 39/50\n",
            "11/11 [==============================] - 0s 35ms/step - loss: -52370.0820 - accuracy: 0.1429 - val_loss: -57516.3828 - val_accuracy: 0.1429\n",
            "Epoch 40/50\n",
            "11/11 [==============================] - 1s 51ms/step - loss: -59057.5781 - accuracy: 0.1429 - val_loss: -66033.0312 - val_accuracy: 0.1429\n",
            "Epoch 41/50\n",
            "11/11 [==============================] - 0s 35ms/step - loss: -67327.7578 - accuracy: 0.1429 - val_loss: -74786.3594 - val_accuracy: 0.1429\n",
            "Epoch 42/50\n",
            "11/11 [==============================] - 0s 37ms/step - loss: -77869.5625 - accuracy: 0.1429 - val_loss: -85012.6797 - val_accuracy: 0.1429\n",
            "Epoch 43/50\n",
            "11/11 [==============================] - 0s 35ms/step - loss: -87861.9453 - accuracy: 0.1429 - val_loss: -95699.9844 - val_accuracy: 0.1429\n",
            "Epoch 44/50\n",
            "11/11 [==============================] - 0s 35ms/step - loss: -99377.5312 - accuracy: 0.1429 - val_loss: -108039.9609 - val_accuracy: 0.1429\n",
            "Epoch 45/50\n",
            "11/11 [==============================] - 0s 35ms/step - loss: -111190.6406 - accuracy: 0.1429 - val_loss: -120190.4297 - val_accuracy: 0.1429\n",
            "Epoch 46/50\n",
            "11/11 [==============================] - 0s 35ms/step - loss: -125269.3125 - accuracy: 0.1429 - val_loss: -134693.4688 - val_accuracy: 0.1429\n",
            "Epoch 47/50\n",
            "11/11 [==============================] - 1s 55ms/step - loss: -138739.1562 - accuracy: 0.1429 - val_loss: -149965.5781 - val_accuracy: 0.1429\n",
            "Epoch 48/50\n",
            "11/11 [==============================] - 0s 44ms/step - loss: -154379.7344 - accuracy: 0.1429 - val_loss: -166935.4062 - val_accuracy: 0.1429\n",
            "Epoch 49/50\n",
            "11/11 [==============================] - 0s 42ms/step - loss: -170830.5312 - accuracy: 0.1429 - val_loss: -185540.3281 - val_accuracy: 0.1429\n",
            "Epoch 50/50\n",
            "11/11 [==============================] - 1s 55ms/step - loss: -191213.1250 - accuracy: 0.1429 - val_loss: -204858.1875 - val_accuracy: 0.1429\n",
            "3/3 [==============================] - 0s 9ms/step - loss: -204858.1875 - accuracy: 0.1429\n"
          ]
        }
      ],
      "source": [
        "accuracy = []\n",
        "for train_index, test_index in gkf.split(features, labels, groups=group_array):\n",
        "  train_features, train_labels = features[train_index], labels[train_index]\n",
        "  test_features, test_labels = features[test_index], labels[test_index]\n",
        "\n",
        "  scaler=StandardScaler()\n",
        "  train_features = scaler.fit_transform(train_features.reshape(-1,train_features.shape[-1])).reshape(train_features.shape)\n",
        "  test_features = scaler.transform(test_features.reshape(-1,test_features.shape[-1])).reshape(test_features.shape)\n",
        "\n",
        "  model = cnnmodel()\n",
        "  model.fit(train_features,train_labels,epochs=50,validation_data=(test_features,test_labels))\n",
        "  accuracy.append(model.evaluate(test_features,test_labels)[1])\n",
        "\n",
        "  break"
      ]
    },
    {
      "cell_type": "code",
      "execution_count": 156,
      "metadata": {},
      "outputs": [
        {
          "data": {
            "text/plain": [
              "14.28571492433548"
            ]
          },
          "execution_count": 156,
          "metadata": {},
          "output_type": "execute_result"
        }
      ],
      "source": [
        "accuracy[0]*100"
      ]
    },
    {
      "cell_type": "code",
      "execution_count": 171,
      "metadata": {},
      "outputs": [
        {
          "data": {
            "text/plain": [
              "array([1, 2, 3, 4, 5, 6, 7])"
            ]
          },
          "execution_count": 171,
          "metadata": {},
          "output_type": "execute_result"
        }
      ],
      "source": [
        "np.unique(labels)"
      ]
    },
    {
      "cell_type": "code",
      "execution_count": 174,
      "metadata": {
        "id": "uSM7pQskeF4c"
      },
      "outputs": [
        {
          "name": "stdout",
          "output_type": "stream",
          "text": [
            "3/3 [==============================] - 0s 11ms/step\n"
          ]
        },
        {
          "name": "stderr",
          "output_type": "stream",
          "text": [
            "c:\\Users\\praty\\AppData\\Local\\Programs\\Python\\Python310\\lib\\site-packages\\sklearn\\metrics\\_classification.py:1334: UndefinedMetricWarning: Precision and F-score are ill-defined and being set to 0.0 in labels with no predicted samples. Use `zero_division` parameter to control this behavior.\n",
            "  _warn_prf(average, modifier, msg_start, len(result))\n",
            "c:\\Users\\praty\\AppData\\Local\\Programs\\Python\\Python310\\lib\\site-packages\\sklearn\\metrics\\_classification.py:1334: UndefinedMetricWarning: Recall and F-score are ill-defined and being set to 0.0 in labels with no true samples. Use `zero_division` parameter to control this behavior.\n",
            "  _warn_prf(average, modifier, msg_start, len(result))\n"
          ]
        },
        {
          "ename": "TypeError",
          "evalue": "object of type 'int' has no len()",
          "output_type": "error",
          "traceback": [
            "\u001b[1;31m---------------------------------------------------------------------------\u001b[0m",
            "\u001b[1;31mTypeError\u001b[0m                                 Traceback (most recent call last)",
            "Cell \u001b[1;32mIn [174], line 5\u001b[0m\n\u001b[0;32m      2\u001b[0m y_pred \u001b[39m=\u001b[39m np\u001b[39m.\u001b[39marray(\u001b[39mlist\u001b[39m(\u001b[39mmap\u001b[39m(\u001b[39mlambda\u001b[39;00m x: np\u001b[39m.\u001b[39margmax(x), model\u001b[39m.\u001b[39mpredict(test_features))))\n\u001b[0;32m      4\u001b[0m cm \u001b[39m=\u001b[39m confusion_matrix(test_labels,y_pred)\n\u001b[1;32m----> 5\u001b[0m clr \u001b[39m=\u001b[39m classification_report(test_labels, y_pred, target_names\u001b[39m=\u001b[39;49m([\u001b[39m0\u001b[39;49m,\u001b[39m1\u001b[39;49m,\u001b[39m2\u001b[39;49m,\u001b[39m3\u001b[39;49m,\u001b[39m4\u001b[39;49m,\u001b[39m5\u001b[39;49m,\u001b[39m6\u001b[39;49m,\u001b[39m7\u001b[39;49m]))\n\u001b[0;32m      6\u001b[0m sns\u001b[39m.\u001b[39mheadmap(cm, annot\u001b[39m=\u001b[39m\u001b[39mTrue\u001b[39;00m, vmin\u001b[39m=\u001b[39m\u001b[39m0\u001b[39m, fmt\u001b[39m=\u001b[39m\u001b[39m'\u001b[39m\u001b[39mg\u001b[39m\u001b[39m'\u001b[39m, cbar\u001b[39m=\u001b[39m\u001b[39mFalse\u001b[39;00m, cmap\u001b[39m=\u001b[39m\u001b[39m'\u001b[39m\u001b[39mBlues\u001b[39m\u001b[39m'\u001b[39m)\n\u001b[0;32m      7\u001b[0m plt\u001b[39m.\u001b[39mxtricks()\n",
            "File \u001b[1;32mc:\\Users\\praty\\AppData\\Local\\Programs\\Python\\Python310\\lib\\site-packages\\sklearn\\metrics\\_classification.py:2185\u001b[0m, in \u001b[0;36mclassification_report\u001b[1;34m(y_true, y_pred, labels, target_names, sample_weight, digits, output_dict, zero_division)\u001b[0m\n\u001b[0;32m   2183\u001b[0m \u001b[39melse\u001b[39;00m:\n\u001b[0;32m   2184\u001b[0m     longest_last_line_heading \u001b[39m=\u001b[39m \u001b[39m\"\u001b[39m\u001b[39mweighted avg\u001b[39m\u001b[39m\"\u001b[39m\n\u001b[1;32m-> 2185\u001b[0m     name_width \u001b[39m=\u001b[39m \u001b[39mmax\u001b[39;49m(\u001b[39mlen\u001b[39;49m(cn) \u001b[39mfor\u001b[39;49;00m cn \u001b[39min\u001b[39;49;00m target_names)\n\u001b[0;32m   2186\u001b[0m     width \u001b[39m=\u001b[39m \u001b[39mmax\u001b[39m(name_width, \u001b[39mlen\u001b[39m(longest_last_line_heading), digits)\n\u001b[0;32m   2187\u001b[0m     head_fmt \u001b[39m=\u001b[39m \u001b[39m\"\u001b[39m\u001b[39m{\u001b[39m\u001b[39m:>\u001b[39m\u001b[39m{width}\u001b[39;00m\u001b[39ms} \u001b[39m\u001b[39m\"\u001b[39m \u001b[39m+\u001b[39m \u001b[39m\"\u001b[39m\u001b[39m \u001b[39m\u001b[39m{:>9}\u001b[39;00m\u001b[39m\"\u001b[39m \u001b[39m*\u001b[39m \u001b[39mlen\u001b[39m(headers)\n",
            "File \u001b[1;32mc:\\Users\\praty\\AppData\\Local\\Programs\\Python\\Python310\\lib\\site-packages\\sklearn\\metrics\\_classification.py:2185\u001b[0m, in \u001b[0;36m<genexpr>\u001b[1;34m(.0)\u001b[0m\n\u001b[0;32m   2183\u001b[0m \u001b[39melse\u001b[39;00m:\n\u001b[0;32m   2184\u001b[0m     longest_last_line_heading \u001b[39m=\u001b[39m \u001b[39m\"\u001b[39m\u001b[39mweighted avg\u001b[39m\u001b[39m\"\u001b[39m\n\u001b[1;32m-> 2185\u001b[0m     name_width \u001b[39m=\u001b[39m \u001b[39mmax\u001b[39m(\u001b[39mlen\u001b[39;49m(cn) \u001b[39mfor\u001b[39;00m cn \u001b[39min\u001b[39;00m target_names)\n\u001b[0;32m   2186\u001b[0m     width \u001b[39m=\u001b[39m \u001b[39mmax\u001b[39m(name_width, \u001b[39mlen\u001b[39m(longest_last_line_heading), digits)\n\u001b[0;32m   2187\u001b[0m     head_fmt \u001b[39m=\u001b[39m \u001b[39m\"\u001b[39m\u001b[39m{\u001b[39m\u001b[39m:>\u001b[39m\u001b[39m{width}\u001b[39;00m\u001b[39ms} \u001b[39m\u001b[39m\"\u001b[39m \u001b[39m+\u001b[39m \u001b[39m\"\u001b[39m\u001b[39m \u001b[39m\u001b[39m{:>9}\u001b[39;00m\u001b[39m\"\u001b[39m \u001b[39m*\u001b[39m \u001b[39mlen\u001b[39m(headers)\n",
            "\u001b[1;31mTypeError\u001b[0m: object of type 'int' has no len()"
          ]
        }
      ],
      "source": [
        "from sklearn.metrics import confusion_matrix, classification_report\n",
        "y_pred = np.array(list(map(lambda x: np.argmax(x), model.predict(test_features))))\n",
        "\n",
        "cm = confusion_matrix(test_labels,y_pred)\n",
        "clr = classification_report(test_labels, y_pred, target_names=([0,1,2,3,4,5,6,7]))\n",
        "sns.headmap(cm, annot=True, vmin=0, fmt='g', cbar=False, cmap='Blues')\n",
        "plt.xtricks()\n",
        "plt.shoe"
      ]
    }
  ],
  "metadata": {
    "colab": {
      "include_colab_link": true,
      "provenance": []
    },
    "kernelspec": {
      "display_name": "Python 3.10.0 64-bit",
      "language": "python",
      "name": "python3"
    },
    "language_info": {
      "codemirror_mode": {
        "name": "ipython",
        "version": 3
      },
      "file_extension": ".py",
      "mimetype": "text/x-python",
      "name": "python",
      "nbconvert_exporter": "python",
      "pygments_lexer": "ipython3",
      "version": "3.10.0"
    },
    "vscode": {
      "interpreter": {
        "hash": "2018d4fa3a295805076100a47adce640aae81e3b314220eb505133c827dd356c"
      }
    }
  },
  "nbformat": 4,
  "nbformat_minor": 0
}
